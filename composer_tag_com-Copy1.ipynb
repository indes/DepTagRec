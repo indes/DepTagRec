{
 "cells": [
  {
   "cell_type": "code",
   "execution_count": 1,
   "metadata": {},
   "outputs": [],
   "source": [
    "import pymongo\n",
    "from tqdm import tqdm\n",
    "import os"
   ]
  },
  {
   "cell_type": "code",
   "execution_count": 2,
   "metadata": {},
   "outputs": [],
   "source": [
    "client = pymongo.MongoClient(host=\"192.168.0.106\", port=29197)\n",
    "client[\"github\"].authenticate(\"github\", \"git332\", \"github\")\n",
    "db = client[\"github\"]"
   ]
  },
  {
   "cell_type": "code",
   "execution_count": 3,
   "metadata": {},
   "outputs": [],
   "source": [
    "db1 = db.all_step3\n",
    "db2 = db.composer_require_set_detail\n",
    "db3 = db.composer_tag_top100"
   ]
  },
  {
   "cell_type": "code",
   "execution_count": 4,
   "metadata": {},
   "outputs": [
    {
     "ename": "NameError",
     "evalue": "name 'd' is not defined",
     "output_type": "error",
     "traceback": [
      "\u001b[0;31m---------------------------------------------------------------------------\u001b[0m",
      "\u001b[0;31mNameError\u001b[0m                                 Traceback (most recent call last)",
      "\u001b[0;32m<ipython-input-4-a7a9ce098d23>\u001b[0m in \u001b[0;36m<module>\u001b[0;34m\u001b[0m\n\u001b[0;32m----> 1\u001b[0;31m \u001b[0md\u001b[0m\u001b[0;34m[\u001b[0m\u001b[0;34m\"composer_paser\"\u001b[0m\u001b[0;34m]\u001b[0m\u001b[0;34m[\u001b[0m\u001b[0;34m\"require\"\u001b[0m\u001b[0;34m]\u001b[0m\u001b[0;34m\u001b[0m\u001b[0;34m\u001b[0m\u001b[0m\n\u001b[0m",
      "\u001b[0;31mNameError\u001b[0m: name 'd' is not defined"
     ]
    }
   ],
   "source": [
    "d[\"composer_paser\"][\"require\"]"
   ]
  },
  {
   "cell_type": "code",
   "execution_count": 4,
   "metadata": {},
   "outputs": [
    {
     "name": "stderr",
     "output_type": "stream",
     "text": [
      "100%|██████████| 29368/29368 [04:44<00:00, 103.30it/s]\n"
     ]
    }
   ],
   "source": [
    "for d in tqdm(list(db1.find())):\n",
    "    if \"composer_paser\" in d:\n",
    "        composer_tag_map = {}\n",
    "        try:\n",
    "            for r in d[\"composer_paser\"][\"require\"]:\n",
    "                if db2.find_one({\"name\":r}):\n",
    "                    r_detail = db2.find_one({\"name\":r})\n",
    "                    for t in r_detail[\"keywords\"]:\n",
    "                        if db3.find_one({\"name\":t}):\n",
    "                            if t in composer_tag_map:\n",
    "                                composer_tag_map[t] += 1\n",
    "                            else:\n",
    "                                composer_tag_map[t] = 1\n",
    "        except:\n",
    "            pass\n",
    "        \n",
    "        d[\"composer_tag\"] = composer_tag_map\n",
    "        db1.update_one({'_id': d['_id']}, {\"$set\": d})\n",
    "                    \n",
    "#                         composer_tag_set.add(t)\n",
    "#         break"
   ]
  },
  {
   "cell_type": "code",
   "execution_count": 7,
   "metadata": {},
   "outputs": [
    {
     "data": {
      "text/plain": [
       "{}"
      ]
     },
     "execution_count": 7,
     "metadata": {},
     "output_type": "execute_result"
    }
   ],
   "source": [
    "composer_tag_map"
   ]
  },
  {
   "cell_type": "code",
   "execution_count": 9,
   "metadata": {},
   "outputs": [
    {
     "data": {
      "text/plain": [
       "{'_id': ObjectId('5cd54b577df432344f856529'),\n",
       " 'topic': 'php',\n",
       " 'link': '/modxcms/evolution',\n",
       " 'star': '180',\n",
       " 'crawl_url': 'https://github.com/search?l=&p=36&q=stars%3A180..199+language%3APHP&ref=advsearch&type=Repositories&utf8=%E2%9C%93',\n",
       " 'archive_url': 'https://api.github.com/repos/modxcms/evolution/{archive_format}{/ref}',\n",
       " 'archived': False,\n",
       " 'assignees_url': 'https://api.github.com/repos/modxcms/evolution/assignees{/user}',\n",
       " 'blobs_url': 'https://api.github.com/repos/modxcms/evolution/git/blobs{/sha}',\n",
       " 'branches_url': 'https://api.github.com/repos/modxcms/evolution/branches{/branch}',\n",
       " 'clone_url': 'https://github.com/modxcms/evolution.git',\n",
       " 'collaborators_url': 'https://api.github.com/repos/modxcms/evolution/collaborators{/collaborator}',\n",
       " 'comments_url': 'https://api.github.com/repos/modxcms/evolution/comments{/number}',\n",
       " 'commits_url': 'https://api.github.com/repos/modxcms/evolution/commits{/sha}',\n",
       " 'compare_url': 'https://api.github.com/repos/modxcms/evolution/compare/{base}...{head}',\n",
       " 'contents_url': 'https://api.github.com/repos/modxcms/evolution/contents/{+path}',\n",
       " 'contributors_url': 'https://api.github.com/repos/modxcms/evolution/contributors',\n",
       " 'created_at': '2010-08-04T20:44:39Z',\n",
       " 'default_branch': 'master',\n",
       " 'deployments_url': 'https://api.github.com/repos/modxcms/evolution/deployments',\n",
       " 'description': 'This repository was Frozen. Welcome to the new evolution of MODX Evolution!',\n",
       " 'disabled': False,\n",
       " 'downloads_url': 'https://api.github.com/repos/modxcms/evolution/downloads',\n",
       " 'events_url': 'https://api.github.com/repos/modxcms/evolution/events',\n",
       " 'fork': False,\n",
       " 'forks': 178,\n",
       " 'forks_count': 178,\n",
       " 'forks_url': 'https://api.github.com/repos/modxcms/evolution/forks',\n",
       " 'full_name': 'modxcms/evolution',\n",
       " 'git_commits_url': 'https://api.github.com/repos/modxcms/evolution/git/commits{/sha}',\n",
       " 'git_refs_url': 'https://api.github.com/repos/modxcms/evolution/git/refs{/sha}',\n",
       " 'git_tags_url': 'https://api.github.com/repos/modxcms/evolution/git/tags{/sha}',\n",
       " 'git_url': 'git://github.com/modxcms/evolution.git',\n",
       " 'has_downloads': True,\n",
       " 'has_issues': True,\n",
       " 'has_pages': False,\n",
       " 'has_projects': True,\n",
       " 'has_wiki': True,\n",
       " 'homepage': 'https://github.com/evolution-cms/',\n",
       " 'hooks_url': 'https://api.github.com/repos/modxcms/evolution/hooks',\n",
       " 'html_url': 'https://github.com/modxcms/evolution',\n",
       " 'id': 817850,\n",
       " 'issue_comment_url': 'https://api.github.com/repos/modxcms/evolution/issues/comments{/number}',\n",
       " 'issue_events_url': 'https://api.github.com/repos/modxcms/evolution/issues/events{/number}',\n",
       " 'issues_url': 'https://api.github.com/repos/modxcms/evolution/issues{/number}',\n",
       " 'keys_url': 'https://api.github.com/repos/modxcms/evolution/keys{/key_id}',\n",
       " 'labels_url': 'https://api.github.com/repos/modxcms/evolution/labels{/name}',\n",
       " 'language': 'PHP',\n",
       " 'languages_url': 'https://api.github.com/repos/modxcms/evolution/languages',\n",
       " 'license': None,\n",
       " 'merges_url': 'https://api.github.com/repos/modxcms/evolution/merges',\n",
       " 'milestones_url': 'https://api.github.com/repos/modxcms/evolution/milestones{/number}',\n",
       " 'mirror_url': None,\n",
       " 'name': 'evolution',\n",
       " 'network_count': 178,\n",
       " 'node_id': 'MDEwOlJlcG9zaXRvcnk4MTc4NTA=',\n",
       " 'notifications_url': 'https://api.github.com/repos/modxcms/evolution/notifications{?since,all,participating}',\n",
       " 'open_issues': 2,\n",
       " 'open_issues_count': 2,\n",
       " 'organization': {'login': 'modxcms',\n",
       "  'id': 232723,\n",
       "  'node_id': 'MDEyOk9yZ2FuaXphdGlvbjIzMjcyMw==',\n",
       "  'avatar_url': 'https://avatars3.githubusercontent.com/u/232723?v=4',\n",
       "  'gravatar_id': '',\n",
       "  'url': 'https://api.github.com/users/modxcms',\n",
       "  'html_url': 'https://github.com/modxcms',\n",
       "  'followers_url': 'https://api.github.com/users/modxcms/followers',\n",
       "  'following_url': 'https://api.github.com/users/modxcms/following{/other_user}',\n",
       "  'gists_url': 'https://api.github.com/users/modxcms/gists{/gist_id}',\n",
       "  'starred_url': 'https://api.github.com/users/modxcms/starred{/owner}{/repo}',\n",
       "  'subscriptions_url': 'https://api.github.com/users/modxcms/subscriptions',\n",
       "  'organizations_url': 'https://api.github.com/users/modxcms/orgs',\n",
       "  'repos_url': 'https://api.github.com/users/modxcms/repos',\n",
       "  'events_url': 'https://api.github.com/users/modxcms/events{/privacy}',\n",
       "  'received_events_url': 'https://api.github.com/users/modxcms/received_events',\n",
       "  'type': 'Organization',\n",
       "  'site_admin': False},\n",
       " 'owner': {'login': 'modxcms',\n",
       "  'id': 232723,\n",
       "  'node_id': 'MDEyOk9yZ2FuaXphdGlvbjIzMjcyMw==',\n",
       "  'avatar_url': 'https://avatars3.githubusercontent.com/u/232723?v=4',\n",
       "  'gravatar_id': '',\n",
       "  'url': 'https://api.github.com/users/modxcms',\n",
       "  'html_url': 'https://github.com/modxcms',\n",
       "  'followers_url': 'https://api.github.com/users/modxcms/followers',\n",
       "  'following_url': 'https://api.github.com/users/modxcms/following{/other_user}',\n",
       "  'gists_url': 'https://api.github.com/users/modxcms/gists{/gist_id}',\n",
       "  'starred_url': 'https://api.github.com/users/modxcms/starred{/owner}{/repo}',\n",
       "  'subscriptions_url': 'https://api.github.com/users/modxcms/subscriptions',\n",
       "  'organizations_url': 'https://api.github.com/users/modxcms/orgs',\n",
       "  'repos_url': 'https://api.github.com/users/modxcms/repos',\n",
       "  'events_url': 'https://api.github.com/users/modxcms/events{/privacy}',\n",
       "  'received_events_url': 'https://api.github.com/users/modxcms/received_events',\n",
       "  'type': 'Organization',\n",
       "  'site_admin': False},\n",
       " 'permissions': {'admin': False, 'push': False, 'pull': True},\n",
       " 'private': False,\n",
       " 'pulls_url': 'https://api.github.com/repos/modxcms/evolution/pulls{/number}',\n",
       " 'pushed_at': '2018-12-10T14:05:24Z',\n",
       " 'releases_url': 'https://api.github.com/repos/modxcms/evolution/releases{/id}',\n",
       " 'size': 40547,\n",
       " 'ssh_url': 'git@github.com:modxcms/evolution.git',\n",
       " 'stargazers_count': 180,\n",
       " 'stargazers_url': 'https://api.github.com/repos/modxcms/evolution/stargazers',\n",
       " 'statuses_url': 'https://api.github.com/repos/modxcms/evolution/statuses/{sha}',\n",
       " 'subscribers_count': 50,\n",
       " 'subscribers_url': 'https://api.github.com/repos/modxcms/evolution/subscribers',\n",
       " 'subscription_url': 'https://api.github.com/repos/modxcms/evolution/subscription',\n",
       " 'svn_url': 'https://github.com/modxcms/evolution',\n",
       " 'tags_url': 'https://api.github.com/repos/modxcms/evolution/tags',\n",
       " 'teams_url': 'https://api.github.com/repos/modxcms/evolution/teams',\n",
       " 'trees_url': 'https://api.github.com/repos/modxcms/evolution/git/trees{/sha}',\n",
       " 'updated_at': '2019-04-24T09:08:22Z',\n",
       " 'url': 'https://api.github.com/repos/modxcms/evolution',\n",
       " 'watchers': 180,\n",
       " 'watchers_count': 180,\n",
       " 'topics': ['content', 'CMS', 'routing', 'templating'],\n",
       " 'lang': {'PHP': 8477709,\n",
       "  'JavaScript': 2398052,\n",
       "  'CSS': 389199,\n",
       "  'Smarty': 132332,\n",
       "  'HTML': 111706,\n",
       "  'Makefile': 1987},\n",
       " 'readme_file': 1,\n",
       " 'composer_file': 0,\n",
       " 'package_file': 0,\n",
       " 'composer_paser': {'name': 'evolutioncms/evolution',\n",
       "  'description': 'Evolution CMS is a Content Management System, ex MODX Evolution',\n",
       "  'type': 'project',\n",
       "  'keywords': ['content', 'CMS', 'routing', 'templating'],\n",
       "  'homepage': 'http://evo.im/',\n",
       "  'license': 'GPL-2.0+',\n",
       "  'authors': [{'name': 'Dmytro Lukianenko',\n",
       "    'email': 'dmi3yy@gmail.com',\n",
       "    'homepage': 'http://dmi3yy.com',\n",
       "    'role': 'Developer'}],\n",
       "  'support': {'docs': 'http://docs.evo.im',\n",
       "   'email': 'dmi3yy@evo.im',\n",
       "   'telegram': 'https://t.me/evolutioncms',\n",
       "   'issues': 'https://github.com/evolution-cms/evolution/issues/',\n",
       "   'source': 'https://github.com/evolution-cms/evolution/'},\n",
       "  'config': {'vendor-dir': 'vendor'},\n",
       "  'require': {'php': '>=5.6'},\n",
       "  'minimum-stability': 'dev',\n",
       "  'prefer-stable': True,\n",
       "  'require_set': ['php']},\n",
       " 'readme_parser': 'evolut cm evolut cm requir php gt 5 6what evoevo open sourc content manag system applic framework historyiniti inspir etomit 0 6 modx evolut 0 7 1 0 8 ongo project write raymond irv core team contributor modx evolut cm maintain dmytro lukianenko core team contributor evo project licenseevo distribut gpl licens run profession team develop world visit forum inform featuresevo provid fast lightweight power framework deploy secur websit web applic exampl give true system regist web user group separ administr user grant web user access page access page content manag easili duplic document folder child chunk snippet signific evo s abil empow quickli easili creat maintain rich dynam websit like installjust use evo installerscreenshotsreferencesoffici websit http evo be download http github com evolut cm evolut releasesprevi releas http modx com download evolut previou releas htmlextra http extra evo imdocument http doc evo imhttp evolut doc com',\n",
       " 'composer_tag': {}}"
      ]
     },
     "execution_count": 9,
     "metadata": {},
     "output_type": "execute_result"
    }
   ],
   "source": [
    "d"
   ]
  },
  {
   "cell_type": "code",
   "execution_count": 8,
   "metadata": {},
   "outputs": [
    {
     "ename": "NameError",
     "evalue": "name 'composer_tag_set' is not defined",
     "output_type": "error",
     "traceback": [
      "\u001b[0;31m---------------------------------------------------------------------------\u001b[0m",
      "\u001b[0;31mNameError\u001b[0m                                 Traceback (most recent call last)",
      "\u001b[0;32m<ipython-input-8-937c60d23a17>\u001b[0m in \u001b[0;36m<module>\u001b[0;34m\u001b[0m\n\u001b[0;32m----> 1\u001b[0;31m \u001b[0mcomposer_tag_set\u001b[0m\u001b[0;34m\u001b[0m\u001b[0;34m\u001b[0m\u001b[0m\n\u001b[0m",
      "\u001b[0;31mNameError\u001b[0m: name 'composer_tag_set' is not defined"
     ]
    }
   ],
   "source": [
    "composer_tag_set"
   ]
  },
  {
   "cell_type": "code",
   "execution_count": 23,
   "metadata": {},
   "outputs": [],
   "source": [
    "db2.find_one({\"name\":r})"
   ]
  },
  {
   "cell_type": "code",
   "execution_count": 15,
   "metadata": {},
   "outputs": [
    {
     "data": {
      "text/plain": [
       "100"
      ]
     },
     "execution_count": 15,
     "metadata": {},
     "output_type": "execute_result"
    }
   ],
   "source": [
    "len(list(db2.find()))"
   ]
  }
 ],
 "metadata": {
  "kernelspec": {
   "display_name": "ml",
   "language": "python",
   "name": "ml"
  },
  "language_info": {
   "codemirror_mode": {
    "name": "ipython",
    "version": 3
   },
   "file_extension": ".py",
   "mimetype": "text/x-python",
   "name": "python",
   "nbconvert_exporter": "python",
   "pygments_lexer": "ipython3",
   "version": "3.7.2"
  }
 },
 "nbformat": 4,
 "nbformat_minor": 2
}
