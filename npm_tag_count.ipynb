{
 "cells": [
  {
   "cell_type": "code",
   "execution_count": 1,
   "metadata": {},
   "outputs": [
    {
     "name": "stderr",
     "output_type": "stream",
     "text": [
      "/home/li/anaconda3/envs/ml/lib/python3.7/site-packages/sklearn/feature_extraction/text.py:17: DeprecationWarning: Using or importing the ABCs from 'collections' instead of from 'collections.abc' is deprecated, and in 3.8 it will stop working\n",
      "  from collections import Mapping, defaultdict\n"
     ]
    }
   ],
   "source": [
    "import pymongo\n",
    "from tqdm import tqdm\n",
    "import os\n",
    "import markdown\n",
    "import re\n",
    "from nltk.stem import PorterStemmer\n",
    "st=PorterStemmer()"
   ]
  },
  {
   "cell_type": "code",
   "execution_count": 2,
   "metadata": {},
   "outputs": [],
   "source": [
    "client = pymongo.MongoClient(host=\"192.168.0.106\", port=29197)\n",
    "client[\"github\"].authenticate(\"github\", \"git332\", \"github\")\n",
    "db = client[\"github\"]"
   ]
  },
  {
   "cell_type": "code",
   "execution_count": 16,
   "metadata": {},
   "outputs": [],
   "source": [
    "db1 = db.npm_require_map\n",
    "db2 = db.npm_require_map_detail\n",
    "db3 = db.npm_tag_stem_top100"
   ]
  },
  {
   "cell_type": "code",
   "execution_count": 11,
   "metadata": {},
   "outputs": [
    {
     "name": "stderr",
     "output_type": "stream",
     "text": [
      "31930it [11:33, 46.01it/s]\n"
     ]
    }
   ],
   "source": [
    "tag_map = {}\n",
    "i = 0\n",
    "for d in tqdm(db1.find()):\n",
    "    i += 1\n",
    "    if db2.find_one({\"name\":d[\"require\"]}):\n",
    "        d2 = db2.find_one({\"name\":d[\"require\"]})\n",
    "        if \"keywords\" in d2:\n",
    "            for k in d2[\"keywords\"]:\n",
    "                if k.find(\"javascript\") == -1 and k.find(\"js\") == -1 and k.find(\"es\") == -1 and k.find(\"lint\") == -1 and k.find(\"node\"):\n",
    "                    k = st.stem(k)\n",
    "                    if k in tag_map:\n",
    "                        tag_map[k] += d[\"count\"]\n",
    "                    else:\n",
    "                        tag_map[k] = d[\"count\"]\n",
    "                        \n",
    "# for d in db2.find():\n",
    "#     i += 1\n",
    "#     if \"keywords\" in d:\n",
    "#         for k in d[\"keywords\"]:\n",
    "#             if k in tag_map:\n",
    "#                 tag_map[k] += 1\n",
    "#             else:\n",
    "#                 tag_map[k] = 1\n",
    "                \n",
    "# for d in db3.find():\n",
    "#     i += 1\n",
    "#     if \"keywords\" in d:\n",
    "#         for k in d[\"keywords\"]:\n",
    "#             if k in tag_map:\n",
    "#                 tag_map[k] += 1\n",
    "#             else:\n",
    "#                 tag_map[k] = 1"
   ]
  },
  {
   "cell_type": "code",
   "execution_count": 6,
   "metadata": {},
   "outputs": [
    {
     "data": {
      "text/plain": [
       "22996"
      ]
     },
     "execution_count": 6,
     "metadata": {},
     "output_type": "execute_result"
    }
   ],
   "source": [
    "len(tag_map)"
   ]
  },
  {
   "cell_type": "code",
   "execution_count": 12,
   "metadata": {},
   "outputs": [
    {
     "data": {
      "text/plain": [
       "19663"
      ]
     },
     "execution_count": 12,
     "metadata": {},
     "output_type": "execute_result"
    }
   ],
   "source": [
    "len(tag_map)"
   ]
  },
  {
   "cell_type": "code",
   "execution_count": 14,
   "metadata": {},
   "outputs": [
    {
     "data": {
      "text/plain": [
       "[('babel', 40926),\n",
       " ('ast', 35500),\n",
       " ('compil', 34842),\n",
       " ('react', 30211),\n",
       " ('webpack', 27551),\n",
       " ('flavortown', 26769),\n",
       " ('transpil', 19134),\n",
       " ('browser', 18457),\n",
       " ('css', 18342),\n",
       " ('tdd', 15515),\n",
       " ('mocha', 15162),\n",
       " ('cli', 15054),\n",
       " ('assert', 15027),\n",
       " ('ecmascript', 13407),\n",
       " ('gruntplugin', 13121),\n",
       " ('loader', 12612),\n",
       " ('gulpplugin', 11954),\n",
       " ('bdd', 11614),\n",
       " ('util', 11008),\n",
       " ('plugin', 10032),\n",
       " ('webpack-load', 9910),\n",
       " ('babel-plugin', 9759),\n",
       " ('stream', 9712),\n",
       " ('librari', 9475),\n",
       " ('html', 9289),\n",
       " ('tap', 9268),\n",
       " ('ui', 9185),\n",
       " ('minifi', 9088),\n",
       " ('frontend', 9066),\n",
       " ('parser', 8995),\n",
       " ('server', 8512),\n",
       " ('static-code-analysi', 8255),\n",
       " ('web', 8164),\n",
       " ('file', 8121),\n",
       " ('http', 8012),\n",
       " ('karma-plugin', 7899),\n",
       " ('log', 7694),\n",
       " ('style', 7661),\n",
       " ('6to5', 7632),\n",
       " ('coverag', 7596),\n",
       " ('declar', 7497),\n",
       " ('qunit', 7250),\n",
       " ('framework', 7159),\n",
       " ('async', 7139),\n",
       " ('middlewar', 7101),\n",
       " ('modul', 7075),\n",
       " ('expect', 6899),\n",
       " ('vue', 6734),\n",
       " ('npm', 6731),\n",
       " ('lodash', 6488),\n",
       " ('jasmin', 6313),\n",
       " ('promis', 6218),\n",
       " ('import', 6200),\n",
       " ('tool', 6135),\n",
       " ('chai', 6019),\n",
       " ('uglifi', 5912),\n",
       " ('react-compon', 5785),\n",
       " ('build', 5736),\n",
       " ('harmoni', 5732),\n",
       " ('karma', 5724),\n",
       " ('valid', 5681),\n",
       " ('check', 5638),\n",
       " ('optim', 5546),\n",
       " ('develop', 5498),\n",
       " ('gulp', 5458),\n",
       " ('runner', 5449),\n",
       " ('watch', 5393),\n",
       " ('git', 5293),\n",
       " ('pars', 5257),\n",
       " ('scss', 5238),\n",
       " ('mock', 5089),\n",
       " ('format', 5080),\n",
       " ('var', 4977),\n",
       " ('make', 4969),\n",
       " ('color', 4955),\n",
       " ('angular', 4886),\n",
       " ('url', 4854),\n",
       " ('const', 4836),\n",
       " ('let', 4831),\n",
       " ('babel-cor', 4827),\n",
       " ('module-bundl', 4811),\n",
       " ('prettier', 4706),\n",
       " ('facebook', 4702),\n",
       " ('sass', 4694),\n",
       " ('stub', 4670),\n",
       " ('command', 4621),\n",
       " ('snapshot', 4617),\n",
       " ('markdown', 4602),\n",
       " ('api', 4588),\n",
       " ('postcss', 4544),\n",
       " ('router', 4498),\n",
       " ('app', 4354),\n",
       " ('string', 4340),\n",
       " ('scaffold', 4330),\n",
       " ('unit', 4297),\n",
       " ('code', 4259),\n",
       " ('requir', 4239),\n",
       " ('build-tool', 4143),\n",
       " ('ava', 4131),\n",
       " ('redux', 4096)]"
      ]
     },
     "execution_count": 14,
     "metadata": {},
     "output_type": "execute_result"
    }
   ],
   "source": [
    "sorted(tag_map.items(), key=lambda d: d[1], reverse=True)[:100]"
   ]
  },
  {
   "cell_type": "code",
   "execution_count": 15,
   "metadata": {},
   "outputs": [],
   "source": [
    "composer_tag_top100 = sorted(tag_map.items(), key=lambda d: d[1], reverse=True)[:100]"
   ]
  },
  {
   "cell_type": "code",
   "execution_count": 17,
   "metadata": {},
   "outputs": [],
   "source": [
    "for t in composer_tag_top100:\n",
    "    db3.insert_one({\"name\":t[0],\"count\":t[1]})"
   ]
  }
 ],
 "metadata": {
  "kernelspec": {
   "display_name": "ml",
   "language": "python",
   "name": "ml"
  },
  "language_info": {
   "codemirror_mode": {
    "name": "ipython",
    "version": 3
   },
   "file_extension": ".py",
   "mimetype": "text/x-python",
   "name": "python",
   "nbconvert_exporter": "python",
   "pygments_lexer": "ipython3",
   "version": "3.7.2"
  }
 },
 "nbformat": 4,
 "nbformat_minor": 2
}
