{
 "cells": [
  {
   "cell_type": "code",
   "execution_count": 42,
   "metadata": {},
   "outputs": [],
   "source": [
    "import pandas as pd\n",
    "from gensim import corpora, models\n",
    "from gensim.corpora import Dictionary\n",
    "from scipy.sparse import csr_matrix\n",
    "from tqdm import tqdm\n",
    "import numpy as np\n",
    "from sklearn.preprocessing import OneHotEncoder\n",
    "from sklearn import preprocessing\n",
    "import keras as K\n",
    "from sklearn.model_selection import train_test_split\n",
    "from sklearn.metrics import average_precision_score\n",
    "import tensorflow as tf\n",
    "import pymongo"
   ]
  },
  {
   "cell_type": "code",
   "execution_count": 43,
   "metadata": {},
   "outputs": [],
   "source": [
    "client = pymongo.MongoClient(host=\"192.168.0.106\", port=29197)\n",
    "client[\"github\"].authenticate(\"github\", \"git332\", \"github\")\n",
    "db = client[\"github\"]"
   ]
  },
  {
   "cell_type": "code",
   "execution_count": 44,
   "metadata": {},
   "outputs": [
    {
     "data": {
      "text/plain": [
       "116"
      ]
     },
     "execution_count": 44,
     "metadata": {},
     "output_type": "execute_result"
    }
   ],
   "source": [
    "tag_set = [x[\"name\"] for x in db.project_tag_more_than_100.find()]\n",
    "len(tag_set)"
   ]
  },
  {
   "cell_type": "code",
   "execution_count": 45,
   "metadata": {},
   "outputs": [],
   "source": [
    "lda = models.ldamodel.LdaModel.load('../model/readme_lda_256.model')"
   ]
  },
  {
   "cell_type": "code",
   "execution_count": 46,
   "metadata": {},
   "outputs": [
    {
     "data": {
      "text/html": [
       "<div>\n",
       "<style scoped>\n",
       "    .dataframe tbody tr th:only-of-type {\n",
       "        vertical-align: middle;\n",
       "    }\n",
       "\n",
       "    .dataframe tbody tr th {\n",
       "        vertical-align: top;\n",
       "    }\n",
       "\n",
       "    .dataframe thead th {\n",
       "        text-align: right;\n",
       "    }\n",
       "</style>\n",
       "<table border=\"1\" class=\"dataframe\">\n",
       "  <thead>\n",
       "    <tr style=\"text-align: right;\">\n",
       "      <th></th>\n",
       "      <th>project_link</th>\n",
       "      <th>file_readme</th>\n",
       "      <th>file_npm</th>\n",
       "      <th>file_pypi</th>\n",
       "      <th>file_composer</th>\n",
       "      <th>JavaScript</th>\n",
       "      <th>HTML</th>\n",
       "      <th>CSS</th>\n",
       "      <th>Python</th>\n",
       "      <th>Shell</th>\n",
       "      <th>...</th>\n",
       "      <th>pytorch</th>\n",
       "      <th>cach</th>\n",
       "      <th>laravel</th>\n",
       "      <th>data-sci</th>\n",
       "      <th>natural-language-process</th>\n",
       "      <th>authent</th>\n",
       "      <th>computer-vis</th>\n",
       "      <th>compos</th>\n",
       "      <th>python3</th>\n",
       "      <th>yii2</th>\n",
       "    </tr>\n",
       "  </thead>\n",
       "  <tbody>\n",
       "    <tr>\n",
       "      <th>0</th>\n",
       "      <td>/freeCodeCamp/freeCodeCamp</td>\n",
       "      <td>welcom freecodecamp org s open sourc codebas c...</td>\n",
       "      <td>1</td>\n",
       "      <td>0</td>\n",
       "      <td>0</td>\n",
       "      <td>0.941868</td>\n",
       "      <td>0.017145</td>\n",
       "      <td>0.039971</td>\n",
       "      <td>0.000000</td>\n",
       "      <td>0.001017</td>\n",
       "      <td>...</td>\n",
       "      <td>0</td>\n",
       "      <td>0</td>\n",
       "      <td>0</td>\n",
       "      <td>0</td>\n",
       "      <td>0</td>\n",
       "      <td>0</td>\n",
       "      <td>0</td>\n",
       "      <td>0</td>\n",
       "      <td>0</td>\n",
       "      <td>0</td>\n",
       "    </tr>\n",
       "    <tr>\n",
       "      <th>1</th>\n",
       "      <td>/vuejs/vue</td>\n",
       "      <td>support vue jsvue js mit licens open sourc pro...</td>\n",
       "      <td>1</td>\n",
       "      <td>0</td>\n",
       "      <td>0</td>\n",
       "      <td>0.976735</td>\n",
       "      <td>0.006227</td>\n",
       "      <td>0.003945</td>\n",
       "      <td>0.000000</td>\n",
       "      <td>0.001170</td>\n",
       "      <td>...</td>\n",
       "      <td>0</td>\n",
       "      <td>0</td>\n",
       "      <td>0</td>\n",
       "      <td>0</td>\n",
       "      <td>0</td>\n",
       "      <td>0</td>\n",
       "      <td>0</td>\n",
       "      <td>0</td>\n",
       "      <td>0</td>\n",
       "      <td>0</td>\n",
       "    </tr>\n",
       "    <tr>\n",
       "      <th>2</th>\n",
       "      <td>/twbs/bootstrap</td>\n",
       "      <td>bootstrap sleek intuit power end framework fas...</td>\n",
       "      <td>1</td>\n",
       "      <td>0</td>\n",
       "      <td>0</td>\n",
       "      <td>0.494735</td>\n",
       "      <td>0.182466</td>\n",
       "      <td>0.320497</td>\n",
       "      <td>0.000000</td>\n",
       "      <td>0.001512</td>\n",
       "      <td>...</td>\n",
       "      <td>0</td>\n",
       "      <td>0</td>\n",
       "      <td>0</td>\n",
       "      <td>0</td>\n",
       "      <td>0</td>\n",
       "      <td>0</td>\n",
       "      <td>0</td>\n",
       "      <td>0</td>\n",
       "      <td>0</td>\n",
       "      <td>0</td>\n",
       "    </tr>\n",
       "    <tr>\n",
       "      <th>3</th>\n",
       "      <td>/facebook/react</td>\n",
       "      <td>react middot react javascript librari build us...</td>\n",
       "      <td>1</td>\n",
       "      <td>0</td>\n",
       "      <td>0</td>\n",
       "      <td>0.951378</td>\n",
       "      <td>0.017036</td>\n",
       "      <td>0.003504</td>\n",
       "      <td>0.000079</td>\n",
       "      <td>0.001854</td>\n",
       "      <td>...</td>\n",
       "      <td>0</td>\n",
       "      <td>0</td>\n",
       "      <td>0</td>\n",
       "      <td>0</td>\n",
       "      <td>0</td>\n",
       "      <td>0</td>\n",
       "      <td>0</td>\n",
       "      <td>0</td>\n",
       "      <td>0</td>\n",
       "      <td>0</td>\n",
       "    </tr>\n",
       "  </tbody>\n",
       "</table>\n",
       "<p>4 rows × 451 columns</p>\n",
       "</div>"
      ],
      "text/plain": [
       "                 project_link  \\\n",
       "0  /freeCodeCamp/freeCodeCamp   \n",
       "1                  /vuejs/vue   \n",
       "2             /twbs/bootstrap   \n",
       "3             /facebook/react   \n",
       "\n",
       "                                         file_readme  file_npm  file_pypi  \\\n",
       "0  welcom freecodecamp org s open sourc codebas c...         1          0   \n",
       "1  support vue jsvue js mit licens open sourc pro...         1          0   \n",
       "2  bootstrap sleek intuit power end framework fas...         1          0   \n",
       "3  react middot react javascript librari build us...         1          0   \n",
       "\n",
       "   file_composer  JavaScript      HTML       CSS    Python     Shell  ...  \\\n",
       "0              0    0.941868  0.017145  0.039971  0.000000  0.001017  ...   \n",
       "1              0    0.976735  0.006227  0.003945  0.000000  0.001170  ...   \n",
       "2              0    0.494735  0.182466  0.320497  0.000000  0.001512  ...   \n",
       "3              0    0.951378  0.017036  0.003504  0.000079  0.001854  ...   \n",
       "\n",
       "   pytorch  cach  laravel  data-sci  natural-language-process  authent  \\\n",
       "0        0     0        0         0                         0        0   \n",
       "1        0     0        0         0                         0        0   \n",
       "2        0     0        0         0                         0        0   \n",
       "3        0     0        0         0                         0        0   \n",
       "\n",
       "   computer-vis  compos  python3  yii2  \n",
       "0             0       0        0     0  \n",
       "1             0       0        0     0  \n",
       "2             0       0        0     0  \n",
       "3             0       0        0     0  \n",
       "\n",
       "[4 rows x 451 columns]"
      ]
     },
     "execution_count": 46,
     "metadata": {},
     "output_type": "execute_result"
    }
   ],
   "source": [
    "data_raw = pd.read_csv(\"../data/data_raw.csv\", index_col=0)\n",
    "data_raw.head(4)"
   ]
  },
  {
   "cell_type": "code",
   "execution_count": 47,
   "metadata": {},
   "outputs": [],
   "source": [
    "data_tag = np.array(data_raw[tag_set]).astype(np.int64)"
   ]
  },
  {
   "cell_type": "code",
   "execution_count": 48,
   "metadata": {},
   "outputs": [
    {
     "data": {
      "text/plain": [
       "(25467, 451)"
      ]
     },
     "execution_count": 48,
     "metadata": {},
     "output_type": "execute_result"
    }
   ],
   "source": [
    "data_raw.shape"
   ]
  },
  {
   "cell_type": "code",
   "execution_count": 49,
   "metadata": {},
   "outputs": [
    {
     "data": {
      "text/plain": [
       "25467"
      ]
     },
     "execution_count": 49,
     "metadata": {},
     "output_type": "execute_result"
    }
   ],
   "source": [
    "readme_list = list(data_raw.file_readme)\n",
    "corpus = []\n",
    "\n",
    "for post in readme_list:\n",
    "    \n",
    "    corpus.append([word for word in str(post).strip().lower().split()])\n",
    "\n",
    "len(readme_list)"
   ]
  },
  {
   "cell_type": "code",
   "execution_count": 50,
   "metadata": {},
   "outputs": [],
   "source": [
    "dictionary = Dictionary(corpus)\n",
    "doc_bow = dictionary.doc2bow(corpus[0])\n",
    "lda_list = lda[doc_bow]"
   ]
  },
  {
   "cell_type": "code",
   "execution_count": 51,
   "metadata": {},
   "outputs": [],
   "source": [
    "corpus_lda = [lda[dictionary.doc2bow(doc)] for doc in corpus]"
   ]
  },
  {
   "cell_type": "code",
   "execution_count": 52,
   "metadata": {},
   "outputs": [],
   "source": [
    "data_matrix = []\n",
    "\n",
    "for post in corpus_lda:\n",
    "    arr = np.zeros(256)\n",
    "    for elem in post:\n",
    "        arr[elem[0]] = elem[1]\n",
    "    \n",
    "    data_matrix.append(arr)"
   ]
  },
  {
   "cell_type": "code",
   "execution_count": 53,
   "metadata": {},
   "outputs": [
    {
     "data": {
      "text/plain": [
       "25467"
      ]
     },
     "execution_count": 53,
     "metadata": {},
     "output_type": "execute_result"
    }
   ],
   "source": [
    "len(data_matrix)"
   ]
  },
  {
   "cell_type": "code",
   "execution_count": 54,
   "metadata": {},
   "outputs": [],
   "source": [
    "data_x_np = np.array(data_matrix)"
   ]
  },
  {
   "cell_type": "code",
   "execution_count": 55,
   "metadata": {},
   "outputs": [
    {
     "data": {
      "text/plain": [
       "256"
      ]
     },
     "execution_count": 55,
     "metadata": {},
     "output_type": "execute_result"
    }
   ],
   "source": [
    "len(data_x_np[1])"
   ]
  },
  {
   "cell_type": "code",
   "execution_count": 69,
   "metadata": {},
   "outputs": [
    {
     "data": {
      "text/plain": [
       "(25467, 256)"
      ]
     },
     "execution_count": 69,
     "metadata": {},
     "output_type": "execute_result"
    }
   ],
   "source": [
    "data_x_np.shape"
   ]
  },
  {
   "cell_type": "code",
   "execution_count": 56,
   "metadata": {},
   "outputs": [
    {
     "data": {
      "text/plain": [
       "116"
      ]
     },
     "execution_count": 56,
     "metadata": {},
     "output_type": "execute_result"
    }
   ],
   "source": [
    "len(tag_set)"
   ]
  },
  {
   "cell_type": "code",
   "execution_count": 57,
   "metadata": {},
   "outputs": [
    {
     "name": "stderr",
     "output_type": "stream",
     "text": [
      "/home/li/anaconda3/envs/ml/lib/python3.7/site-packages/keras/activations.py:211: UserWarning: Do not pass a layer instance (such as LeakyReLU) as the activation argument of another layer. Instead, advanced activation layers should be used just like any other layer in a model.\n",
      "  identifier=identifier.__class__.__name__))\n"
     ]
    }
   ],
   "source": [
    "import keras as K\n",
    "from keras.layers.advanced_activations import PReLU, LeakyReLU, Softmax\n",
    "init = K.initializers.glorot_uniform(seed=1)\n",
    "simple_adam = K.optimizers.Adam(lr=0.0001)\n",
    "model = K.models.Sequential()\n",
    "model.add(K.layers.Dense(units=400, input_dim=256, kernel_initializer=init, activation=LeakyReLU(0.7)))\n",
    "model.add(K.layers.Dense(units=600, kernel_initializer=init, activation=LeakyReLU(0.7)))\n",
    "model.add(K.layers.Dense(units=400, kernel_initializer=init, activation=LeakyReLU(0.7)))\n",
    "model.add(K.layers.Dense(units=116, kernel_initializer=init, activation=LeakyReLU(0.7)))\n",
    "model.compile(loss='mean_squared_error', optimizer=simple_adam, metrics=['categorical_accuracy'])"
   ]
  },
  {
   "cell_type": "code",
   "execution_count": 58,
   "metadata": {},
   "outputs": [],
   "source": [
    "train_x, test_x, train_y, test_y = train_test_split(data_x_np, data_tag, train_size=0.75, test_size=0.25, random_state=1)"
   ]
  },
  {
   "cell_type": "code",
   "execution_count": 59,
   "metadata": {},
   "outputs": [
    {
     "name": "stdout",
     "output_type": "stream",
     "text": [
      "Starting training \n",
      "Epoch 1/70\n",
      "19100/19100 [==============================] - 1s 57us/step - loss: 0.0244 - categorical_accuracy: 0.1574\n",
      "Epoch 2/70\n",
      "19100/19100 [==============================] - 1s 43us/step - loss: 0.0198 - categorical_accuracy: 0.0824\n",
      "Epoch 3/70\n",
      "19100/19100 [==============================] - 1s 43us/step - loss: 0.0190 - categorical_accuracy: 0.0999\n",
      "Epoch 4/70\n",
      "19100/19100 [==============================] - 1s 43us/step - loss: 0.0185 - categorical_accuracy: 0.1074\n",
      "Epoch 5/70\n",
      "19100/19100 [==============================] - 1s 43us/step - loss: 0.0183 - categorical_accuracy: 0.1059\n",
      "Epoch 6/70\n",
      "19100/19100 [==============================] - 1s 43us/step - loss: 0.0181 - categorical_accuracy: 0.1053\n",
      "Epoch 7/70\n",
      "19100/19100 [==============================] - 1s 43us/step - loss: 0.0180 - categorical_accuracy: 0.1090\n",
      "Epoch 8/70\n",
      "19100/19100 [==============================] - 1s 44us/step - loss: 0.0179 - categorical_accuracy: 0.1105\n",
      "Epoch 9/70\n",
      "19100/19100 [==============================] - 1s 42us/step - loss: 0.0178 - categorical_accuracy: 0.1104\n",
      "Epoch 10/70\n",
      "19100/19100 [==============================] - 1s 43us/step - loss: 0.0177 - categorical_accuracy: 0.1063\n",
      "Epoch 11/70\n",
      "19100/19100 [==============================] - 1s 43us/step - loss: 0.0177 - categorical_accuracy: 0.1112\n",
      "Epoch 12/70\n",
      "19100/19100 [==============================] - 1s 43us/step - loss: 0.0176 - categorical_accuracy: 0.1089\n",
      "Epoch 13/70\n",
      "19100/19100 [==============================] - 1s 43us/step - loss: 0.0176 - categorical_accuracy: 0.1122\n",
      "Epoch 14/70\n",
      "19100/19100 [==============================] - 1s 43us/step - loss: 0.0176 - categorical_accuracy: 0.1081\n",
      "Epoch 15/70\n",
      "19100/19100 [==============================] - 1s 43us/step - loss: 0.0175 - categorical_accuracy: 0.1124\n",
      "Epoch 16/70\n",
      "19100/19100 [==============================] - 1s 43us/step - loss: 0.0175 - categorical_accuracy: 0.1099\n",
      "Epoch 17/70\n",
      "19100/19100 [==============================] - 1s 43us/step - loss: 0.0175 - categorical_accuracy: 0.1096\n",
      "Epoch 18/70\n",
      "19100/19100 [==============================] - 1s 43us/step - loss: 0.0175 - categorical_accuracy: 0.1110\n",
      "Epoch 19/70\n",
      "19100/19100 [==============================] - 1s 43us/step - loss: 0.0174 - categorical_accuracy: 0.1080\n",
      "Epoch 20/70\n",
      "19100/19100 [==============================] - 1s 43us/step - loss: 0.0174 - categorical_accuracy: 0.1164\n",
      "Epoch 21/70\n",
      "19100/19100 [==============================] - 1s 42us/step - loss: 0.0174 - categorical_accuracy: 0.1146\n",
      "Epoch 22/70\n",
      "19100/19100 [==============================] - 1s 43us/step - loss: 0.0174 - categorical_accuracy: 0.1105\n",
      "Epoch 23/70\n",
      "19100/19100 [==============================] - 1s 43us/step - loss: 0.0174 - categorical_accuracy: 0.1127\n",
      "Epoch 24/70\n",
      "19100/19100 [==============================] - 1s 43us/step - loss: 0.0174 - categorical_accuracy: 0.1095\n",
      "Epoch 25/70\n",
      "19100/19100 [==============================] - 1s 43us/step - loss: 0.0173 - categorical_accuracy: 0.1173\n",
      "Epoch 26/70\n",
      "19100/19100 [==============================] - 1s 43us/step - loss: 0.0173 - categorical_accuracy: 0.1146\n",
      "Epoch 27/70\n",
      "19100/19100 [==============================] - 1s 43us/step - loss: 0.0173 - categorical_accuracy: 0.1128\n",
      "Epoch 28/70\n",
      "19100/19100 [==============================] - 1s 43us/step - loss: 0.0173 - categorical_accuracy: 0.1196\n",
      "Epoch 29/70\n",
      "19100/19100 [==============================] - 1s 43us/step - loss: 0.0173 - categorical_accuracy: 0.1116\n",
      "Epoch 30/70\n",
      "19100/19100 [==============================] - 1s 43us/step - loss: 0.0173 - categorical_accuracy: 0.1165\n",
      "Epoch 31/70\n",
      "19100/19100 [==============================] - 1s 43us/step - loss: 0.0173 - categorical_accuracy: 0.1185\n",
      "Epoch 32/70\n",
      "19100/19100 [==============================] - 1s 43us/step - loss: 0.0173 - categorical_accuracy: 0.1171\n",
      "Epoch 33/70\n",
      "19100/19100 [==============================] - 1s 43us/step - loss: 0.0173 - categorical_accuracy: 0.1246\n",
      "Epoch 34/70\n",
      "19100/19100 [==============================] - 1s 43us/step - loss: 0.0172 - categorical_accuracy: 0.1145\n",
      "Epoch 35/70\n",
      "19100/19100 [==============================] - 1s 43us/step - loss: 0.0172 - categorical_accuracy: 0.1149\n",
      "Epoch 36/70\n",
      "19100/19100 [==============================] - 1s 43us/step - loss: 0.0173 - categorical_accuracy: 0.1244\n",
      "Epoch 37/70\n",
      "19100/19100 [==============================] - 1s 42us/step - loss: 0.0172 - categorical_accuracy: 0.1188\n",
      "Epoch 38/70\n",
      "19100/19100 [==============================] - 1s 43us/step - loss: 0.0172 - categorical_accuracy: 0.1229\n",
      "Epoch 39/70\n",
      "19100/19100 [==============================] - 1s 43us/step - loss: 0.0172 - categorical_accuracy: 0.1219\n",
      "Epoch 40/70\n",
      "19100/19100 [==============================] - 1s 43us/step - loss: 0.0172 - categorical_accuracy: 0.1147\n",
      "Epoch 41/70\n",
      "19100/19100 [==============================] - 1s 43us/step - loss: 0.0172 - categorical_accuracy: 0.1219\n",
      "Epoch 42/70\n",
      "19100/19100 [==============================] - 1s 43us/step - loss: 0.0171 - categorical_accuracy: 0.1182\n",
      "Epoch 43/70\n",
      "19100/19100 [==============================] - 1s 43us/step - loss: 0.0171 - categorical_accuracy: 0.1175\n",
      "Epoch 44/70\n",
      "19100/19100 [==============================] - 1s 43us/step - loss: 0.0171 - categorical_accuracy: 0.1258\n",
      "Epoch 45/70\n",
      "19100/19100 [==============================] - 1s 43us/step - loss: 0.0171 - categorical_accuracy: 0.1235\n",
      "Epoch 46/70\n",
      "19100/19100 [==============================] - 1s 43us/step - loss: 0.0171 - categorical_accuracy: 0.1190\n",
      "Epoch 47/70\n",
      "19100/19100 [==============================] - 1s 43us/step - loss: 0.0171 - categorical_accuracy: 0.1240\n",
      "Epoch 48/70\n",
      "19100/19100 [==============================] - 1s 43us/step - loss: 0.0171 - categorical_accuracy: 0.1199\n",
      "Epoch 49/70\n",
      "19100/19100 [==============================] - 1s 43us/step - loss: 0.0171 - categorical_accuracy: 0.1257\n",
      "Epoch 50/70\n",
      "19100/19100 [==============================] - 1s 43us/step - loss: 0.0171 - categorical_accuracy: 0.1268\n",
      "Epoch 51/70\n",
      "19100/19100 [==============================] - 1s 43us/step - loss: 0.0171 - categorical_accuracy: 0.1161\n",
      "Epoch 52/70\n",
      "19100/19100 [==============================] - 1s 43us/step - loss: 0.0170 - categorical_accuracy: 0.1246\n",
      "Epoch 53/70\n",
      "19100/19100 [==============================] - 1s 43us/step - loss: 0.0170 - categorical_accuracy: 0.1302\n",
      "Epoch 54/70\n",
      "19100/19100 [==============================] - 1s 43us/step - loss: 0.0170 - categorical_accuracy: 0.1191\n",
      "Epoch 55/70\n",
      "19100/19100 [==============================] - 1s 43us/step - loss: 0.0170 - categorical_accuracy: 0.1198\n",
      "Epoch 56/70\n",
      "19100/19100 [==============================] - 1s 43us/step - loss: 0.0170 - categorical_accuracy: 0.1295\n",
      "Epoch 57/70\n",
      "19100/19100 [==============================] - 1s 43us/step - loss: 0.0170 - categorical_accuracy: 0.1243\n",
      "Epoch 58/70\n",
      "19100/19100 [==============================] - 1s 43us/step - loss: 0.0170 - categorical_accuracy: 0.1170\n",
      "Epoch 59/70\n",
      "19100/19100 [==============================] - 1s 43us/step - loss: 0.0170 - categorical_accuracy: 0.1272\n",
      "Epoch 60/70\n",
      "19100/19100 [==============================] - 1s 43us/step - loss: 0.0169 - categorical_accuracy: 0.1249\n",
      "Epoch 61/70\n",
      "19100/19100 [==============================] - 1s 43us/step - loss: 0.0169 - categorical_accuracy: 0.1269\n",
      "Epoch 62/70\n",
      "19100/19100 [==============================] - 1s 43us/step - loss: 0.0169 - categorical_accuracy: 0.1206\n",
      "Epoch 63/70\n",
      "19100/19100 [==============================] - 1s 43us/step - loss: 0.0169 - categorical_accuracy: 0.1292\n",
      "Epoch 64/70\n",
      "19100/19100 [==============================] - 1s 43us/step - loss: 0.0169 - categorical_accuracy: 0.1146\n",
      "Epoch 65/70\n",
      "19100/19100 [==============================] - 1s 43us/step - loss: 0.0169 - categorical_accuracy: 0.1303\n",
      "Epoch 66/70\n",
      "19100/19100 [==============================] - 1s 43us/step - loss: 0.0169 - categorical_accuracy: 0.1315\n",
      "Epoch 67/70\n",
      "19100/19100 [==============================] - 1s 43us/step - loss: 0.0168 - categorical_accuracy: 0.1254\n",
      "Epoch 68/70\n",
      "19100/19100 [==============================] - 1s 43us/step - loss: 0.0168 - categorical_accuracy: 0.1235\n",
      "Epoch 69/70\n",
      "19100/19100 [==============================] - 1s 43us/step - loss: 0.0168 - categorical_accuracy: 0.1225\n",
      "Epoch 70/70\n",
      "19100/19100 [==============================] - 1s 43us/step - loss: 0.0168 - categorical_accuracy: 0.1327\n",
      "Training finished \n",
      "\n"
     ]
    }
   ],
   "source": [
    "b_size = 512\n",
    "max_epochs = 70\n",
    "print(\"Starting training \")\n",
    "h = model.fit(train_x, train_y, batch_size=b_size, epochs=max_epochs, shuffle=True, verbose=1)\n",
    "print(\"Training finished \\n\")"
   ]
  },
  {
   "cell_type": "code",
   "execution_count": 60,
   "metadata": {},
   "outputs": [],
   "source": [
    "p = model.predict(test_x)"
   ]
  },
  {
   "cell_type": "code",
   "execution_count": 61,
   "metadata": {},
   "outputs": [
    {
     "data": {
      "text/plain": [
       "(6367, 116)"
      ]
     },
     "execution_count": 61,
     "metadata": {},
     "output_type": "execute_result"
    }
   ],
   "source": [
    "p.shape"
   ]
  },
  {
   "cell_type": "code",
   "execution_count": 62,
   "metadata": {},
   "outputs": [
    {
     "data": {
      "text/plain": [
       "(array([ 4.29666489e-02, -1.29527142e-02,  1.39985934e-01, -5.80065697e-03,\n",
       "        -4.49155550e-03, -5.22969663e-03,  1.75532699e-03,  3.27765942e-04,\n",
       "        -1.10133470e-03, -2.31501856e-03,  3.80135849e-02,  2.01412663e-03,\n",
       "         8.44773114e-01,  8.45634460e-01,  8.43551993e-01,  8.43502402e-01,\n",
       "         8.34188282e-01,  1.85817275e-02,  6.85833301e-03, -6.93724025e-03,\n",
       "         2.60732509e-03,  1.41719794e-02, -4.19468945e-03, -6.24114042e-03,\n",
       "         1.18450932e-02,  7.34416861e-03, -2.16477755e-02,  2.69990298e-03,\n",
       "        -7.88816344e-03,  1.60345033e-01, -7.53240660e-03,  2.38639880e-02,\n",
       "        -1.11724352e-02, -6.02110662e-03,  1.95212755e-02,  1.11076823e-02,\n",
       "        -2.53582839e-04,  4.09822492e-03,  1.30392509e-02, -6.45760400e-03,\n",
       "        -1.77486762e-02,  1.43989958e-02, -3.77497636e-05, -1.05583946e-04,\n",
       "        -3.27275088e-03,  4.86800224e-02,  1.40287755e-02, -1.23394402e-02,\n",
       "         2.08162796e-03,  1.22225366e-03, -2.64347135e-03,  6.40682923e-03,\n",
       "        -5.68563410e-04, -4.86054504e-03, -2.76237330e-03,  3.60728381e-03,\n",
       "        -2.92332517e-03, -1.06337084e-03,  1.89499930e-04, -5.78596396e-03,\n",
       "         2.15316797e-03, -9.62556154e-03, -7.63542997e-03, -2.74619111e-03,\n",
       "        -5.08412253e-03, -2.05226173e-03, -3.82711086e-03,  1.87765881e-02,\n",
       "        -4.14185226e-03, -7.34829763e-03, -8.85966606e-03,  8.64454545e-03,\n",
       "         4.14052457e-02, -7.02377548e-03, -1.27670020e-02, -4.20644367e-03,\n",
       "        -5.86059131e-03, -5.18513471e-03,  7.34173693e-03, -1.52817778e-02,\n",
       "         1.55785792e-02, -3.55453342e-02,  1.34902252e-02,  5.29015809e-03,\n",
       "        -9.09996312e-03,  1.68400584e-03, -7.98651483e-03, -5.25974436e-03,\n",
       "         2.34020688e-03,  4.43587126e-03,  1.56122656e-03, -2.39474257e-03,\n",
       "         6.07591681e-03, -3.90095636e-03, -5.83629124e-03, -5.03748190e-03,\n",
       "        -3.49827558e-02,  7.02351239e-03, -9.26933996e-03, -4.97497898e-03,\n",
       "        -6.79655140e-03, -1.17020812e-02, -5.34168584e-03,  1.41808856e-03,\n",
       "        -4.15292289e-03,  5.69181815e-02, -3.88329453e-03, -6.10053772e-03,\n",
       "        -6.23650514e-02, -1.64216978e-03,  8.68510362e-03, -1.90692779e-03,\n",
       "        -7.75956968e-03,  3.39763588e-03, -8.84845015e-03,  2.15053558e-04],\n",
       "       dtype=float32),\n",
       " array([0, 0, 0, 0, 0, 0, 0, 0, 0, 0, 0, 0, 1, 1, 1, 1, 1, 0, 0, 0, 0, 0,\n",
       "        0, 0, 0, 0, 0, 0, 0, 0, 0, 0, 0, 0, 0, 0, 0, 0, 0, 0, 0, 0, 0, 0,\n",
       "        0, 0, 0, 0, 0, 0, 0, 0, 0, 0, 0, 0, 0, 0, 0, 0, 0, 0, 0, 0, 0, 0,\n",
       "        0, 0, 0, 0, 0, 0, 0, 0, 0, 0, 0, 0, 0, 0, 0, 0, 0, 0, 0, 0, 0, 0,\n",
       "        0, 0, 0, 0, 0, 0, 0, 0, 0, 0, 0, 0, 0, 0, 0, 0, 0, 0, 0, 0, 0, 0,\n",
       "        0, 0, 0, 0, 0, 0]))"
      ]
     },
     "execution_count": 62,
     "metadata": {},
     "output_type": "execute_result"
    }
   ],
   "source": [
    "p[0], test_y[0]"
   ]
  },
  {
   "cell_type": "code",
   "execution_count": 63,
   "metadata": {},
   "outputs": [],
   "source": [
    "# 取出分数不为0的项\n",
    "p_list = []\n",
    "for k in p:\n",
    "    p_tag = {}\n",
    "    for i, score in enumerate(k.tolist()):\n",
    "        if(score!=0):\n",
    "            p_tag[score] = i\n",
    "    p_list.append(p_tag)"
   ]
  },
  {
   "cell_type": "code",
   "execution_count": 64,
   "metadata": {},
   "outputs": [],
   "source": [
    "def recall(true_tag, pre_tag):\n",
    "    t = 0\n",
    "    for i in pre_tag:\n",
    "        if(i in true_tag):\n",
    "            t += 1\n",
    "    return t/len(true_tag)\n",
    "\n",
    "def precision(true_tag, pre_tag):\n",
    "    t = 0\n",
    "    for i in pre_tag:\n",
    "        if(i in true_tag):\n",
    "            t += 1\n",
    "    return t/len(pre_tag)"
   ]
  },
  {
   "cell_type": "code",
   "execution_count": 65,
   "metadata": {},
   "outputs": [],
   "source": [
    "p_list_top5 = []\n",
    "for i in range(len(p_list)):\n",
    "    p_list_top5.append([p_list[i][k] for k in sorted(p_list[i].keys())][-5:])\n",
    "    \n",
    "p_list_top10 = []\n",
    "for i in range(len(p_list)):\n",
    "    p_list_top10.append([p_list[i][k] for k in sorted(p_list[i].keys())][-10:])"
   ]
  },
  {
   "cell_type": "code",
   "execution_count": 66,
   "metadata": {},
   "outputs": [],
   "source": [
    "true_tag_real = []\n",
    "for row in test_y:\n",
    "    true_tag_real.append(row.nonzero()[0])"
   ]
  },
  {
   "cell_type": "code",
   "execution_count": 67,
   "metadata": {},
   "outputs": [
    {
     "name": "stdout",
     "output_type": "stream",
     "text": [
      "Recall@10: 0.7856114275581847\n",
      "Precision@10: 0.2747918957122603\n",
      "F1-score@10: 0.40716517712547895\n",
      "Recall@5: 0.5301841549721252\n",
      "Precision@5: 0.4450447620543411\n",
      "F1-score@5: 0.4838980407061656\n"
     ]
    }
   ],
   "source": [
    "recal_at_10_count = 0\n",
    "recal_at_5_count = 0\n",
    "precision_at_10_count = 0\n",
    "precision_at_5_count = 0\n",
    "\n",
    "for i in range(len(true_tag_real)):\n",
    "    recal_at_10_count += recall(true_tag_real[i], p_list_top10[i])\n",
    "\n",
    "\n",
    "for i in range(len(true_tag_real)):\n",
    "    recal_at_5_count += recall(true_tag_real[i], p_list_top5[i])\n",
    "    \n",
    "for i in range(len(true_tag_real)):\n",
    "    precision_at_10_count += precision(true_tag_real[i], p_list_top10[i])    \n",
    "\n",
    "for i in range(len(true_tag_real)):\n",
    "    precision_at_5_count += precision(true_tag_real[i], p_list_top5[i])\n",
    "    \n",
    "recall_at_10 = recal_at_10_count/len(true_tag_real)\n",
    "recall_at_5 = recal_at_5_count/len(true_tag_real)\n",
    "precision_at_10 = precision_at_10_count/len(true_tag_real)\n",
    "precision_at_5 = precision_at_5_count/len(true_tag_real)\n",
    "\n",
    "print(\"Recall@10: {}\".format(recall_at_10))\n",
    "print(\"Precision@10: {}\".format(precision_at_10_count/len(true_tag_real)))\n",
    "print(\"F1-score@10: {}\".format((2*recall_at_10*precision_at_10)/(recall_at_10+precision_at_10)))\n",
    "print(\"Recall@5: {}\".format(recall_at_5))\n",
    "print(\"Precision@5: {}\".format(precision_at_5_count/len(true_tag_real)))\n",
    "print(\"F1-score@5: {}\".format((2*recall_at_5*precision_at_5)/(recall_at_5+precision_at_5)))"
   ]
  },
  {
   "cell_type": "code",
   "execution_count": 68,
   "metadata": {},
   "outputs": [
    {
     "data": {
      "text/plain": [
       "array([0, 0, 0, 0, 0, 1, 0, 0, 0, 0, 0, 0, 0, 0, 0, 0, 0, 0, 0, 0, 0, 0,\n",
       "       0, 0, 0, 0, 0, 0, 0, 0, 0, 0, 0, 0, 0, 0, 0, 0, 0, 0, 0, 0, 0, 0,\n",
       "       0, 0, 0, 0, 0, 0, 0, 0, 0, 0, 0, 0, 0, 0, 0, 0, 0, 0, 0, 0, 0, 0,\n",
       "       0, 0, 0, 0, 0, 0, 0, 0, 0, 0, 0, 0, 0, 0, 0, 0, 0, 0, 0, 0, 0, 0,\n",
       "       0, 0, 0, 0, 0, 0, 0, 0, 0, 0, 0, 0, 0, 0, 0, 0, 0, 0, 0, 0, 0, 0,\n",
       "       0, 0, 0, 0, 0, 0])"
      ]
     },
     "execution_count": 68,
     "metadata": {},
     "output_type": "execute_result"
    }
   ],
   "source": [
    "test_y[60]"
   ]
  }
 ],
 "metadata": {
  "kernelspec": {
   "display_name": "ml",
   "language": "python",
   "name": "ml"
  },
  "language_info": {
   "codemirror_mode": {
    "name": "ipython",
    "version": 3
   },
   "file_extension": ".py",
   "mimetype": "text/x-python",
   "name": "python",
   "nbconvert_exporter": "python",
   "pygments_lexer": "ipython3",
   "version": "3.7.2"
  }
 },
 "nbformat": 4,
 "nbformat_minor": 2
}
