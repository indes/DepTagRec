{
 "cells": [
  {
   "cell_type": "code",
   "execution_count": 1,
   "metadata": {},
   "outputs": [
    {
     "name": "stderr",
     "output_type": "stream",
     "text": [
      "Using TensorFlow backend.\n"
     ]
    }
   ],
   "source": [
    "import pandas as pd\n",
    "from gensim import corpora, models\n",
    "from gensim.corpora import Dictionary\n",
    "from scipy.sparse import csr_matrix\n",
    "from tqdm import tqdm\n",
    "import numpy as np\n",
    "from sklearn.preprocessing import OneHotEncoder\n",
    "from sklearn import preprocessing\n",
    "import keras as K\n",
    "from sklearn.model_selection import train_test_split\n",
    "from sklearn.metrics import average_precision_score\n",
    "import tensorflow as tf\n",
    "import pymongo"
   ]
  },
  {
   "cell_type": "code",
   "execution_count": 2,
   "metadata": {},
   "outputs": [],
   "source": [
    "client = pymongo.MongoClient(host=\"192.168.0.106\", port=29197)\n",
    "client[\"github\"].authenticate(\"github\", \"git332\", \"github\")\n",
    "db = client[\"github\"]"
   ]
  },
  {
   "cell_type": "code",
   "execution_count": 3,
   "metadata": {},
   "outputs": [],
   "source": [
    "lang_set = [x[\"name\"] for x in db.project_lang_30.find()]\n",
    "npm_tag_set = [\"npm_\"+x[\"name\"] for x in db.npm_tag_stem_top100.find()]\n",
    "pkg_tag_set = [\"pkg_\"+x[\"name\"] for x in db.composer_tag_stem_top100.find()]\n",
    "pypi_tag_set = [\"pypi_\"+x[\"name\"] for x in db.pypi_tag_stem_top100.find()]"
   ]
  },
  {
   "cell_type": "code",
   "execution_count": 4,
   "metadata": {},
   "outputs": [
    {
     "data": {
      "text/plain": [
       "333"
      ]
     },
     "execution_count": 4,
     "metadata": {},
     "output_type": "execute_result"
    }
   ],
   "source": [
    "train_col = [\"file_npm\", \"file_pypi\", \"file_composer\"]\n",
    "train_col.extend(lang_set)\n",
    "train_col.extend(npm_tag_set)\n",
    "train_col.extend(pkg_tag_set)\n",
    "train_col.extend(pypi_tag_set)\n",
    "len(train_col)"
   ]
  },
  {
   "cell_type": "code",
   "execution_count": 5,
   "metadata": {},
   "outputs": [
    {
     "data": {
      "text/plain": [
       "116"
      ]
     },
     "execution_count": 5,
     "metadata": {},
     "output_type": "execute_result"
    }
   ],
   "source": [
    "tag_set = [x[\"name\"] for x in db.project_tag_more_than_100.find()]\n",
    "len(tag_set)"
   ]
  },
  {
   "cell_type": "code",
   "execution_count": 6,
   "metadata": {},
   "outputs": [],
   "source": [
    "lda = models.ldamodel.LdaModel.load('../model/readme_lda_256.model')"
   ]
  },
  {
   "cell_type": "code",
   "execution_count": 7,
   "metadata": {},
   "outputs": [
    {
     "data": {
      "text/html": [
       "<div>\n",
       "<style scoped>\n",
       "    .dataframe tbody tr th:only-of-type {\n",
       "        vertical-align: middle;\n",
       "    }\n",
       "\n",
       "    .dataframe tbody tr th {\n",
       "        vertical-align: top;\n",
       "    }\n",
       "\n",
       "    .dataframe thead th {\n",
       "        text-align: right;\n",
       "    }\n",
       "</style>\n",
       "<table border=\"1\" class=\"dataframe\">\n",
       "  <thead>\n",
       "    <tr style=\"text-align: right;\">\n",
       "      <th></th>\n",
       "      <th>project_link</th>\n",
       "      <th>file_readme</th>\n",
       "      <th>file_npm</th>\n",
       "      <th>file_pypi</th>\n",
       "      <th>file_composer</th>\n",
       "      <th>JavaScript</th>\n",
       "      <th>HTML</th>\n",
       "      <th>CSS</th>\n",
       "      <th>Python</th>\n",
       "      <th>Shell</th>\n",
       "      <th>...</th>\n",
       "      <th>pytorch</th>\n",
       "      <th>cach</th>\n",
       "      <th>laravel</th>\n",
       "      <th>data-sci</th>\n",
       "      <th>natural-language-process</th>\n",
       "      <th>authent</th>\n",
       "      <th>computer-vis</th>\n",
       "      <th>compos</th>\n",
       "      <th>python3</th>\n",
       "      <th>yii2</th>\n",
       "    </tr>\n",
       "  </thead>\n",
       "  <tbody>\n",
       "    <tr>\n",
       "      <th>0</th>\n",
       "      <td>/freeCodeCamp/freeCodeCamp</td>\n",
       "      <td>welcom freecodecamp org s open sourc codebas c...</td>\n",
       "      <td>1</td>\n",
       "      <td>0</td>\n",
       "      <td>0</td>\n",
       "      <td>0.941868</td>\n",
       "      <td>0.017145</td>\n",
       "      <td>0.039971</td>\n",
       "      <td>0.000000</td>\n",
       "      <td>0.001017</td>\n",
       "      <td>...</td>\n",
       "      <td>0</td>\n",
       "      <td>0</td>\n",
       "      <td>0</td>\n",
       "      <td>0</td>\n",
       "      <td>0</td>\n",
       "      <td>0</td>\n",
       "      <td>0</td>\n",
       "      <td>0</td>\n",
       "      <td>0</td>\n",
       "      <td>0</td>\n",
       "    </tr>\n",
       "    <tr>\n",
       "      <th>1</th>\n",
       "      <td>/vuejs/vue</td>\n",
       "      <td>support vue jsvue js mit licens open sourc pro...</td>\n",
       "      <td>1</td>\n",
       "      <td>0</td>\n",
       "      <td>0</td>\n",
       "      <td>0.976735</td>\n",
       "      <td>0.006227</td>\n",
       "      <td>0.003945</td>\n",
       "      <td>0.000000</td>\n",
       "      <td>0.001170</td>\n",
       "      <td>...</td>\n",
       "      <td>0</td>\n",
       "      <td>0</td>\n",
       "      <td>0</td>\n",
       "      <td>0</td>\n",
       "      <td>0</td>\n",
       "      <td>0</td>\n",
       "      <td>0</td>\n",
       "      <td>0</td>\n",
       "      <td>0</td>\n",
       "      <td>0</td>\n",
       "    </tr>\n",
       "    <tr>\n",
       "      <th>2</th>\n",
       "      <td>/twbs/bootstrap</td>\n",
       "      <td>bootstrap sleek intuit power end framework fas...</td>\n",
       "      <td>1</td>\n",
       "      <td>0</td>\n",
       "      <td>0</td>\n",
       "      <td>0.494735</td>\n",
       "      <td>0.182466</td>\n",
       "      <td>0.320497</td>\n",
       "      <td>0.000000</td>\n",
       "      <td>0.001512</td>\n",
       "      <td>...</td>\n",
       "      <td>0</td>\n",
       "      <td>0</td>\n",
       "      <td>0</td>\n",
       "      <td>0</td>\n",
       "      <td>0</td>\n",
       "      <td>0</td>\n",
       "      <td>0</td>\n",
       "      <td>0</td>\n",
       "      <td>0</td>\n",
       "      <td>0</td>\n",
       "    </tr>\n",
       "    <tr>\n",
       "      <th>3</th>\n",
       "      <td>/facebook/react</td>\n",
       "      <td>react middot react javascript librari build us...</td>\n",
       "      <td>1</td>\n",
       "      <td>0</td>\n",
       "      <td>0</td>\n",
       "      <td>0.951378</td>\n",
       "      <td>0.017036</td>\n",
       "      <td>0.003504</td>\n",
       "      <td>0.000079</td>\n",
       "      <td>0.001854</td>\n",
       "      <td>...</td>\n",
       "      <td>0</td>\n",
       "      <td>0</td>\n",
       "      <td>0</td>\n",
       "      <td>0</td>\n",
       "      <td>0</td>\n",
       "      <td>0</td>\n",
       "      <td>0</td>\n",
       "      <td>0</td>\n",
       "      <td>0</td>\n",
       "      <td>0</td>\n",
       "    </tr>\n",
       "  </tbody>\n",
       "</table>\n",
       "<p>4 rows × 451 columns</p>\n",
       "</div>"
      ],
      "text/plain": [
       "                 project_link  \\\n",
       "0  /freeCodeCamp/freeCodeCamp   \n",
       "1                  /vuejs/vue   \n",
       "2             /twbs/bootstrap   \n",
       "3             /facebook/react   \n",
       "\n",
       "                                         file_readme  file_npm  file_pypi  \\\n",
       "0  welcom freecodecamp org s open sourc codebas c...         1          0   \n",
       "1  support vue jsvue js mit licens open sourc pro...         1          0   \n",
       "2  bootstrap sleek intuit power end framework fas...         1          0   \n",
       "3  react middot react javascript librari build us...         1          0   \n",
       "\n",
       "   file_composer  JavaScript      HTML       CSS    Python     Shell  ...  \\\n",
       "0              0    0.941868  0.017145  0.039971  0.000000  0.001017  ...   \n",
       "1              0    0.976735  0.006227  0.003945  0.000000  0.001170  ...   \n",
       "2              0    0.494735  0.182466  0.320497  0.000000  0.001512  ...   \n",
       "3              0    0.951378  0.017036  0.003504  0.000079  0.001854  ...   \n",
       "\n",
       "   pytorch  cach  laravel  data-sci  natural-language-process  authent  \\\n",
       "0        0     0        0         0                         0        0   \n",
       "1        0     0        0         0                         0        0   \n",
       "2        0     0        0         0                         0        0   \n",
       "3        0     0        0         0                         0        0   \n",
       "\n",
       "   computer-vis  compos  python3  yii2  \n",
       "0             0       0        0     0  \n",
       "1             0       0        0     0  \n",
       "2             0       0        0     0  \n",
       "3             0       0        0     0  \n",
       "\n",
       "[4 rows x 451 columns]"
      ]
     },
     "execution_count": 7,
     "metadata": {},
     "output_type": "execute_result"
    }
   ],
   "source": [
    "data_raw = pd.read_csv(\"../data/data_raw.csv\", index_col=0)\n",
    "data_raw.head(4)"
   ]
  },
  {
   "cell_type": "code",
   "execution_count": 8,
   "metadata": {},
   "outputs": [],
   "source": [
    "data_tag = np.array(data_raw[tag_set]).astype(np.int64)"
   ]
  },
  {
   "cell_type": "code",
   "execution_count": 9,
   "metadata": {},
   "outputs": [
    {
     "data": {
      "text/plain": [
       "(25467, 333)"
      ]
     },
     "execution_count": 9,
     "metadata": {},
     "output_type": "execute_result"
    }
   ],
   "source": [
    "data_minus_readme = data_raw[train_col]\n",
    "data_minus_readme.shape"
   ]
  },
  {
   "cell_type": "code",
   "execution_count": 10,
   "metadata": {},
   "outputs": [
    {
     "data": {
      "text/plain": [
       "25467"
      ]
     },
     "execution_count": 10,
     "metadata": {},
     "output_type": "execute_result"
    }
   ],
   "source": [
    "readme_list = list(data_raw.file_readme)\n",
    "corpus = []\n",
    "\n",
    "for post in readme_list:\n",
    "    \n",
    "    corpus.append([word for word in str(post).strip().lower().split()])\n",
    "\n",
    "len(readme_list)"
   ]
  },
  {
   "cell_type": "code",
   "execution_count": 11,
   "metadata": {},
   "outputs": [],
   "source": [
    "dictionary = Dictionary(corpus)\n",
    "doc_bow = dictionary.doc2bow(corpus[0])\n",
    "lda_list = lda[doc_bow]"
   ]
  },
  {
   "cell_type": "code",
   "execution_count": 12,
   "metadata": {},
   "outputs": [],
   "source": [
    "corpus_lda = [lda[dictionary.doc2bow(doc)] for doc in corpus]"
   ]
  },
  {
   "cell_type": "code",
   "execution_count": 13,
   "metadata": {},
   "outputs": [],
   "source": [
    "data_matrix = []\n",
    "\n",
    "for post in corpus_lda:\n",
    "    arr = np.zeros(256)\n",
    "    for elem in post:\n",
    "        arr[elem[0]] = elem[1]\n",
    "    \n",
    "    data_matrix.append(arr)"
   ]
  },
  {
   "cell_type": "code",
   "execution_count": 14,
   "metadata": {},
   "outputs": [
    {
     "data": {
      "text/plain": [
       "(25467, 256)"
      ]
     },
     "execution_count": 14,
     "metadata": {},
     "output_type": "execute_result"
    }
   ],
   "source": [
    "data_x_np = np.array(data_matrix)\n",
    "data_x_np.shape"
   ]
  },
  {
   "cell_type": "code",
   "execution_count": 15,
   "metadata": {},
   "outputs": [],
   "source": [
    "data_full_feature = np.concatenate((data_x_np,data_minus_readme),axis=1)"
   ]
  },
  {
   "cell_type": "code",
   "execution_count": 16,
   "metadata": {},
   "outputs": [
    {
     "data": {
      "text/plain": [
       "(25467, 589)"
      ]
     },
     "execution_count": 16,
     "metadata": {},
     "output_type": "execute_result"
    }
   ],
   "source": [
    "data_full_feature.shape"
   ]
  },
  {
   "cell_type": "code",
   "execution_count": 17,
   "metadata": {},
   "outputs": [
    {
     "data": {
      "text/plain": [
       "256"
      ]
     },
     "execution_count": 17,
     "metadata": {},
     "output_type": "execute_result"
    }
   ],
   "source": [
    "len(data_x_np[1])"
   ]
  },
  {
   "cell_type": "code",
   "execution_count": 18,
   "metadata": {},
   "outputs": [
    {
     "data": {
      "text/plain": [
       "116"
      ]
     },
     "execution_count": 18,
     "metadata": {},
     "output_type": "execute_result"
    }
   ],
   "source": [
    "len(tag_set)"
   ]
  },
  {
   "cell_type": "code",
   "execution_count": 47,
   "metadata": {},
   "outputs": [],
   "source": [
    "train_x, test_x, train_y, test_y = train_test_split(data_full_feature, data_tag, train_size=0.9, test_size=0.1, random_state=1)"
   ]
  },
  {
   "cell_type": "code",
   "execution_count": 48,
   "metadata": {},
   "outputs": [
    {
     "data": {
      "text/plain": [
       "(22920, 2547)"
      ]
     },
     "execution_count": 48,
     "metadata": {},
     "output_type": "execute_result"
    }
   ],
   "source": [
    "len(train_x), len(test_x)"
   ]
  },
  {
   "cell_type": "code",
   "execution_count": 72,
   "metadata": {},
   "outputs": [],
   "source": [
    "import keras as K\n",
    "\n",
    "init = K.initializers.glorot_uniform(seed=1)\n",
    "simple_adam = K.optimizers.Adam(lr=0.0001)\n",
    "model = K.models.Sequential()\n",
    "\n",
    "model.add(K.layers.Dense(units=600, input_dim=589, kernel_initializer=init, activation='relu'))\n",
    "# model.add(K.layers.Dense(units=600, kernel_initializer=init, activation='relu'))\n",
    "# model.add(K.layers.BatchNormalization())\n",
    "model.add(K.layers.Dense(units=400, kernel_initializer=init, activation='relu'))\n",
    "# model.add(K.layers.BatchNormalization())\n",
    "\n",
    "model.add(K.layers.Dense(units=200, kernel_initializer=init, activation='relu'))\n",
    "# model.add(K.layers.BatchNormalization())\n",
    "\n",
    "model.add(K.layers.Dense(units=116, kernel_initializer=init, activation='relu'))\n",
    "model.compile(loss='mean_squared_error', optimizer=simple_adam, metrics=['top_k_categorical_accuracy', 'categorical_accuracy'])"
   ]
  },
  {
   "cell_type": "code",
   "execution_count": 73,
   "metadata": {},
   "outputs": [
    {
     "name": "stdout",
     "output_type": "stream",
     "text": [
      "Starting training \n",
      "Epoch 1/50\n",
      "22920/22920 [==============================] - 1s 46us/step - loss: 0.0308 - top_k_categorical_accuracy: 0.3747 - categorical_accuracy: 0.1855\n",
      "Epoch 2/50\n",
      "22920/22920 [==============================] - 1s 36us/step - loss: 0.0218 - top_k_categorical_accuracy: 0.4750 - categorical_accuracy: 0.1800\n",
      "Epoch 3/50\n",
      "22920/22920 [==============================] - 1s 36us/step - loss: 0.0190 - top_k_categorical_accuracy: 0.5157 - categorical_accuracy: 0.1925\n",
      "Epoch 4/50\n",
      "22920/22920 [==============================] - 1s 36us/step - loss: 0.0171 - top_k_categorical_accuracy: 0.5463 - categorical_accuracy: 0.2345\n",
      "Epoch 5/50\n",
      "22920/22920 [==============================] - 1s 36us/step - loss: 0.0159 - top_k_categorical_accuracy: 0.5629 - categorical_accuracy: 0.2827\n",
      "Epoch 6/50\n",
      "22920/22920 [==============================] - 1s 36us/step - loss: 0.0152 - top_k_categorical_accuracy: 0.5732 - categorical_accuracy: 0.2798\n",
      "Epoch 7/50\n",
      "22920/22920 [==============================] - 1s 35us/step - loss: 0.0149 - top_k_categorical_accuracy: 0.5792 - categorical_accuracy: 0.2580\n",
      "Epoch 8/50\n",
      "22920/22920 [==============================] - 1s 36us/step - loss: 0.0146 - top_k_categorical_accuracy: 0.5830 - categorical_accuracy: 0.2501\n",
      "Epoch 9/50\n",
      "22920/22920 [==============================] - 1s 35us/step - loss: 0.0145 - top_k_categorical_accuracy: 0.5891 - categorical_accuracy: 0.2461\n",
      "Epoch 10/50\n",
      "22920/22920 [==============================] - 1s 35us/step - loss: 0.0143 - top_k_categorical_accuracy: 0.5920 - categorical_accuracy: 0.2393\n",
      "Epoch 11/50\n",
      "22920/22920 [==============================] - 1s 36us/step - loss: 0.0142 - top_k_categorical_accuracy: 0.5973 - categorical_accuracy: 0.2399\n",
      "Epoch 12/50\n",
      "22920/22920 [==============================] - 1s 36us/step - loss: 0.0141 - top_k_categorical_accuracy: 0.6071 - categorical_accuracy: 0.2380\n",
      "Epoch 13/50\n",
      "22920/22920 [==============================] - 1s 36us/step - loss: 0.0140 - top_k_categorical_accuracy: 0.6168 - categorical_accuracy: 0.2438\n",
      "Epoch 14/50\n",
      "22920/22920 [==============================] - 1s 36us/step - loss: 0.0139 - top_k_categorical_accuracy: 0.6198 - categorical_accuracy: 0.2455\n",
      "Epoch 15/50\n",
      "22920/22920 [==============================] - 1s 36us/step - loss: 0.0138 - top_k_categorical_accuracy: 0.6247 - categorical_accuracy: 0.2358\n",
      "Epoch 16/50\n",
      "22920/22920 [==============================] - 1s 36us/step - loss: 0.0136 - top_k_categorical_accuracy: 0.6350 - categorical_accuracy: 0.2388\n",
      "Epoch 17/50\n",
      "22920/22920 [==============================] - 1s 36us/step - loss: 0.0135 - top_k_categorical_accuracy: 0.6415 - categorical_accuracy: 0.2418\n",
      "Epoch 18/50\n",
      "22920/22920 [==============================] - 1s 36us/step - loss: 0.0134 - top_k_categorical_accuracy: 0.6491 - categorical_accuracy: 0.2493\n",
      "Epoch 19/50\n",
      "22920/22920 [==============================] - 1s 36us/step - loss: 0.0133 - top_k_categorical_accuracy: 0.6523 - categorical_accuracy: 0.2428\n",
      "Epoch 20/50\n",
      "22920/22920 [==============================] - 1s 36us/step - loss: 0.0133 - top_k_categorical_accuracy: 0.6553 - categorical_accuracy: 0.2457\n",
      "Epoch 21/50\n",
      "22920/22920 [==============================] - 1s 36us/step - loss: 0.0132 - top_k_categorical_accuracy: 0.6582 - categorical_accuracy: 0.2405\n",
      "Epoch 22/50\n",
      "22920/22920 [==============================] - 1s 36us/step - loss: 0.0131 - top_k_categorical_accuracy: 0.6606 - categorical_accuracy: 0.2498\n",
      "Epoch 23/50\n",
      "22920/22920 [==============================] - 1s 36us/step - loss: 0.0130 - top_k_categorical_accuracy: 0.6628 - categorical_accuracy: 0.2421\n",
      "Epoch 24/50\n",
      "22920/22920 [==============================] - 1s 36us/step - loss: 0.0129 - top_k_categorical_accuracy: 0.6661 - categorical_accuracy: 0.2459\n",
      "Epoch 25/50\n",
      "22920/22920 [==============================] - 1s 36us/step - loss: 0.0128 - top_k_categorical_accuracy: 0.6673 - categorical_accuracy: 0.2514\n",
      "Epoch 26/50\n",
      "22920/22920 [==============================] - 1s 36us/step - loss: 0.0128 - top_k_categorical_accuracy: 0.6709 - categorical_accuracy: 0.2476\n",
      "Epoch 27/50\n",
      "22920/22920 [==============================] - 1s 36us/step - loss: 0.0127 - top_k_categorical_accuracy: 0.6743 - categorical_accuracy: 0.2501\n",
      "Epoch 28/50\n",
      "22920/22920 [==============================] - 1s 36us/step - loss: 0.0126 - top_k_categorical_accuracy: 0.6764 - categorical_accuracy: 0.2538\n",
      "Epoch 29/50\n",
      "22920/22920 [==============================] - 1s 36us/step - loss: 0.0125 - top_k_categorical_accuracy: 0.6775 - categorical_accuracy: 0.2519\n",
      "Epoch 30/50\n",
      "22920/22920 [==============================] - 1s 36us/step - loss: 0.0124 - top_k_categorical_accuracy: 0.6806 - categorical_accuracy: 0.2567\n",
      "Epoch 31/50\n",
      "22920/22920 [==============================] - 1s 36us/step - loss: 0.0124 - top_k_categorical_accuracy: 0.6822 - categorical_accuracy: 0.2555\n",
      "Epoch 32/50\n",
      "22920/22920 [==============================] - 1s 36us/step - loss: 0.0123 - top_k_categorical_accuracy: 0.6843 - categorical_accuracy: 0.2534\n",
      "Epoch 33/50\n",
      "22920/22920 [==============================] - 1s 36us/step - loss: 0.0122 - top_k_categorical_accuracy: 0.6862 - categorical_accuracy: 0.2622\n",
      "Epoch 34/50\n",
      "22920/22920 [==============================] - 1s 36us/step - loss: 0.0121 - top_k_categorical_accuracy: 0.6897 - categorical_accuracy: 0.2637\n",
      "Epoch 35/50\n",
      "22920/22920 [==============================] - 1s 36us/step - loss: 0.0120 - top_k_categorical_accuracy: 0.6918 - categorical_accuracy: 0.2669\n",
      "Epoch 36/50\n",
      "22920/22920 [==============================] - 1s 36us/step - loss: 0.0119 - top_k_categorical_accuracy: 0.6932 - categorical_accuracy: 0.2634\n",
      "Epoch 37/50\n",
      "22920/22920 [==============================] - 1s 36us/step - loss: 0.0118 - top_k_categorical_accuracy: 0.6969 - categorical_accuracy: 0.2672\n",
      "Epoch 38/50\n",
      "22920/22920 [==============================] - 1s 36us/step - loss: 0.0118 - top_k_categorical_accuracy: 0.7002 - categorical_accuracy: 0.2716\n",
      "Epoch 39/50\n",
      "22920/22920 [==============================] - 1s 35us/step - loss: 0.0117 - top_k_categorical_accuracy: 0.7026 - categorical_accuracy: 0.2678\n",
      "Epoch 40/50\n",
      "22920/22920 [==============================] - 1s 36us/step - loss: 0.0116 - top_k_categorical_accuracy: 0.7057 - categorical_accuracy: 0.2701\n",
      "Epoch 41/50\n",
      "22920/22920 [==============================] - 1s 36us/step - loss: 0.0115 - top_k_categorical_accuracy: 0.7068 - categorical_accuracy: 0.2758\n",
      "Epoch 42/50\n",
      "22920/22920 [==============================] - 1s 36us/step - loss: 0.0114 - top_k_categorical_accuracy: 0.7093 - categorical_accuracy: 0.2703\n",
      "Epoch 43/50\n",
      "22920/22920 [==============================] - 1s 36us/step - loss: 0.0114 - top_k_categorical_accuracy: 0.7123 - categorical_accuracy: 0.2769\n",
      "Epoch 44/50\n",
      "22920/22920 [==============================] - 1s 36us/step - loss: 0.0113 - top_k_categorical_accuracy: 0.7144 - categorical_accuracy: 0.2790\n",
      "Epoch 45/50\n",
      "22920/22920 [==============================] - 1s 36us/step - loss: 0.0112 - top_k_categorical_accuracy: 0.7138 - categorical_accuracy: 0.2730\n",
      "Epoch 46/50\n",
      "22920/22920 [==============================] - 1s 36us/step - loss: 0.0112 - top_k_categorical_accuracy: 0.7172 - categorical_accuracy: 0.2829\n",
      "Epoch 47/50\n",
      "22920/22920 [==============================] - 1s 36us/step - loss: 0.0111 - top_k_categorical_accuracy: 0.7205 - categorical_accuracy: 0.2759\n",
      "Epoch 48/50\n",
      "22920/22920 [==============================] - 1s 36us/step - loss: 0.0110 - top_k_categorical_accuracy: 0.7226 - categorical_accuracy: 0.2845\n",
      "Epoch 49/50\n",
      "22920/22920 [==============================] - 1s 36us/step - loss: 0.0109 - top_k_categorical_accuracy: 0.7259 - categorical_accuracy: 0.2850\n",
      "Epoch 50/50\n",
      "22920/22920 [==============================] - 1s 36us/step - loss: 0.0108 - top_k_categorical_accuracy: 0.7263 - categorical_accuracy: 0.2879\n",
      "Training finished \n",
      "\n"
     ]
    }
   ],
   "source": [
    "b_size = 1000\n",
    "max_epochs = 50\n",
    "print(\"Starting training \")\n",
    "h = model.fit(train_x, train_y, batch_size=b_size, epochs=max_epochs, shuffle=True, verbose=1)\n",
    "print(\"Training finished \\n\")"
   ]
  },
  {
   "cell_type": "code",
   "execution_count": 74,
   "metadata": {},
   "outputs": [],
   "source": [
    "p = model.predict(test_x)"
   ]
  },
  {
   "cell_type": "code",
   "execution_count": 75,
   "metadata": {},
   "outputs": [
    {
     "data": {
      "text/plain": [
       "(array([0.       , 0.       , 0.       , 0.       , 0.       , 0.       ,\n",
       "        0.       , 0.       , 0.       , 0.       , 0.       , 0.       ,\n",
       "        1.0123043, 1.0790004, 1.0087091, 1.0647027, 1.0519961, 0.       ,\n",
       "        0.       , 0.       , 0.       , 0.       , 0.       , 0.       ,\n",
       "        0.       , 0.       , 0.       , 0.       , 0.       , 0.       ,\n",
       "        0.       , 0.       , 0.       , 0.       , 0.       , 0.       ,\n",
       "        0.       , 0.       , 0.       , 0.       , 0.       , 0.       ,\n",
       "        0.       , 0.       , 0.       , 0.       , 0.       , 0.       ,\n",
       "        0.       , 0.       , 0.       , 0.       , 0.       , 0.       ,\n",
       "        0.       , 0.       , 0.       , 0.       , 0.       , 0.       ,\n",
       "        0.       , 0.       , 0.       , 0.       , 0.       , 0.       ,\n",
       "        0.       , 0.       , 0.       , 0.       , 0.       , 0.       ,\n",
       "        0.       , 0.       , 0.       , 0.       , 0.       , 0.       ,\n",
       "        0.       , 0.       , 0.       , 0.       , 0.       , 0.       ,\n",
       "        0.       , 0.       , 0.       , 0.       , 0.       , 0.       ,\n",
       "        0.       , 0.       , 0.       , 0.       , 0.       , 0.       ,\n",
       "        0.       , 0.       , 0.       , 0.       , 0.       , 0.       ,\n",
       "        0.       , 0.       , 0.       , 0.       , 0.       , 0.       ,\n",
       "        0.       , 0.       , 0.       , 0.       , 0.       , 0.       ,\n",
       "        0.       , 0.       ], dtype=float32),\n",
       " array([0, 0, 0, 0, 0, 0, 0, 0, 0, 0, 0, 0, 1, 1, 1, 1, 1, 0, 0, 0, 0, 0,\n",
       "        0, 0, 0, 0, 0, 0, 0, 0, 0, 0, 0, 0, 0, 0, 0, 0, 0, 0, 0, 0, 0, 0,\n",
       "        0, 0, 0, 0, 0, 0, 0, 0, 0, 0, 0, 0, 0, 0, 0, 0, 0, 0, 0, 0, 0, 0,\n",
       "        0, 0, 0, 0, 0, 0, 0, 0, 0, 0, 0, 0, 0, 0, 0, 0, 0, 0, 0, 0, 0, 0,\n",
       "        0, 0, 0, 0, 0, 0, 0, 0, 0, 0, 0, 0, 0, 0, 0, 0, 0, 0, 0, 0, 0, 0,\n",
       "        0, 0, 0, 0, 0, 0]))"
      ]
     },
     "execution_count": 75,
     "metadata": {},
     "output_type": "execute_result"
    }
   ],
   "source": [
    "p[0],test_y[0]"
   ]
  },
  {
   "cell_type": "code",
   "execution_count": 76,
   "metadata": {},
   "outputs": [],
   "source": [
    "# 取出分数不为0的项\n",
    "p_list = []\n",
    "for k in p:\n",
    "    p_tag = {}\n",
    "    for i, score in enumerate(k.tolist()):\n",
    "        if(score!=0):\n",
    "            p_tag[score] = i\n",
    "    p_list.append(p_tag)"
   ]
  },
  {
   "cell_type": "code",
   "execution_count": 77,
   "metadata": {},
   "outputs": [],
   "source": [
    "def recall(true_tag, pre_tag):\n",
    "    t = 0\n",
    "    for i in pre_tag:\n",
    "        if(i in true_tag):\n",
    "            t += 1\n",
    "    return t/len(true_tag)\n",
    "\n",
    "def precision(true_tag, pre_tag):\n",
    "    t = 0\n",
    "    for i in pre_tag:\n",
    "        if(i in true_tag):\n",
    "            t += 1\n",
    "    if len(pre_tag) == 0:\n",
    "        return 1\n",
    "    else:\n",
    "        return t/len(pre_tag)"
   ]
  },
  {
   "cell_type": "code",
   "execution_count": 78,
   "metadata": {},
   "outputs": [],
   "source": [
    "p_list_top5 = []\n",
    "for i in range(len(p_list)):\n",
    "    p_list_top5.append([p_list[i][k] for k in sorted(p_list[i].keys())][-5:])\n",
    "    \n",
    "p_list_top10 = []\n",
    "for i in range(len(p_list)):\n",
    "    p_list_top10.append([p_list[i][k] for k in sorted(p_list[i].keys())][-10:])\n",
    "    \n",
    "p_list_top116 = []\n",
    "for i in range(len(p_list)):\n",
    "    p_list_top116.append([p_list[i][k] for k in sorted(p_list[i].keys())][-116:])"
   ]
  },
  {
   "cell_type": "code",
   "execution_count": 79,
   "metadata": {},
   "outputs": [
    {
     "data": {
      "text/plain": [
       "(array([2]),)"
      ]
     },
     "execution_count": 79,
     "metadata": {},
     "output_type": "execute_result"
    }
   ],
   "source": [
    "np.array([0,0,2]).nonzero()"
   ]
  },
  {
   "cell_type": "code",
   "execution_count": 80,
   "metadata": {},
   "outputs": [],
   "source": [
    "true_tag_real = []\n",
    "for row in test_y:\n",
    "    true_tag_real.append(row.nonzero()[0])"
   ]
  },
  {
   "cell_type": "code",
   "execution_count": 81,
   "metadata": {},
   "outputs": [
    {
     "name": "stdout",
     "output_type": "stream",
     "text": [
      "_________________________________________________________________\n",
      "Layer (type)                 Output Shape              Param #   \n",
      "=================================================================\n",
      "dense_13 (Dense)             (None, 600)               354000    \n",
      "_________________________________________________________________\n",
      "dense_14 (Dense)             (None, 400)               240400    \n",
      "_________________________________________________________________\n",
      "dense_15 (Dense)             (None, 200)               80200     \n",
      "_________________________________________________________________\n",
      "dense_16 (Dense)             (None, 116)               23316     \n",
      "=================================================================\n",
      "Total params: 697,916\n",
      "Trainable params: 697,916\n",
      "Non-trainable params: 0\n",
      "_________________________________________________________________\n",
      "\n",
      "====================================\n",
      "Recall@116: 0.7450815434619903\n",
      "Precision@116: 0.38252774728472605\n",
      "F1-score@116: 0.5106529105256469\n",
      "\n",
      "Recall@10: 0.740363574609746\n",
      "Precision@10: 0.3884370657044393\n",
      "F1-score@10: 0.5095402043638361\n",
      "\n",
      "Recall@5: 0.6491336184210144\n",
      "Precision@5: 0.49168956942809056\n",
      "F1-score@5: 0.5595472335103754\n",
      "====================================\n"
     ]
    }
   ],
   "source": [
    "recal_at_116_count = 0\n",
    "recal_at_10_count = 0\n",
    "recal_at_5_count = 0\n",
    "precision_at_116_count = 0\n",
    "precision_at_10_count = 0\n",
    "precision_at_5_count = 0\n",
    "\n",
    "for i in range(len(true_tag_real)):\n",
    "    recal_at_10_count += recall(true_tag_real[i], p_list_top10[i])\n",
    "\n",
    "\n",
    "for i in range(len(true_tag_real)):\n",
    "    recal_at_5_count += recall(true_tag_real[i], p_list_top5[i])\n",
    "    \n",
    "for i in range(len(true_tag_real)):\n",
    "    recal_at_116_count += recall(true_tag_real[i], p_list_top116[i])\n",
    "    \n",
    "for i in range(len(true_tag_real)):\n",
    "    precision_at_10_count += precision(true_tag_real[i], p_list_top10[i])    \n",
    "\n",
    "for i in range(len(true_tag_real)):\n",
    "    precision_at_5_count += precision(true_tag_real[i], p_list_top5[i])\n",
    "    \n",
    "for i in range(len(true_tag_real)):\n",
    "    precision_at_116_count += precision(true_tag_real[i], p_list_top116[i])\n",
    "    \n",
    "recall_at_116 = recal_at_116_count/len(true_tag_real)\n",
    "recall_at_10 = recal_at_10_count/len(true_tag_real)\n",
    "recall_at_5 = recal_at_5_count/len(true_tag_real)\n",
    "precision_at_116 = precision_at_116_count/len(true_tag_real)\n",
    "precision_at_10 = precision_at_10_count/len(true_tag_real)\n",
    "precision_at_5 = precision_at_5_count/len(true_tag_real)\n",
    "\n",
    "model.summary()\n",
    "print()\n",
    "print(\"====================================\")\n",
    "print(\"Recall@116: {}\".format(recall_at_116))\n",
    "print(\"Precision@116: {}\".format(precision_at_116_count/len(true_tag_real)))\n",
    "print(\"F1-score@116: {}\".format((2*recall_at_116*precision_at_10)/(recall_at_116+precision_at_10)))\n",
    "print()\n",
    "print(\"Recall@10: {}\".format(recall_at_10))\n",
    "print(\"Precision@10: {}\".format(precision_at_10_count/len(true_tag_real)))\n",
    "print(\"F1-score@10: {}\".format((2*recall_at_10*precision_at_10)/(recall_at_10+precision_at_10)))\n",
    "print()\n",
    "print(\"Recall@5: {}\".format(recall_at_5))\n",
    "print(\"Precision@5: {}\".format(precision_at_5_count/len(true_tag_real)))\n",
    "print(\"F1-score@5: {}\".format((2*recall_at_5*precision_at_5)/(recall_at_5+precision_at_5)))\n",
    "print(\"====================================\")"
   ]
  }
 ],
 "metadata": {
  "kernelspec": {
   "display_name": "ml",
   "language": "python",
   "name": "ml"
  },
  "language_info": {
   "codemirror_mode": {
    "name": "ipython",
    "version": 3
   },
   "file_extension": ".py",
   "mimetype": "text/x-python",
   "name": "python",
   "nbconvert_exporter": "python",
   "pygments_lexer": "ipython3",
   "version": "3.7.2"
  }
 },
 "nbformat": 4,
 "nbformat_minor": 2
}
