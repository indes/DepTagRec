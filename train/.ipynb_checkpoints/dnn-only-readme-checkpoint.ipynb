{
 "cells": [
  {
   "cell_type": "code",
   "execution_count": 42,
   "metadata": {},
   "outputs": [],
   "source": [
    "import pandas as pd\n",
    "from gensim import corpora, models\n",
    "from gensim.corpora import Dictionary\n",
    "from scipy.sparse import csr_matrix\n",
    "from tqdm import tqdm\n",
    "import numpy as np\n",
    "from sklearn.preprocessing import OneHotEncoder\n",
    "from sklearn import preprocessing\n",
    "import keras as K\n",
    "from sklearn.model_selection import train_test_split\n",
    "from sklearn.metrics import average_precision_score\n",
    "import tensorflow as tf\n",
    "import pymongo"
   ]
  },
  {
   "cell_type": "code",
   "execution_count": 43,
   "metadata": {},
   "outputs": [],
   "source": [
    "client = pymongo.MongoClient(host=\"192.168.0.106\", port=29197)\n",
    "client[\"github\"].authenticate(\"github\", \"git332\", \"github\")\n",
    "db = client[\"github\"]"
   ]
  },
  {
   "cell_type": "code",
   "execution_count": 44,
   "metadata": {},
   "outputs": [
    {
     "data": {
      "text/plain": [
       "116"
      ]
     },
     "execution_count": 44,
     "metadata": {},
     "output_type": "execute_result"
    }
   ],
   "source": [
    "tag_set = [x[\"name\"] for x in db.project_tag_more_than_100.find()]\n",
    "len(tag_set)"
   ]
  },
  {
   "cell_type": "code",
   "execution_count": 45,
   "metadata": {},
   "outputs": [],
   "source": [
    "lda = models.ldamodel.LdaModel.load('../model/readme_lda_256.model')"
   ]
  },
  {
   "cell_type": "code",
   "execution_count": 46,
   "metadata": {},
   "outputs": [
    {
     "data": {
      "text/html": [
       "<div>\n",
       "<style scoped>\n",
       "    .dataframe tbody tr th:only-of-type {\n",
       "        vertical-align: middle;\n",
       "    }\n",
       "\n",
       "    .dataframe tbody tr th {\n",
       "        vertical-align: top;\n",
       "    }\n",
       "\n",
       "    .dataframe thead th {\n",
       "        text-align: right;\n",
       "    }\n",
       "</style>\n",
       "<table border=\"1\" class=\"dataframe\">\n",
       "  <thead>\n",
       "    <tr style=\"text-align: right;\">\n",
       "      <th></th>\n",
       "      <th>project_link</th>\n",
       "      <th>file_readme</th>\n",
       "      <th>file_npm</th>\n",
       "      <th>file_pypi</th>\n",
       "      <th>file_composer</th>\n",
       "      <th>JavaScript</th>\n",
       "      <th>HTML</th>\n",
       "      <th>CSS</th>\n",
       "      <th>Python</th>\n",
       "      <th>Shell</th>\n",
       "      <th>...</th>\n",
       "      <th>pytorch</th>\n",
       "      <th>cach</th>\n",
       "      <th>laravel</th>\n",
       "      <th>data-sci</th>\n",
       "      <th>natural-language-process</th>\n",
       "      <th>authent</th>\n",
       "      <th>computer-vis</th>\n",
       "      <th>compos</th>\n",
       "      <th>python3</th>\n",
       "      <th>yii2</th>\n",
       "    </tr>\n",
       "  </thead>\n",
       "  <tbody>\n",
       "    <tr>\n",
       "      <th>0</th>\n",
       "      <td>/freeCodeCamp/freeCodeCamp</td>\n",
       "      <td>welcom freecodecamp org s open sourc codebas c...</td>\n",
       "      <td>1</td>\n",
       "      <td>0</td>\n",
       "      <td>0</td>\n",
       "      <td>0.941868</td>\n",
       "      <td>0.017145</td>\n",
       "      <td>0.039971</td>\n",
       "      <td>0.000000</td>\n",
       "      <td>0.001017</td>\n",
       "      <td>...</td>\n",
       "      <td>0</td>\n",
       "      <td>0</td>\n",
       "      <td>0</td>\n",
       "      <td>0</td>\n",
       "      <td>0</td>\n",
       "      <td>0</td>\n",
       "      <td>0</td>\n",
       "      <td>0</td>\n",
       "      <td>0</td>\n",
       "      <td>0</td>\n",
       "    </tr>\n",
       "    <tr>\n",
       "      <th>1</th>\n",
       "      <td>/vuejs/vue</td>\n",
       "      <td>support vue jsvue js mit licens open sourc pro...</td>\n",
       "      <td>1</td>\n",
       "      <td>0</td>\n",
       "      <td>0</td>\n",
       "      <td>0.976735</td>\n",
       "      <td>0.006227</td>\n",
       "      <td>0.003945</td>\n",
       "      <td>0.000000</td>\n",
       "      <td>0.001170</td>\n",
       "      <td>...</td>\n",
       "      <td>0</td>\n",
       "      <td>0</td>\n",
       "      <td>0</td>\n",
       "      <td>0</td>\n",
       "      <td>0</td>\n",
       "      <td>0</td>\n",
       "      <td>0</td>\n",
       "      <td>0</td>\n",
       "      <td>0</td>\n",
       "      <td>0</td>\n",
       "    </tr>\n",
       "    <tr>\n",
       "      <th>2</th>\n",
       "      <td>/twbs/bootstrap</td>\n",
       "      <td>bootstrap sleek intuit power end framework fas...</td>\n",
       "      <td>1</td>\n",
       "      <td>0</td>\n",
       "      <td>0</td>\n",
       "      <td>0.494735</td>\n",
       "      <td>0.182466</td>\n",
       "      <td>0.320497</td>\n",
       "      <td>0.000000</td>\n",
       "      <td>0.001512</td>\n",
       "      <td>...</td>\n",
       "      <td>0</td>\n",
       "      <td>0</td>\n",
       "      <td>0</td>\n",
       "      <td>0</td>\n",
       "      <td>0</td>\n",
       "      <td>0</td>\n",
       "      <td>0</td>\n",
       "      <td>0</td>\n",
       "      <td>0</td>\n",
       "      <td>0</td>\n",
       "    </tr>\n",
       "    <tr>\n",
       "      <th>3</th>\n",
       "      <td>/facebook/react</td>\n",
       "      <td>react middot react javascript librari build us...</td>\n",
       "      <td>1</td>\n",
       "      <td>0</td>\n",
       "      <td>0</td>\n",
       "      <td>0.951378</td>\n",
       "      <td>0.017036</td>\n",
       "      <td>0.003504</td>\n",
       "      <td>0.000079</td>\n",
       "      <td>0.001854</td>\n",
       "      <td>...</td>\n",
       "      <td>0</td>\n",
       "      <td>0</td>\n",
       "      <td>0</td>\n",
       "      <td>0</td>\n",
       "      <td>0</td>\n",
       "      <td>0</td>\n",
       "      <td>0</td>\n",
       "      <td>0</td>\n",
       "      <td>0</td>\n",
       "      <td>0</td>\n",
       "    </tr>\n",
       "  </tbody>\n",
       "</table>\n",
       "<p>4 rows × 451 columns</p>\n",
       "</div>"
      ],
      "text/plain": [
       "                 project_link  \\\n",
       "0  /freeCodeCamp/freeCodeCamp   \n",
       "1                  /vuejs/vue   \n",
       "2             /twbs/bootstrap   \n",
       "3             /facebook/react   \n",
       "\n",
       "                                         file_readme  file_npm  file_pypi  \\\n",
       "0  welcom freecodecamp org s open sourc codebas c...         1          0   \n",
       "1  support vue jsvue js mit licens open sourc pro...         1          0   \n",
       "2  bootstrap sleek intuit power end framework fas...         1          0   \n",
       "3  react middot react javascript librari build us...         1          0   \n",
       "\n",
       "   file_composer  JavaScript      HTML       CSS    Python     Shell  ...  \\\n",
       "0              0    0.941868  0.017145  0.039971  0.000000  0.001017  ...   \n",
       "1              0    0.976735  0.006227  0.003945  0.000000  0.001170  ...   \n",
       "2              0    0.494735  0.182466  0.320497  0.000000  0.001512  ...   \n",
       "3              0    0.951378  0.017036  0.003504  0.000079  0.001854  ...   \n",
       "\n",
       "   pytorch  cach  laravel  data-sci  natural-language-process  authent  \\\n",
       "0        0     0        0         0                         0        0   \n",
       "1        0     0        0         0                         0        0   \n",
       "2        0     0        0         0                         0        0   \n",
       "3        0     0        0         0                         0        0   \n",
       "\n",
       "   computer-vis  compos  python3  yii2  \n",
       "0             0       0        0     0  \n",
       "1             0       0        0     0  \n",
       "2             0       0        0     0  \n",
       "3             0       0        0     0  \n",
       "\n",
       "[4 rows x 451 columns]"
      ]
     },
     "execution_count": 46,
     "metadata": {},
     "output_type": "execute_result"
    }
   ],
   "source": [
    "data_raw = pd.read_csv(\"../data/data_raw.csv\", index_col=0)\n",
    "data_raw.head(4)"
   ]
  },
  {
   "cell_type": "code",
   "execution_count": 47,
   "metadata": {},
   "outputs": [],
   "source": [
    "data_tag = np.array(data_raw[tag_set]).astype(np.int64)"
   ]
  },
  {
   "cell_type": "code",
   "execution_count": 48,
   "metadata": {},
   "outputs": [
    {
     "data": {
      "text/plain": [
       "(25467, 451)"
      ]
     },
     "execution_count": 48,
     "metadata": {},
     "output_type": "execute_result"
    }
   ],
   "source": [
    "data_raw.shape"
   ]
  },
  {
   "cell_type": "code",
   "execution_count": 49,
   "metadata": {},
   "outputs": [
    {
     "data": {
      "text/plain": [
       "25467"
      ]
     },
     "execution_count": 49,
     "metadata": {},
     "output_type": "execute_result"
    }
   ],
   "source": [
    "readme_list = list(data_raw.file_readme)\n",
    "corpus = []\n",
    "\n",
    "for post in readme_list:\n",
    "    \n",
    "    corpus.append([word for word in str(post).strip().lower().split()])\n",
    "\n",
    "len(readme_list)"
   ]
  },
  {
   "cell_type": "code",
   "execution_count": 50,
   "metadata": {},
   "outputs": [],
   "source": [
    "dictionary = Dictionary(corpus)\n",
    "doc_bow = dictionary.doc2bow(corpus[0])\n",
    "lda_list = lda[doc_bow]"
   ]
  },
  {
   "cell_type": "code",
   "execution_count": 51,
   "metadata": {},
   "outputs": [],
   "source": [
    "corpus_lda = [lda[dictionary.doc2bow(doc)] for doc in corpus]"
   ]
  },
  {
   "cell_type": "code",
   "execution_count": 52,
   "metadata": {},
   "outputs": [],
   "source": [
    "data_matrix = []\n",
    "\n",
    "for post in corpus_lda:\n",
    "    arr = np.zeros(256)\n",
    "    for elem in post:\n",
    "        arr[elem[0]] = elem[1]\n",
    "    \n",
    "    data_matrix.append(arr)"
   ]
  },
  {
   "cell_type": "code",
   "execution_count": 53,
   "metadata": {},
   "outputs": [
    {
     "data": {
      "text/plain": [
       "25467"
      ]
     },
     "execution_count": 53,
     "metadata": {},
     "output_type": "execute_result"
    }
   ],
   "source": [
    "len(data_matrix)"
   ]
  },
  {
   "cell_type": "code",
   "execution_count": 54,
   "metadata": {},
   "outputs": [],
   "source": [
    "data_x_np = np.array(data_matrix)"
   ]
  },
  {
   "cell_type": "code",
   "execution_count": 55,
   "metadata": {},
   "outputs": [
    {
     "data": {
      "text/plain": [
       "256"
      ]
     },
     "execution_count": 55,
     "metadata": {},
     "output_type": "execute_result"
    }
   ],
   "source": [
    "len(data_x_np[1])"
   ]
  },
  {
   "cell_type": "code",
   "execution_count": 56,
   "metadata": {},
   "outputs": [
    {
     "data": {
      "text/plain": [
       "116"
      ]
     },
     "execution_count": 56,
     "metadata": {},
     "output_type": "execute_result"
    }
   ],
   "source": [
    "len(tag_set)"
   ]
  },
  {
   "cell_type": "code",
   "execution_count": 31,
   "metadata": {},
   "outputs": [],
   "source": [
    "import keras as K\n",
    "from keras.layers.advanced_activations import PReLU, LeakyReLU, Softmax\n",
    "init = K.initializers.glorot_uniform(seed=1)\n",
    "simple_adam = K.optimizers.Adam(lr=0.0001)\n",
    "model = K.models.Sequential()\n",
    "model.add(K.layers.Dense(units=400, input_dim=256, kernel_initializer=init, activation=LeakyReLU(0.7)))\n",
    "model.add(K.layers.Dense(units=600, kernel_initializer=init, activation=LeakyReLU(0.7)))\n",
    "model.add(K.layers.Dense(units=400, kernel_initializer=init, activation=LeakyReLU(0.7)))\n",
    "model.add(K.layers.Dense(units=116, kernel_initializer=init, activation=LeakyReLU(0.7)))\n",
    "model.compile(loss='mean_squared_error', optimizer=simple_adam, metrics=['categorical_accuracy'])"
   ]
  },
  {
   "cell_type": "code",
   "execution_count": 30,
   "metadata": {},
   "outputs": [],
   "source": [
    "train_x, test_x, train_y, test_y = train_test_split(data_x_np, data_tag, train_size=0.75, test_size=0.25, random_state=1)"
   ]
  },
  {
   "cell_type": "code",
   "execution_count": 32,
   "metadata": {},
   "outputs": [
    {
     "name": "stdout",
     "output_type": "stream",
     "text": [
      "Starting training \n",
      "Epoch 1/50\n",
      "19100/19100 [==============================] - 1s 52us/step - loss: 0.0258 - categorical_accuracy: 0.3601\n",
      "Epoch 2/50\n",
      "19100/19100 [==============================] - 1s 43us/step - loss: 0.0219 - categorical_accuracy: 0.1337\n",
      "Epoch 3/50\n",
      "19100/19100 [==============================] - 1s 43us/step - loss: 0.0199 - categorical_accuracy: 0.0044\n",
      "Epoch 4/50\n",
      "19100/19100 [==============================] - 1s 42us/step - loss: 0.0193 - categorical_accuracy: 0.0464\n",
      "Epoch 5/50\n",
      "19100/19100 [==============================] - 1s 43us/step - loss: 0.0189 - categorical_accuracy: 0.0660\n",
      "Epoch 6/50\n",
      "19100/19100 [==============================] - 1s 43us/step - loss: 0.0185 - categorical_accuracy: 0.0893\n",
      "Epoch 7/50\n",
      "19100/19100 [==============================] - 1s 43us/step - loss: 0.0183 - categorical_accuracy: 0.1059\n",
      "Epoch 8/50\n",
      "19100/19100 [==============================] - 1s 43us/step - loss: 0.0181 - categorical_accuracy: 0.1253\n",
      "Epoch 9/50\n",
      "19100/19100 [==============================] - 1s 43us/step - loss: 0.0179 - categorical_accuracy: 0.1255\n",
      "Epoch 10/50\n",
      "19100/19100 [==============================] - 1s 42us/step - loss: 0.0178 - categorical_accuracy: 0.1353\n",
      "Epoch 11/50\n",
      "19100/19100 [==============================] - 1s 43us/step - loss: 0.0176 - categorical_accuracy: 0.1418\n",
      "Epoch 12/50\n",
      "19100/19100 [==============================] - 1s 43us/step - loss: 0.0175 - categorical_accuracy: 0.1392\n",
      "Epoch 13/50\n",
      "19100/19100 [==============================] - 1s 42us/step - loss: 0.0174 - categorical_accuracy: 0.1494\n",
      "Epoch 14/50\n",
      "19100/19100 [==============================] - 1s 42us/step - loss: 0.0173 - categorical_accuracy: 0.1474\n",
      "Epoch 15/50\n",
      "19100/19100 [==============================] - 1s 43us/step - loss: 0.0172 - categorical_accuracy: 0.1491\n",
      "Epoch 16/50\n",
      "19100/19100 [==============================] - 1s 43us/step - loss: 0.0171 - categorical_accuracy: 0.1461\n",
      "Epoch 17/50\n",
      "19100/19100 [==============================] - 1s 43us/step - loss: 0.0170 - categorical_accuracy: 0.1607\n",
      "Epoch 18/50\n",
      "19100/19100 [==============================] - 1s 42us/step - loss: 0.0169 - categorical_accuracy: 0.1419\n",
      "Epoch 19/50\n",
      "19100/19100 [==============================] - 1s 43us/step - loss: 0.0168 - categorical_accuracy: 0.1609\n",
      "Epoch 20/50\n",
      "19100/19100 [==============================] - 1s 43us/step - loss: 0.0168 - categorical_accuracy: 0.1523\n",
      "Epoch 21/50\n",
      "19100/19100 [==============================] - 1s 43us/step - loss: 0.0167 - categorical_accuracy: 0.1491\n",
      "Epoch 22/50\n",
      "19100/19100 [==============================] - 1s 43us/step - loss: 0.0166 - categorical_accuracy: 0.1519\n",
      "Epoch 23/50\n",
      "19100/19100 [==============================] - 1s 43us/step - loss: 0.0166 - categorical_accuracy: 0.1495\n",
      "Epoch 24/50\n",
      "19100/19100 [==============================] - 1s 42us/step - loss: 0.0165 - categorical_accuracy: 0.1449\n",
      "Epoch 25/50\n",
      "19100/19100 [==============================] - 1s 43us/step - loss: 0.0164 - categorical_accuracy: 0.1584\n",
      "Epoch 26/50\n",
      "19100/19100 [==============================] - 1s 43us/step - loss: 0.0164 - categorical_accuracy: 0.1458\n",
      "Epoch 27/50\n",
      "19100/19100 [==============================] - 1s 43us/step - loss: 0.0163 - categorical_accuracy: 0.1515\n",
      "Epoch 28/50\n",
      "19100/19100 [==============================] - 1s 43us/step - loss: 0.0162 - categorical_accuracy: 0.1607\n",
      "Epoch 29/50\n",
      "19100/19100 [==============================] - 1s 42us/step - loss: 0.0162 - categorical_accuracy: 0.1452\n",
      "Epoch 30/50\n",
      "19100/19100 [==============================] - 1s 43us/step - loss: 0.0161 - categorical_accuracy: 0.1541\n",
      "Epoch 31/50\n",
      "19100/19100 [==============================] - 1s 43us/step - loss: 0.0160 - categorical_accuracy: 0.1488\n",
      "Epoch 32/50\n",
      "19100/19100 [==============================] - 1s 43us/step - loss: 0.0159 - categorical_accuracy: 0.1526\n",
      "Epoch 33/50\n",
      "19100/19100 [==============================] - 1s 43us/step - loss: 0.0158 - categorical_accuracy: 0.1535\n",
      "Epoch 34/50\n",
      "19100/19100 [==============================] - 1s 43us/step - loss: 0.0158 - categorical_accuracy: 0.1504\n",
      "Epoch 35/50\n",
      "19100/19100 [==============================] - 1s 42us/step - loss: 0.0157 - categorical_accuracy: 0.1632\n",
      "Epoch 36/50\n",
      "19100/19100 [==============================] - 1s 43us/step - loss: 0.0156 - categorical_accuracy: 0.1560\n",
      "Epoch 37/50\n",
      "19100/19100 [==============================] - 1s 43us/step - loss: 0.0155 - categorical_accuracy: 0.1546\n",
      "Epoch 38/50\n",
      "19100/19100 [==============================] - 1s 43us/step - loss: 0.0155 - categorical_accuracy: 0.1569\n",
      "Epoch 39/50\n",
      "19100/19100 [==============================] - 1s 43us/step - loss: 0.0154 - categorical_accuracy: 0.1605\n",
      "Epoch 40/50\n",
      "19100/19100 [==============================] - 1s 43us/step - loss: 0.0153 - categorical_accuracy: 0.1628\n",
      "Epoch 41/50\n",
      "19100/19100 [==============================] - 1s 43us/step - loss: 0.0152 - categorical_accuracy: 0.1602\n",
      "Epoch 42/50\n",
      "19100/19100 [==============================] - 1s 43us/step - loss: 0.0151 - categorical_accuracy: 0.1706\n",
      "Epoch 43/50\n",
      "19100/19100 [==============================] - 1s 43us/step - loss: 0.0150 - categorical_accuracy: 0.1583\n",
      "Epoch 44/50\n",
      "19100/19100 [==============================] - 1s 43us/step - loss: 0.0149 - categorical_accuracy: 0.1651\n",
      "Epoch 45/50\n",
      "19100/19100 [==============================] - 1s 43us/step - loss: 0.0148 - categorical_accuracy: 0.1642\n",
      "Epoch 46/50\n",
      "19100/19100 [==============================] - 1s 43us/step - loss: 0.0147 - categorical_accuracy: 0.1670\n",
      "Epoch 47/50\n",
      "19100/19100 [==============================] - 1s 43us/step - loss: 0.0146 - categorical_accuracy: 0.1787\n",
      "Epoch 48/50\n",
      "19100/19100 [==============================] - 1s 42us/step - loss: 0.0145 - categorical_accuracy: 0.1754\n",
      "Epoch 49/50\n",
      "19100/19100 [==============================] - 1s 43us/step - loss: 0.0144 - categorical_accuracy: 0.1706\n",
      "Epoch 50/50\n",
      "19100/19100 [==============================] - 1s 43us/step - loss: 0.0143 - categorical_accuracy: 0.1769\n",
      "Training finished \n",
      "\n"
     ]
    }
   ],
   "source": [
    "b_size = 512\n",
    "max_epochs = 50\n",
    "print(\"Starting training \")\n",
    "h = model.fit(train_x, train_y, batch_size=b_size, epochs=max_epochs, shuffle=True, verbose=1)\n",
    "print(\"Training finished \\n\")"
   ]
  },
  {
   "cell_type": "code",
   "execution_count": 33,
   "metadata": {},
   "outputs": [],
   "source": [
    "p = model.predict(test_x)"
   ]
  },
  {
   "cell_type": "code",
   "execution_count": 34,
   "metadata": {},
   "outputs": [
    {
     "data": {
      "text/plain": [
       "(6367, 116)"
      ]
     },
     "execution_count": 34,
     "metadata": {},
     "output_type": "execute_result"
    }
   ],
   "source": [
    "p.shape"
   ]
  },
  {
   "cell_type": "code",
   "execution_count": 35,
   "metadata": {},
   "outputs": [
    {
     "data": {
      "text/plain": [
       "(array([0.01392612, 0.        , 0.06271692, 0.        , 0.        ,\n",
       "        0.        , 0.        , 0.        , 0.        , 0.        ,\n",
       "        0.        , 0.        , 0.96935093, 0.9828826 , 0.9706369 ,\n",
       "        0.9811206 , 0.96452415, 0.        , 0.        , 0.        ,\n",
       "        0.        , 0.        , 0.        , 0.        , 0.00577252,\n",
       "        0.        , 0.        , 0.        , 0.        , 0.        ,\n",
       "        0.        , 0.        , 0.        , 0.        , 0.01918691,\n",
       "        0.        , 0.        , 0.        , 0.        , 0.        ,\n",
       "        0.        , 0.00624301, 0.        , 0.        , 0.        ,\n",
       "        0.03945205, 0.        , 0.        , 0.        , 0.        ,\n",
       "        0.        , 0.        , 0.        , 0.        , 0.        ,\n",
       "        0.        , 0.        , 0.        , 0.        , 0.        ,\n",
       "        0.        , 0.        , 0.        , 0.        , 0.        ,\n",
       "        0.        , 0.        , 0.        , 0.        , 0.        ,\n",
       "        0.        , 0.        , 0.        , 0.        , 0.        ,\n",
       "        0.        , 0.        , 0.        , 0.        , 0.        ,\n",
       "        0.        , 0.        , 0.        , 0.        , 0.        ,\n",
       "        0.        , 0.        , 0.        , 0.        , 0.        ,\n",
       "        0.        , 0.        , 0.        , 0.        , 0.        ,\n",
       "        0.        , 0.        , 0.        , 0.        , 0.        ,\n",
       "        0.        , 0.        , 0.        , 0.        , 0.        ,\n",
       "        0.        , 0.        , 0.        , 0.        , 0.        ,\n",
       "        0.        , 0.        , 0.        , 0.        , 0.        ,\n",
       "        0.        ], dtype=float32),\n",
       " array([0, 0, 0, 0, 0, 0, 0, 0, 0, 0, 0, 0, 1, 1, 1, 1, 1, 0, 0, 0, 0, 0,\n",
       "        0, 0, 0, 0, 0, 0, 0, 0, 0, 0, 0, 0, 0, 0, 0, 0, 0, 0, 0, 0, 0, 0,\n",
       "        0, 0, 0, 0, 0, 0, 0, 0, 0, 0, 0, 0, 0, 0, 0, 0, 0, 0, 0, 0, 0, 0,\n",
       "        0, 0, 0, 0, 0, 0, 0, 0, 0, 0, 0, 0, 0, 0, 0, 0, 0, 0, 0, 0, 0, 0,\n",
       "        0, 0, 0, 0, 0, 0, 0, 0, 0, 0, 0, 0, 0, 0, 0, 0, 0, 0, 0, 0, 0, 0,\n",
       "        0, 0, 0, 0, 0, 0]))"
      ]
     },
     "execution_count": 35,
     "metadata": {},
     "output_type": "execute_result"
    }
   ],
   "source": [
    "p[0], test_y[0]"
   ]
  },
  {
   "cell_type": "code",
   "execution_count": 36,
   "metadata": {},
   "outputs": [],
   "source": [
    "# 取出分数不为0的项\n",
    "p_list = []\n",
    "for k in p:\n",
    "    p_tag = {}\n",
    "    for i, score in enumerate(k.tolist()):\n",
    "        if(score!=0):\n",
    "            p_tag[score] = i\n",
    "    p_list.append(p_tag)"
   ]
  },
  {
   "cell_type": "code",
   "execution_count": 37,
   "metadata": {},
   "outputs": [],
   "source": [
    "def recall(true_tag, pre_tag):\n",
    "    t = 0\n",
    "    for i in pre_tag:\n",
    "        if(i in true_tag):\n",
    "            t += 1\n",
    "    return t/len(true_tag)\n",
    "\n",
    "def precision(true_tag, pre_tag):\n",
    "    t = 0\n",
    "    for i in pre_tag:\n",
    "        if(i in true_tag):\n",
    "            t += 1\n",
    "    return t/len(pre_tag)"
   ]
  },
  {
   "cell_type": "code",
   "execution_count": 38,
   "metadata": {},
   "outputs": [],
   "source": [
    "p_list_top5 = []\n",
    "for i in range(len(p_list)):\n",
    "    p_list_top5.append([p_list[i][k] for k in sorted(p_list[i].keys())][-5:])\n",
    "    \n",
    "p_list_top10 = []\n",
    "for i in range(len(p_list)):\n",
    "    p_list_top10.append([p_list[i][k] for k in sorted(p_list[i].keys())][-10:])"
   ]
  },
  {
   "cell_type": "code",
   "execution_count": 39,
   "metadata": {},
   "outputs": [],
   "source": [
    "true_tag_real = []\n",
    "for row in test_y:\n",
    "    true_tag_real.append(row.nonzero()[0])"
   ]
  },
  {
   "cell_type": "code",
   "execution_count": 40,
   "metadata": {},
   "outputs": [
    {
     "name": "stdout",
     "output_type": "stream",
     "text": [
      "Recall@10: 0.7342477396780842\n",
      "Precision@10: 0.2655987220813615\n",
      "F1-score@10: 0.3900904164954605\n",
      "Recall@5: 0.5532287656325676\n",
      "Precision@5: 0.44005025914873397\n",
      "F1-score@5: 0.4901914882150011\n"
     ]
    }
   ],
   "source": [
    "recal_at_10_count = 0\n",
    "recal_at_5_count = 0\n",
    "precision_at_10_count = 0\n",
    "precision_at_5_count = 0\n",
    "\n",
    "for i in range(len(true_tag_real)):\n",
    "    recal_at_10_count += recall(true_tag_real[i], p_list_top10[i])\n",
    "\n",
    "\n",
    "for i in range(len(true_tag_real)):\n",
    "    recal_at_5_count += recall(true_tag_real[i], p_list_top5[i])\n",
    "    \n",
    "for i in range(len(true_tag_real)):\n",
    "    precision_at_10_count += precision(true_tag_real[i], p_list_top10[i])    \n",
    "\n",
    "for i in range(len(true_tag_real)):\n",
    "    precision_at_5_count += precision(true_tag_real[i], p_list_top5[i])\n",
    "    \n",
    "recall_at_10 = recal_at_10_count/len(true_tag_real)\n",
    "recall_at_5 = recal_at_5_count/len(true_tag_real)\n",
    "precision_at_10 = precision_at_10_count/len(true_tag_real)\n",
    "precision_at_5 = precision_at_5_count/len(true_tag_real)\n",
    "\n",
    "print(\"Recall@10: {}\".format(recall_at_10))\n",
    "print(\"Precision@10: {}\".format(precision_at_10_count/len(true_tag_real)))\n",
    "print(\"F1-score@10: {}\".format((2*recall_at_10*precision_at_10)/(recall_at_10+precision_at_10)))\n",
    "print(\"Recall@5: {}\".format(recall_at_5))\n",
    "print(\"Precision@5: {}\".format(precision_at_5_count/len(true_tag_real)))\n",
    "print(\"F1-score@5: {}\".format((2*recall_at_5*precision_at_5)/(recall_at_5+precision_at_5)))"
   ]
  },
  {
   "cell_type": "code",
   "execution_count": 41,
   "metadata": {},
   "outputs": [
    {
     "data": {
      "text/plain": [
       "array([0, 0, 0, 0, 0, 1, 0, 0, 0, 0, 0, 0, 0, 0, 0, 0, 0, 0, 0, 0, 0, 0,\n",
       "       0, 0, 0, 0, 0, 0, 0, 0, 0, 0, 0, 0, 0, 0, 0, 0, 0, 0, 0, 0, 0, 0,\n",
       "       0, 0, 0, 0, 0, 0, 0, 0, 0, 0, 0, 0, 0, 0, 0, 0, 0, 0, 0, 0, 0, 0,\n",
       "       0, 0, 0, 0, 0, 0, 0, 0, 0, 0, 0, 0, 0, 0, 0, 0, 0, 0, 0, 0, 0, 0,\n",
       "       0, 0, 0, 0, 0, 0, 0, 0, 0, 0, 0, 0, 0, 0, 0, 0, 0, 0, 0, 0, 0, 0,\n",
       "       0, 0, 0, 0, 0, 0])"
      ]
     },
     "execution_count": 41,
     "metadata": {},
     "output_type": "execute_result"
    }
   ],
   "source": [
    "test_y[60]"
   ]
  }
 ],
 "metadata": {
  "kernelspec": {
   "display_name": "ml",
   "language": "python",
   "name": "ml"
  },
  "language_info": {
   "codemirror_mode": {
    "name": "ipython",
    "version": 3
   },
   "file_extension": ".py",
   "mimetype": "text/x-python",
   "name": "python",
   "nbconvert_exporter": "python",
   "pygments_lexer": "ipython3",
   "version": "3.7.2"
  }
 },
 "nbformat": 4,
 "nbformat_minor": 2
}
