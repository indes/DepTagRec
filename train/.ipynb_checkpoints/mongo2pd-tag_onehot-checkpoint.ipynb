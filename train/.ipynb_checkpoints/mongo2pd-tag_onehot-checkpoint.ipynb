{
 "cells": [
  {
   "cell_type": "code",
   "execution_count": 1,
   "metadata": {},
   "outputs": [
    {
     "name": "stderr",
     "output_type": "stream",
     "text": [
      "/home/li/anaconda3/envs/ml/lib/python3.7/site-packages/sklearn/feature_extraction/text.py:17: DeprecationWarning: Using or importing the ABCs from 'collections' instead of from 'collections.abc' is deprecated, and in 3.8 it will stop working\n",
      "  from collections import Mapping, defaultdict\n"
     ]
    }
   ],
   "source": [
    "import pandas as pd\n",
    "import numpy as np\n",
    "from tqdm import tqdm\n",
    "from sklearn.decomposition import LatentDirichletAllocation\n",
    "from sklearn.feature_extraction.text import TfidfVectorizer, CountVectorizer\n",
    "from gensim.models import LdaModel\n",
    "from gensim import corpora, models\n",
    "from gensim.corpora import Dictionary\n",
    "from copy import copy\n",
    "from nltk.stem import PorterStemmer\n",
    "st=PorterStemmer()\n",
    "import pymongo"
   ]
  },
  {
   "cell_type": "code",
   "execution_count": 2,
   "metadata": {},
   "outputs": [],
   "source": [
    "client = pymongo.MongoClient(host=\"192.168.0.106\", port=29197)\n",
    "client[\"github\"].authenticate(\"github\", \"git332\", \"github\")\n",
    "db = client[\"github\"]"
   ]
  },
  {
   "cell_type": "code",
   "execution_count": 4,
   "metadata": {},
   "outputs": [],
   "source": [
    "lda = 1"
   ]
  },
  {
   "cell_type": "code",
   "execution_count": 44,
   "metadata": {},
   "outputs": [],
   "source": [
    "db1 = db.all_step4\n",
    "db_date = list(db1.find())"
   ]
  },
  {
   "cell_type": "code",
   "execution_count": 72,
   "metadata": {},
   "outputs": [],
   "source": [
    "npm_tag_map_tpl = {\"npm_\"+x[\"name\"]:0 for x in db.npm_tag_stem_top100.find()}\n",
    "pkg_tag_map_tpl = {\"pkg_\"+x[\"name\"]:0 for x in db.composer_tag_stem_top100.find()}\n",
    "pypi_tag_map_tpl = {\"pypi_\"+x[\"name\"]:0 for x in db.pypi_tag_stem_top100.find()}\n",
    "tag_map_tpl = {x[\"name\"]:0 for x in db.project_tag_more_than_100.find()} # 需要提取词干"
   ]
  },
  {
   "cell_type": "code",
   "execution_count": 7,
   "metadata": {},
   "outputs": [],
   "source": [
    "lang_list = [x[\"name\"] for x in db.project_lang_30.find()]"
   ]
  },
  {
   "cell_type": "code",
   "execution_count": 8,
   "metadata": {},
   "outputs": [],
   "source": [
    "lang_map = {x:0 for x in lang_list}"
   ]
  },
  {
   "cell_type": "code",
   "execution_count": 40,
   "metadata": {},
   "outputs": [],
   "source": [
    "asd = {}"
   ]
  },
  {
   "cell_type": "code",
   "execution_count": null,
   "metadata": {},
   "outputs": [
    {
     "name": "stderr",
     "output_type": "stream",
     "text": [
      " 49%|████▉     | 14379/29368 [00:09<00:08, 1844.47it/s]"
     ]
    }
   ],
   "source": [
    "d_list = []\n",
    "train_data = pd.DataFrame()\n",
    "rec_list = []\n",
    "for d in tqdm(db_date):\n",
    "# for d in tqdm(db1.find({\"topic\":\"python\"})):\n",
    "    lang_map = {x:0 for x in lang_list}\n",
    "    npm_tag_map = copy(npm_tag_map_tpl)\n",
    "    pkg_tag_map = copy(pkg_tag_map_tpl)\n",
    "    pypi_tag_map = copy(pypi_tag_map_tpl)\n",
    "    tag_map = copy(tag_map_tpl)\n",
    "    doc = {}\n",
    "    doc[\"project_link\"] = d[\"link\"]\n",
    "    \n",
    "    need_add = False\n",
    "\n",
    "    # tag\n",
    "    has_tag = False\n",
    "    for t in d[\"topics\"]:\n",
    "        tag = st.stem(t)\n",
    "        if tag in tag_map:\n",
    "            tag_map[tag]+=1\n",
    "            has_tag = True\n",
    "            \n",
    "    if not has_tag:\n",
    "        continue\n",
    "        \n",
    "\n",
    "        \n",
    "    # readme\n",
    "    if \"readme_parser\" in d:\n",
    "        doc[\"file_readme\"] = d[\"readme_parser\"]\n",
    "        need_add = True\n",
    "    else:\n",
    "        doc[\"file_readme\"] = \"\"\n",
    "        \n",
    "        \n",
    "    # 包管理工具\n",
    "    if \"package_paser\" in d:\n",
    "        doc[\"file_npm\"] = 1\n",
    "    else:\n",
    "        doc[\"file_npm\"] = 0\n",
    "        \n",
    "    if \"requirement_parser\" in d:\n",
    "        doc[\"file_pypi\"] = 1\n",
    "    else:\n",
    "        doc[\"file_pypi\"] = 0\n",
    "        \n",
    "    if \"composer_paser\" in d:\n",
    "        doc[\"file_composer\"] = 1\n",
    "    else:\n",
    "        doc[\"file_composer\"] = 0\n",
    "    \n",
    "    # npm_tag\n",
    "    if \"npm_tag\" in d:\n",
    "        for t, count in d[\"npm_tag\"].items():\n",
    "            t = \"npm_\" + st.stem(t)\n",
    "            if t in npm_tag_map:\n",
    "                need_add = True\n",
    "                npm_tag_map[t] = count\n",
    "          \n",
    "    # pkg_tag\n",
    "    if \"composer_tag\" in d:\n",
    "        for t, count in d[\"composer_tag\"].items():\n",
    "            t = \"pkg_\" + st.stem(t)\n",
    "            if t in pkg_tag_map:\n",
    "                need_add = True\n",
    "                pkg_tag_map[t] = count\n",
    "                \n",
    "\n",
    "    # pypi_tag\n",
    "\n",
    "\n",
    "    if \"pypi_tag\" in d.keys():\n",
    "\n",
    "        for t, count in d[\"pypi_tag\"].items():\n",
    "\n",
    "            t = \"pypi_\" + st.stem(t)\n",
    "            if t in pypi_tag_map:\n",
    "                need_add = True\n",
    "                pypi_tag_map[t] = count\n",
    "\n",
    "    \n",
    "    if \"lang\" in d:\n",
    "        loc_num = 0\n",
    "        for l in d['lang']:\n",
    "            if l in lang_map:\n",
    "                loc_num += d['lang'][l]\n",
    "                lang_map[l] = d['lang'][l]\n",
    "        if loc_num != 0:\n",
    "            lang_map = {k:v/loc_num for k,v in lang_map.items()}\n",
    "            \n",
    "    doc.update(lang_map)\n",
    "\n",
    "    doc.update(npm_tag_map)\n",
    "    doc.update(pkg_tag_map)\n",
    "    doc.update(pypi_tag_map)\n",
    "    doc.update(tag_map)\n",
    "# remove all null \n",
    "    \n",
    "    if need_add:\n",
    "        series = pd.Series(doc)\n",
    "        rec_list.append(series)\n",
    "    \n",
    "# rec_pd = pd.DataFrame(rec_list)\n",
    "(\"len \", len(rec_list))"
   ]
  },
  {
   "cell_type": "code",
   "execution_count": 68,
   "metadata": {},
   "outputs": [
    {
     "data": {
      "text/plain": [
       "451"
      ]
     },
     "execution_count": 68,
     "metadata": {},
     "output_type": "execute_result"
    }
   ],
   "source": [
    "len(doc)"
   ]
  },
  {
   "cell_type": "code",
   "execution_count": 69,
   "metadata": {},
   "outputs": [
    {
     "name": "stdout",
     "output_type": "stream",
     "text": [
      "CPU times: user 5.65 s, sys: 108 ms, total: 5.76 s\n",
      "Wall time: 5.63 s\n"
     ]
    }
   ],
   "source": [
    "%%time\n",
    "rec_pd = pd.DataFrame(rec_list)"
   ]
  },
  {
   "cell_type": "code",
   "execution_count": 70,
   "metadata": {},
   "outputs": [
    {
     "data": {
      "text/html": [
       "<div>\n",
       "<style scoped>\n",
       "    .dataframe tbody tr th:only-of-type {\n",
       "        vertical-align: middle;\n",
       "    }\n",
       "\n",
       "    .dataframe tbody tr th {\n",
       "        vertical-align: top;\n",
       "    }\n",
       "\n",
       "    .dataframe thead th {\n",
       "        text-align: right;\n",
       "    }\n",
       "</style>\n",
       "<table border=\"1\" class=\"dataframe\">\n",
       "  <thead>\n",
       "    <tr style=\"text-align: right;\">\n",
       "      <th></th>\n",
       "      <th>project-link</th>\n",
       "      <th>file-readme</th>\n",
       "      <th>file-npm</th>\n",
       "      <th>file-pypi</th>\n",
       "      <th>file-composer</th>\n",
       "      <th>JavaScript</th>\n",
       "      <th>HTML</th>\n",
       "      <th>CSS</th>\n",
       "      <th>Python</th>\n",
       "      <th>Shell</th>\n",
       "      <th>...</th>\n",
       "      <th>pytorch</th>\n",
       "      <th>cach</th>\n",
       "      <th>laravel</th>\n",
       "      <th>data-sci</th>\n",
       "      <th>natural-language-process</th>\n",
       "      <th>authent</th>\n",
       "      <th>computer-vis</th>\n",
       "      <th>compos</th>\n",
       "      <th>python3</th>\n",
       "      <th>yii2</th>\n",
       "    </tr>\n",
       "  </thead>\n",
       "  <tbody>\n",
       "    <tr>\n",
       "      <th>0</th>\n",
       "      <td>/freeCodeCamp/freeCodeCamp</td>\n",
       "      <td>welcom freecodecamp org s open sourc codebas c...</td>\n",
       "      <td>1</td>\n",
       "      <td>0</td>\n",
       "      <td>0</td>\n",
       "      <td>0.941868</td>\n",
       "      <td>0.017145</td>\n",
       "      <td>0.039971</td>\n",
       "      <td>0.000000</td>\n",
       "      <td>0.001017</td>\n",
       "      <td>...</td>\n",
       "      <td>0</td>\n",
       "      <td>0</td>\n",
       "      <td>0</td>\n",
       "      <td>0</td>\n",
       "      <td>0</td>\n",
       "      <td>0</td>\n",
       "      <td>0</td>\n",
       "      <td>0</td>\n",
       "      <td>0</td>\n",
       "      <td>0</td>\n",
       "    </tr>\n",
       "    <tr>\n",
       "      <th>1</th>\n",
       "      <td>/vuejs/vue</td>\n",
       "      <td>support vue jsvue js mit licens open sourc pro...</td>\n",
       "      <td>1</td>\n",
       "      <td>0</td>\n",
       "      <td>0</td>\n",
       "      <td>0.976735</td>\n",
       "      <td>0.006227</td>\n",
       "      <td>0.003945</td>\n",
       "      <td>0.000000</td>\n",
       "      <td>0.001170</td>\n",
       "      <td>...</td>\n",
       "      <td>0</td>\n",
       "      <td>0</td>\n",
       "      <td>0</td>\n",
       "      <td>0</td>\n",
       "      <td>0</td>\n",
       "      <td>0</td>\n",
       "      <td>0</td>\n",
       "      <td>0</td>\n",
       "      <td>0</td>\n",
       "      <td>0</td>\n",
       "    </tr>\n",
       "    <tr>\n",
       "      <th>2</th>\n",
       "      <td>/twbs/bootstrap</td>\n",
       "      <td>bootstrap sleek intuit power end framework fas...</td>\n",
       "      <td>1</td>\n",
       "      <td>0</td>\n",
       "      <td>0</td>\n",
       "      <td>0.494735</td>\n",
       "      <td>0.182466</td>\n",
       "      <td>0.320497</td>\n",
       "      <td>0.000000</td>\n",
       "      <td>0.001512</td>\n",
       "      <td>...</td>\n",
       "      <td>0</td>\n",
       "      <td>0</td>\n",
       "      <td>0</td>\n",
       "      <td>0</td>\n",
       "      <td>0</td>\n",
       "      <td>0</td>\n",
       "      <td>0</td>\n",
       "      <td>0</td>\n",
       "      <td>0</td>\n",
       "      <td>0</td>\n",
       "    </tr>\n",
       "    <tr>\n",
       "      <th>3</th>\n",
       "      <td>/facebook/react</td>\n",
       "      <td>react middot react javascript librari build us...</td>\n",
       "      <td>1</td>\n",
       "      <td>0</td>\n",
       "      <td>0</td>\n",
       "      <td>0.951378</td>\n",
       "      <td>0.017036</td>\n",
       "      <td>0.003504</td>\n",
       "      <td>0.000079</td>\n",
       "      <td>0.001854</td>\n",
       "      <td>...</td>\n",
       "      <td>0</td>\n",
       "      <td>0</td>\n",
       "      <td>0</td>\n",
       "      <td>0</td>\n",
       "      <td>0</td>\n",
       "      <td>0</td>\n",
       "      <td>0</td>\n",
       "      <td>0</td>\n",
       "      <td>0</td>\n",
       "      <td>0</td>\n",
       "    </tr>\n",
       "    <tr>\n",
       "      <th>4</th>\n",
       "      <td>/airbnb/javascript</td>\n",
       "      <td>airbnb javascript style guid reason approach j...</td>\n",
       "      <td>1</td>\n",
       "      <td>0</td>\n",
       "      <td>0</td>\n",
       "      <td>1.000000</td>\n",
       "      <td>0.000000</td>\n",
       "      <td>0.000000</td>\n",
       "      <td>0.000000</td>\n",
       "      <td>0.000000</td>\n",
       "      <td>...</td>\n",
       "      <td>0</td>\n",
       "      <td>0</td>\n",
       "      <td>0</td>\n",
       "      <td>0</td>\n",
       "      <td>0</td>\n",
       "      <td>0</td>\n",
       "      <td>0</td>\n",
       "      <td>0</td>\n",
       "      <td>0</td>\n",
       "      <td>0</td>\n",
       "    </tr>\n",
       "  </tbody>\n",
       "</table>\n",
       "<p>5 rows × 451 columns</p>\n",
       "</div>"
      ],
      "text/plain": [
       "                 project-link  \\\n",
       "0  /freeCodeCamp/freeCodeCamp   \n",
       "1                  /vuejs/vue   \n",
       "2             /twbs/bootstrap   \n",
       "3             /facebook/react   \n",
       "4          /airbnb/javascript   \n",
       "\n",
       "                                         file-readme  file-npm  file-pypi  \\\n",
       "0  welcom freecodecamp org s open sourc codebas c...         1          0   \n",
       "1  support vue jsvue js mit licens open sourc pro...         1          0   \n",
       "2  bootstrap sleek intuit power end framework fas...         1          0   \n",
       "3  react middot react javascript librari build us...         1          0   \n",
       "4  airbnb javascript style guid reason approach j...         1          0   \n",
       "\n",
       "   file-composer  JavaScript      HTML       CSS    Python     Shell  ...  \\\n",
       "0              0    0.941868  0.017145  0.039971  0.000000  0.001017  ...   \n",
       "1              0    0.976735  0.006227  0.003945  0.000000  0.001170  ...   \n",
       "2              0    0.494735  0.182466  0.320497  0.000000  0.001512  ...   \n",
       "3              0    0.951378  0.017036  0.003504  0.000079  0.001854  ...   \n",
       "4              0    1.000000  0.000000  0.000000  0.000000  0.000000  ...   \n",
       "\n",
       "   pytorch  cach  laravel  data-sci  natural-language-process  authent  \\\n",
       "0        0     0        0         0                         0        0   \n",
       "1        0     0        0         0                         0        0   \n",
       "2        0     0        0         0                         0        0   \n",
       "3        0     0        0         0                         0        0   \n",
       "4        0     0        0         0                         0        0   \n",
       "\n",
       "   computer-vis  compos  python3  yii2  \n",
       "0             0       0        0     0  \n",
       "1             0       0        0     0  \n",
       "2             0       0        0     0  \n",
       "3             0       0        0     0  \n",
       "4             0       0        0     0  \n",
       "\n",
       "[5 rows x 451 columns]"
      ]
     },
     "execution_count": 70,
     "metadata": {},
     "output_type": "execute_result"
    }
   ],
   "source": [
    "rec_pd.head()"
   ]
  },
  {
   "cell_type": "code",
   "execution_count": 71,
   "metadata": {},
   "outputs": [],
   "source": [
    "rec_pd.to_csv(\"../data/data_raw.csv\")"
   ]
  },
  {
   "cell_type": "code",
   "execution_count": 20,
   "metadata": {},
   "outputs": [
    {
     "data": {
      "text/plain": [
       "link      19081\n",
       "readme    19081\n",
       "dtype: int64"
      ]
     },
     "execution_count": 20,
     "metadata": {},
     "output_type": "execute_result"
    }
   ],
   "source": [
    "train_data.count()"
   ]
  }
 ],
 "metadata": {
  "kernelspec": {
   "display_name": "ml",
   "language": "python",
   "name": "ml"
  },
  "language_info": {
   "codemirror_mode": {
    "name": "ipython",
    "version": 3
   },
   "file_extension": ".py",
   "mimetype": "text/x-python",
   "name": "python",
   "nbconvert_exporter": "python",
   "pygments_lexer": "ipython3",
   "version": "3.7.2"
  }
 },
 "nbformat": 4,
 "nbformat_minor": 2
}
