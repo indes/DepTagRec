{
 "cells": [
  {
   "cell_type": "code",
   "execution_count": 24,
   "metadata": {},
   "outputs": [],
   "source": [
    "import pymongo\n",
    "from tqdm import tqdm\n",
    "import os"
   ]
  },
  {
   "cell_type": "code",
   "execution_count": 25,
   "metadata": {},
   "outputs": [],
   "source": [
    "client = pymongo.MongoClient(host=\"192.168.0.106\", port=29197)\n",
    "client[\"github\"].authenticate(\"github\", \"git332\", \"github\")\n",
    "db = client[\"github\"]"
   ]
  },
  {
   "cell_type": "code",
   "execution_count": 26,
   "metadata": {},
   "outputs": [],
   "source": [
    "db1 = db.all_step3\n",
    "db2 = db.pypi_require_map_detail\n",
    "db3 = db.pypi_tag_top100"
   ]
  },
  {
   "cell_type": "code",
   "execution_count": 27,
   "metadata": {},
   "outputs": [],
   "source": [
    "docs = list(db1.find())"
   ]
  },
  {
   "cell_type": "code",
   "execution_count": 28,
   "metadata": {},
   "outputs": [],
   "source": [
    "top_100_doc = list(db3.find())"
   ]
  },
  {
   "cell_type": "code",
   "execution_count": 29,
   "metadata": {},
   "outputs": [],
   "source": [
    "top_100_tag_list = [x[\"name\"] for x in top_100_doc]"
   ]
  },
  {
   "cell_type": "code",
   "execution_count": 7,
   "metadata": {},
   "outputs": [],
   "source": [
    "detail_list = list(db2.find())"
   ]
  },
  {
   "cell_type": "code",
   "execution_count": 21,
   "metadata": {},
   "outputs": [
    {
     "data": {
      "text/plain": [
       "{'_id': ObjectId('5cd497138505b7518f064fd4'),\n",
       " 'name': 'six',\n",
       " 'platform': 'Pypi',\n",
       " 'description': 'Python 2 and 3 compatibility utilities',\n",
       " 'homepage': 'https://github.com/benjaminp/six',\n",
       " 'repository_url': 'https://github.com/benjaminp/six',\n",
       " 'normalized_licenses': ['MIT'],\n",
       " 'rank': 25,\n",
       " 'latest_release_published_at': '2018-12-10T00:59:57.000Z',\n",
       " 'latest_release_number': '1.12.0',\n",
       " 'language': 'Python',\n",
       " 'status': '',\n",
       " 'package_manager_url': 'https://pypi.org/project/six/',\n",
       " 'stars': 460,\n",
       " 'forks': 107,\n",
       " 'keywords': [],\n",
       " 'latest_stable_release': {'id': 17011467,\n",
       "  'project_id': 78520,\n",
       "  'number': '1.12.0',\n",
       "  'published_at': '2018-12-10T00:59:57.000Z',\n",
       "  'created_at': '2018-12-10T01:52:30.570Z',\n",
       "  'updated_at': '2018-12-10T01:52:30.570Z',\n",
       "  'runtime_dependencies_count': None},\n",
       " 'latest_download_url': None,\n",
       " 'dependents_count': 2687,\n",
       " 'dependent_repos_count': 98532,\n",
       " 'latest_stable_release_number': '1.12.0',\n",
       " 'latest_stable_release_published_at': '2018-12-10T00:59:57.000Z',\n",
       " 'versions': [{'number': '0.9.0', 'published_at': '2010-06-29T19:56:36.000Z'},\n",
       "  {'number': '0.9.1', 'published_at': '2010-06-30T22:32:11.000Z'},\n",
       "  {'number': '0.9.2', 'published_at': '2010-07-05T00:42:38.000Z'},\n",
       "  {'number': '1.0.0', 'published_at': '2011-03-15T16:55:50.000Z'},\n",
       "  {'number': '1.0b1', 'published_at': '2010-11-20T22:57:30.000Z'},\n",
       "  {'number': '1.1.0', 'published_at': '2011-11-23T06:43:24.000Z'},\n",
       "  {'number': '1.10.0', 'published_at': '2015-10-07T03:17:20.000Z'},\n",
       "  {'number': '1.11.0', 'published_at': '2017-09-17T18:46:53.000Z'},\n",
       "  {'number': '1.12.0', 'published_at': '2018-12-10T00:59:57.000Z'},\n",
       "  {'number': '1.2.0', 'published_at': '2012-08-28T19:55:23.000Z'},\n",
       "  {'number': '1.3.0', 'published_at': '2013-03-18T20:40:13.000Z'},\n",
       "  {'number': '1.4.0', 'published_at': '2013-09-01T21:14:06.000Z'},\n",
       "  {'number': '1.4.1', 'published_at': '2013-09-02T13:12:05.000Z'},\n",
       "  {'number': '1.5.0', 'published_at': '2014-01-05T00:56:10.000Z'},\n",
       "  {'number': '1.5.1', 'published_at': '2014-01-05T05:15:22.000Z'},\n",
       "  {'number': '1.5.2', 'published_at': '2014-01-06T15:57:56.000Z'},\n",
       "  {'number': '1.6.0', 'published_at': '2014-03-14T03:11:13.000Z'},\n",
       "  {'number': '1.6.1', 'published_at': '2014-03-14T03:39:37.000Z'},\n",
       "  {'number': '1.7.0', 'published_at': '2014-06-08T02:35:46.000Z'},\n",
       "  {'number': '1.7.1', 'published_at': '2014-06-09T03:57:48.000Z'},\n",
       "  {'number': '1.7.2', 'published_at': '2014-06-09T04:15:38.000Z'},\n",
       "  {'number': '1.7.3', 'published_at': '2014-06-29T19:30:30.000Z'},\n",
       "  {'number': '1.8.0', 'published_at': '2014-09-11T21:48:44.000Z'},\n",
       "  {'number': '1.9.0', 'published_at': '2015-01-02T16:38:13.000Z'}]}"
      ]
     },
     "execution_count": 21,
     "metadata": {},
     "output_type": "execute_result"
    }
   ],
   "source": [
    "detail_list[0]"
   ]
  },
  {
   "cell_type": "code",
   "execution_count": null,
   "metadata": {},
   "outputs": [],
   "source": [
    "detail_map"
   ]
  },
  {
   "cell_type": "code",
   "execution_count": 31,
   "metadata": {},
   "outputs": [
    {
     "data": {
      "text/plain": [
       "6611"
      ]
     },
     "execution_count": 31,
     "metadata": {},
     "output_type": "execute_result"
    }
   ],
   "source": [
    "len(detail_list)"
   ]
  },
  {
   "cell_type": "code",
   "execution_count": 33,
   "metadata": {},
   "outputs": [],
   "source": [
    "detail_map = {d[\"name\"]:d for d in detail_list if \"name\" in d}"
   ]
  },
  {
   "cell_type": "code",
   "execution_count": 34,
   "metadata": {},
   "outputs": [
    {
     "data": {
      "text/plain": [
       "4712"
      ]
     },
     "execution_count": 34,
     "metadata": {},
     "output_type": "execute_result"
    }
   ],
   "source": [
    "len(detail_map)"
   ]
  },
  {
   "cell_type": "code",
   "execution_count": 35,
   "metadata": {},
   "outputs": [
    {
     "data": {
      "text/plain": [
       "False"
      ]
     },
     "execution_count": 35,
     "metadata": {},
     "output_type": "execute_result"
    }
   ],
   "source": [
    "\"python\" in top_100_tag_list"
   ]
  },
  {
   "cell_type": "code",
   "execution_count": 46,
   "metadata": {},
   "outputs": [
    {
     "name": "stderr",
     "output_type": "stream",
     "text": [
      "100%|██████████| 29368/29368 [00:15<00:00, 1945.64it/s]\n"
     ]
    }
   ],
   "source": [
    "i = 0\n",
    "\n",
    "for d in tqdm(docs):\n",
    "    if \"requirement_parser\" in d:\n",
    "        i += 1\n",
    "        composer_tag_map = {}\n",
    "        try:\n",
    "            for r in d[\"requirement_parser\"]:\n",
    "                \n",
    "                if r in detail_map:\n",
    "                    r_detail = detail_map[r]\n",
    "#                     tempd1 = d\n",
    "                    for t in r_detail[\"keywords\"]:\n",
    "                        if t in top_100_tag_list:\n",
    "                            if t in composer_tag_map:\n",
    "                                composer_tag_map[t] += 1\n",
    "                            else:\n",
    "                                composer_tag_map[t] = 1\n",
    "        except:\n",
    "            pass\n",
    "        \n",
    "        d[\"pypi_tag\"] = composer_tag_map\n",
    "        db1.update_one({'_id': d['_id']}, {\"$set\": d})\n",
    "                    \n",
    "#                         composer_tag_set.add(t)\n",
    "#         break"
   ]
  },
  {
   "cell_type": "code",
   "execution_count": 47,
   "metadata": {},
   "outputs": [
    {
     "data": {
      "text/plain": [
       "{'_id': ObjectId('5cd5464c7df432344f855358'),\n",
       " 'topic': 'python',\n",
       " 'link': '/adobe/NLP-Cube',\n",
       " 'star': '190',\n",
       " 'crawl_url': 'https://github.com/search?l=&p=26&q=stars%3A190..194+language%3Apython&ref=advsearch&type=Repositories&utf8=%E2%9C%93',\n",
       " 'archive_url': 'https://api.github.com/repos/adobe/NLP-Cube/{archive_format}{/ref}',\n",
       " 'archived': False,\n",
       " 'assignees_url': 'https://api.github.com/repos/adobe/NLP-Cube/assignees{/user}',\n",
       " 'blobs_url': 'https://api.github.com/repos/adobe/NLP-Cube/git/blobs{/sha}',\n",
       " 'branches_url': 'https://api.github.com/repos/adobe/NLP-Cube/branches{/branch}',\n",
       " 'clone_url': 'https://github.com/adobe/NLP-Cube.git',\n",
       " 'collaborators_url': 'https://api.github.com/repos/adobe/NLP-Cube/collaborators{/collaborator}',\n",
       " 'comments_url': 'https://api.github.com/repos/adobe/NLP-Cube/comments{/number}',\n",
       " 'commits_url': 'https://api.github.com/repos/adobe/NLP-Cube/commits{/sha}',\n",
       " 'compare_url': 'https://api.github.com/repos/adobe/NLP-Cube/compare/{base}...{head}',\n",
       " 'contents_url': 'https://api.github.com/repos/adobe/NLP-Cube/contents/{+path}',\n",
       " 'contributors_url': 'https://api.github.com/repos/adobe/NLP-Cube/contributors',\n",
       " 'created_at': '2018-03-13T18:50:44Z',\n",
       " 'default_branch': 'master',\n",
       " 'deployments_url': 'https://api.github.com/repos/adobe/NLP-Cube/deployments',\n",
       " 'description': 'Natural Language Processing Pipeline - Sentence Splitting, Tokenization, Lemmatization, Part-of-speech Tagging and Dependency Parsing',\n",
       " 'disabled': False,\n",
       " 'downloads_url': 'https://api.github.com/repos/adobe/NLP-Cube/downloads',\n",
       " 'events_url': 'https://api.github.com/repos/adobe/NLP-Cube/events',\n",
       " 'fork': False,\n",
       " 'forks': 26,\n",
       " 'forks_count': 26,\n",
       " 'forks_url': 'https://api.github.com/repos/adobe/NLP-Cube/forks',\n",
       " 'full_name': 'adobe/NLP-Cube',\n",
       " 'git_commits_url': 'https://api.github.com/repos/adobe/NLP-Cube/git/commits{/sha}',\n",
       " 'git_refs_url': 'https://api.github.com/repos/adobe/NLP-Cube/git/refs{/sha}',\n",
       " 'git_tags_url': 'https://api.github.com/repos/adobe/NLP-Cube/git/tags{/sha}',\n",
       " 'git_url': 'git://github.com/adobe/NLP-Cube.git',\n",
       " 'has_downloads': True,\n",
       " 'has_issues': True,\n",
       " 'has_pages': True,\n",
       " 'has_projects': True,\n",
       " 'has_wiki': True,\n",
       " 'homepage': 'http://opensource.adobe.com/NLP-Cube/index.html',\n",
       " 'hooks_url': 'https://api.github.com/repos/adobe/NLP-Cube/hooks',\n",
       " 'html_url': 'https://github.com/adobe/NLP-Cube',\n",
       " 'id': 125099497,\n",
       " 'issue_comment_url': 'https://api.github.com/repos/adobe/NLP-Cube/issues/comments{/number}',\n",
       " 'issue_events_url': 'https://api.github.com/repos/adobe/NLP-Cube/issues/events{/number}',\n",
       " 'issues_url': 'https://api.github.com/repos/adobe/NLP-Cube/issues{/number}',\n",
       " 'keys_url': 'https://api.github.com/repos/adobe/NLP-Cube/keys{/key_id}',\n",
       " 'labels_url': 'https://api.github.com/repos/adobe/NLP-Cube/labels{/name}',\n",
       " 'language': 'Python',\n",
       " 'languages_url': 'https://api.github.com/repos/adobe/NLP-Cube/languages',\n",
       " 'license': {'key': 'other',\n",
       "  'name': 'Other',\n",
       "  'spdx_id': 'NOASSERTION',\n",
       "  'url': None,\n",
       "  'node_id': 'MDc6TGljZW5zZTA='},\n",
       " 'merges_url': 'https://api.github.com/repos/adobe/NLP-Cube/merges',\n",
       " 'milestones_url': 'https://api.github.com/repos/adobe/NLP-Cube/milestones{/number}',\n",
       " 'mirror_url': None,\n",
       " 'name': 'NLP-Cube',\n",
       " 'network_count': 26,\n",
       " 'node_id': 'MDEwOlJlcG9zaXRvcnkxMjUwOTk0OTc=',\n",
       " 'notifications_url': 'https://api.github.com/repos/adobe/NLP-Cube/notifications{?since,all,participating}',\n",
       " 'open_issues': 0,\n",
       " 'open_issues_count': 0,\n",
       " 'organization': {'login': 'adobe',\n",
       "  'id': 476009,\n",
       "  'node_id': 'MDEyOk9yZ2FuaXphdGlvbjQ3NjAwOQ==',\n",
       "  'avatar_url': 'https://avatars2.githubusercontent.com/u/476009?v=4',\n",
       "  'gravatar_id': '',\n",
       "  'url': 'https://api.github.com/users/adobe',\n",
       "  'html_url': 'https://github.com/adobe',\n",
       "  'followers_url': 'https://api.github.com/users/adobe/followers',\n",
       "  'following_url': 'https://api.github.com/users/adobe/following{/other_user}',\n",
       "  'gists_url': 'https://api.github.com/users/adobe/gists{/gist_id}',\n",
       "  'starred_url': 'https://api.github.com/users/adobe/starred{/owner}{/repo}',\n",
       "  'subscriptions_url': 'https://api.github.com/users/adobe/subscriptions',\n",
       "  'organizations_url': 'https://api.github.com/users/adobe/orgs',\n",
       "  'repos_url': 'https://api.github.com/users/adobe/repos',\n",
       "  'events_url': 'https://api.github.com/users/adobe/events{/privacy}',\n",
       "  'received_events_url': 'https://api.github.com/users/adobe/received_events',\n",
       "  'type': 'Organization',\n",
       "  'site_admin': False},\n",
       " 'owner': {'login': 'adobe',\n",
       "  'id': 476009,\n",
       "  'node_id': 'MDEyOk9yZ2FuaXphdGlvbjQ3NjAwOQ==',\n",
       "  'avatar_url': 'https://avatars2.githubusercontent.com/u/476009?v=4',\n",
       "  'gravatar_id': '',\n",
       "  'url': 'https://api.github.com/users/adobe',\n",
       "  'html_url': 'https://github.com/adobe',\n",
       "  'followers_url': 'https://api.github.com/users/adobe/followers',\n",
       "  'following_url': 'https://api.github.com/users/adobe/following{/other_user}',\n",
       "  'gists_url': 'https://api.github.com/users/adobe/gists{/gist_id}',\n",
       "  'starred_url': 'https://api.github.com/users/adobe/starred{/owner}{/repo}',\n",
       "  'subscriptions_url': 'https://api.github.com/users/adobe/subscriptions',\n",
       "  'organizations_url': 'https://api.github.com/users/adobe/orgs',\n",
       "  'repos_url': 'https://api.github.com/users/adobe/repos',\n",
       "  'events_url': 'https://api.github.com/users/adobe/events{/privacy}',\n",
       "  'received_events_url': 'https://api.github.com/users/adobe/received_events',\n",
       "  'type': 'Organization',\n",
       "  'site_admin': False},\n",
       " 'permissions': {'admin': False, 'push': False, 'pull': True},\n",
       " 'private': False,\n",
       " 'pulls_url': 'https://api.github.com/repos/adobe/NLP-Cube/pulls{/number}',\n",
       " 'pushed_at': '2019-05-03T12:00:22Z',\n",
       " 'releases_url': 'https://api.github.com/repos/adobe/NLP-Cube/releases{/id}',\n",
       " 'size': 6811,\n",
       " 'ssh_url': 'git@github.com:adobe/NLP-Cube.git',\n",
       " 'stargazers_count': 192,\n",
       " 'stargazers_url': 'https://api.github.com/repos/adobe/NLP-Cube/stargazers',\n",
       " 'statuses_url': 'https://api.github.com/repos/adobe/NLP-Cube/statuses/{sha}',\n",
       " 'subscribers_count': 13,\n",
       " 'subscribers_url': 'https://api.github.com/repos/adobe/NLP-Cube/subscribers',\n",
       " 'subscription_url': 'https://api.github.com/repos/adobe/NLP-Cube/subscription',\n",
       " 'svn_url': 'https://github.com/adobe/NLP-Cube',\n",
       " 'tags_url': 'https://api.github.com/repos/adobe/NLP-Cube/tags',\n",
       " 'teams_url': 'https://api.github.com/repos/adobe/NLP-Cube/teams',\n",
       " 'topics': ['dependency-parser',\n",
       "  'dependency-parsing',\n",
       "  'embeddings',\n",
       "  'information-extraction',\n",
       "  'language-pipeline',\n",
       "  'lemmatization',\n",
       "  'machine-translation',\n",
       "  'nlp-cube',\n",
       "  'parse',\n",
       "  'part-of-speech-tagger',\n",
       "  'sentence-splitting',\n",
       "  'tokenization',\n",
       "  'universal-dependencies'],\n",
       " 'trees_url': 'https://api.github.com/repos/adobe/NLP-Cube/git/trees{/sha}',\n",
       " 'updated_at': '2019-05-06T12:31:42Z',\n",
       " 'url': 'https://api.github.com/repos/adobe/NLP-Cube',\n",
       " 'watchers': 192,\n",
       " 'watchers_count': 192,\n",
       " 'lang': {'Python': 443752, 'Dockerfile': 1616, 'Shell': 116},\n",
       " 'readme_file': 1,\n",
       " 'setup_file': 1,\n",
       " 'package_file': 0,\n",
       " 'requirement_file': 1,\n",
       " 'requirement_parser': ['Cython',\n",
       "  'nltk',\n",
       "  'requests',\n",
       "  'dyNET',\n",
       "  'regex',\n",
       "  'nose2',\n",
       "  'flask',\n",
       "  'beautifulsoup4',\n",
       "  'xmltodict',\n",
       "  'future',\n",
       "  'scipy'],\n",
       " 'readme_parser': 'news 15 april 2019 releas version 1 1 model check support languag 1 0 1 1 model train ud2 2 corpu model 1 1 use vector embed reduc disk space time requir use languag actual slightli increas accuraci bit decreas default nlp cube use late time 1 1 model use old 1 0 model specifi version english languag code download download use specif model version go languag version want use nlp cube instal want use new 1 1 model type auto download call version number automat use late one disk nlp cubenlp cube opensourc natur languag process framework support languag includ ud treebank list avail languag use nlp cube need sentenc segment token po tag languag independ upo languag depend xpo attr lemmat depend parsingexampl input test output want run s set use nlp cube line quick start tutori advanc user want creat train model advanc tutori start local instal nlp cube simpl pip instal updat versioninstal updat nlp cube api usageto use nlp cube programmat python follow tutorialth summari object contain annot text sentenc time print word s po sentenc run token object follow attribut detail info attribut standard conll format webserv usageto use nlp cube web servic need local instal nlp cube start server exampl follow command start server preload languag en fr de test open follow link copi address link local address port link citeif use nlp cube research grate cite follow paper nlp cube end end raw text process neural network boroș tiberiu dumitrescu stefan daniel burtica ruxandra proceed conll 2018 share task multilingu pars raw text univers depend associ comput linguist p 171 179 octob 2018 bibtex format languag performanceresult report test file languag avail ud 2 2 corpu 2018 conll eval script info metric repres note version 1 1 model longer need larg extern vector emb file make load 1 1 model faster ram intens report result end 2 end e g test tag accuraci segment text real use case conll result report gold pre segment text lead high accuraci tagger parser etc languag model token sentenc upo xpo alltag lemma ua la afrikaan af 1 0 99 97 99 65 97 28 93 0 91 53 96 42 87 61 83 96 af 1 1 99 99 99 29 96 72 92 29 90 87 96 48 87 32 83 31 ancient greek grc 1 0 100 0 18 13 94 92 95 32 84 17 86 59 72 44 67 73 grc 1 1 100 0 17 61 96 87 97 35 88 36 88 41 73 4 69 36 arab ar 1 0 99 98 61 05 73 42 69 75 68 12 41 26 53 94 50 31 ar 1 1 99 99 60 53 73 27 68 98 65 95 40 87 53 06 49 45 armenian hy 1 0 97 34 87 52 74 13 96 76 41 51 60 58 11 41 1 7 basqu eu 1 0 99 97 99 83 94 93 99 97 87 24 90 75 85 49 81 35 eu 1 1 99 97 99 75 95 0 99 97 88 14 90 74 85 1 80 91 bulgarian bg 1 0 99 94 92 8 98 51 95 6 93 99 91 59 92 38 88 84 bg 1 1 99 93 93 36 98 36 95 91 94 46 92 02 92 39 88 76 buryat bxr 1 0 83 26 31 52 38 08 83 26 16 74 16 05 14 44 6 5 catalan 1 0 99 98 99 27 98 17 98 23 96 63 97 83 92 33 89 95 1 1 99 99 99 51 98 2 98 22 96 72 97 8 92 14 89 6 chines zh 1 0 93 03 99 1 88 22 88 15 86 91 92 74 73 43 69 52 zh 1 1 92 34 99 1 86 75 86 66 85 35 92 05 71 0 67 04 croatian hr 1 0 99 92 95 56 97 66 99 92 89 49 93 85 90 61 85 77 hr 1 1 99 95 95 84 97 56 99 95 89 49 94 01 89 95 84 97 czech cs 1 0 99 99 83 79 98 75 95 54 93 61 95 79 90 67 88 46 cs 1 1 99 99 84 19 98 54 95 33 94 09 95 7 90 72 88 52 danish da 1 0 99 85 91 79 96 79 99 85 94 29 96 53 85 93 83 05 da 1 1 99 82 92 64 96 52 99 82 94 39 96 21 85 09 81 83 dutch nl 1 0 99 89 90 75 95 49 93 84 91 73 95 72 89 48 86 1 nl 1 1 99 91 90 89 95 62 93 92 92 58 95 87 89 76 86 4 english en 1 0 99 25 72 8 95 34 94 83 92 48 95 62 84 7 81 93 en 1 1 99 2 70 94 94 4 93 93 91 04 95 18 83 3 80 32 estonian et 1 0 99 9 91 81 96 02 97 18 91 35 93 26 86 04 82 29 et 1 1 99 91 91 92 96 8 97 92 93 17 93 9 86 13 82 91 finnish fi 1 0 99 7 88 73 95 45 96 44 90 29 83 69 87 18 83 89 fi 1 1 99 65 89 23 96 22 97 07 91 8 84 02 87 83 84 96 french fr 1 0 99 68 94 2 92 61 95 46 90 79 93 08 84 96 80 91 fr 1 1 99 67 95 31 92 51 95 45 90 8 93 0 83 88 80 16 galician gl 1 0 99 89 97 16 83 01 82 51 81 58 82 95 65 69 61 08 gl 1 1 99 91 97 28 82 6 82 12 80 96 82 71 62 65 58 2 german de 1 0 99 7 81 19 91 38 94 26 80 37 75 8 79 6 74 35 de 1 1 99 77 81 99 90 47 93 82 79 79 75 46 79 3 73 87 gothic get 1 0 100 0 21 59 93 1 93 8 80 58 83 74 67 23 59 67 greek el 1 0 99 88 89 46 93 7 93 54 87 14 88 92 85 63 82 05 el 1 1 99 88 89 53 93 28 93 24 87 95 88 65 84 51 79 88 hebrew 1 0 99 93 99 69 54 13 54 17 51 49 54 13 34 84 32 29 1 1 99 94 100 0 52 78 52 78 49 9 53 45 32 13 29 42 hindi hi 1 0 99 98 98 84 97 16 96 43 90 29 97 48 94 66 91 26 hi 1 1 100 0 99 11 96 81 96 28 89 74 97 4 94 56 90 96 hungarian hu 1 0 99 8 94 18 94 52 99 8 86 22 91 07 81 57 75 95 hu 1 1 99 88 97 77 93 11 99 88 86 79 91 18 77 89 70 94 indonesian would 1 0 99 95 93 59 93 13 94 15 87 65 82 19 85 01 78 18 would 1 1 100 0 94 58 92 95 92 81 86 27 81 51 84 73 77 99 irish ga 1 0 99 56 95 38 90 95 90 07 74 1 87 51 76 32 64 74 italian 1 0 99 89 98 14 86 86 86 67 84 97 87 03 78 3 74 59 1 1 99 92 99 07 86 58 86 4 84 53 86 75 76 38 72 35 japanes ja 1 0 92 73 94 92 90 05 92 73 90 02 91 75 80 47 77 97 ja 1 1 92 42 94 92 90 28 92 42 90 28 91 66 79 94 77 79 kazakh kk 1 0 92 26 75 57 57 38 55 75 22 12 21 35 39 55 19 48 korean ko 1 0 99 87 93 9 94 66 86 92 83 81 38 7 85 52 81 39 ko 1 1 99 88 94 23 94 61 88 41 85 27 38 68 85 16 80 89 kurmanji kmr 1 0 89 92 88 86 53 66 52 52 25 96 53 94 12 06 5 53 latin la 1 0 99 97 92 5 97 95 93 75 91 76 96 9 89 2 86 29 la 1 1 99 99 92 75 98 22 94 03 92 16 97 18 89 19 86 58 latvian lv 1 0 99 66 96 35 93 43 82 52 79 99 89 47 83 04 77 98 north sami sme 1 0 99 75 98 79 86 07 87 38 71 34 80 9 66 54 56 93 norwegian bokmaal 1 0 99 92 90 93 84 24 99 92 73 68 71 68 78 24 70 83 bokmaal 1 1 99 92 90 32 84 69 99 92 74 84 71 47 77 71 70 63 nynorsk 1 0 99 96 91 08 97 33 99 96 93 87 85 82 90 33 88 02 nynorsk 1 1 99 96 92 18 97 47 99 96 94 75 86 07 90 23 87 98 old church slavon cu 1 0 100 0 28 99 92 88 93 09 81 85 83 16 72 18 65 43 persian fa 1 0 100 0 97 91 96 34 96 17 95 51 89 4 88 35 85 08 fa 1 1 100 0 99 0 95 92 95 78 95 05 89 32 87 43 83 38 portugues pt 1 0 99 69 87 88 85 02 88 39 81 35 86 23 76 38 72 99 pt 1 1 99 75 88 1 84 39 88 46 79 79 85 85 75 11 71 61 romanian ro 1 0 99 74 95 56 97 42 96 59 95 49 96 91 90 38 85 23 ro 1 1 99 71 95 42 96 96 96 32 94 98 96 57 90 14 85 06 russian ru 1 0 99 71 98 79 98 4 99 71 95 55 93 89 92 7 90 97 ru 1 1 99 73 98 5 98 48 99 73 95 37 93 8 92 88 90 99 serbian sr 1 0 99 97 92 61 97 61 99 97 91 54 92 93 90 89 86 92 sr 1 1 99 97 92 0 97 88 99 97 92 57 93 31 90 96 87 04 slovak sk 1 0 99 97 86 0 95 82 82 3 78 43 90 35 88 83 85 69 sk 1 1 99 95 86 67 95 33 81 01 76 98 89 87 87 64 83 84 slovenian sl 1 0 99 91 97 51 97 85 92 52 91 27 96 35 91 4 89 38 sl 1 1 99 87 97 64 97 62 93 29 90 99 96 36 91 46 89 19 spanish es 1 0 99 98 98 32 98 0 98 0 96 62 98 05 90 53 88 27 es 1 1 99 98 98 4 98 01 98 0 96 6 97 99 90 51 88 16 swedish sv 1 0 99 94 92 54 97 21 95 18 92 88 97 06 88 09 84 74 sv 1 1 99 36 91 22 92 74 0 0 0 0 89 37 78 14 71 86 turkish tr 1 0 99 89 97 4 90 37 89 56 81 59 87 4 65 22 58 26 tr 1 1 99 88 96 79 90 79 90 17 83 26 87 84 64 69 57 07 ukrainian uk 1 0 99 65 93 96 96 31 88 23 86 0 92 08 86 25 82 96 uk 1 1 99 76 93 58 96 0 88 17 85 39 92 28 84 9 81 04 upper sorbian hsb 1 0 98 59 69 15 59 61 98 59 37 96 22 33 11 11 3 35 urdu ur 1 0 100 0 98 6 93 55 91 69 77 41 97 33 87 86 81 99 ur 1 1 100 0 98 6 92 85 91 02 77 18 97 2 87 12 80 83 uyghur ug 1 0 99 91 83 83 87 85 91 58 73 93 90 17 74 36 60 5 ug 1 1 99 7 84 18 88 07 90 38 75 28 92 28 75 16 62 13 vietnames vi 1 0 87 2 92 88 78 35 76 43 76 18 81 47 51 59 45 49 vi 1 1 86 87 92 51 76 72 74 57 72 27 81 31 50 29 43 76',\n",
       " 'pypi_tag': {'NLP': 1,\n",
       "  'parsing': 1,\n",
       "  'client': 1,\n",
       "  'forhumans': 1,\n",
       "  'http': 1,\n",
       "  'kennethreitz': 1,\n",
       "  'requests': 1,\n",
       "  'unittest': 1,\n",
       "  'testing': 1,\n",
       "  'library': 1}}"
      ]
     },
     "execution_count": 47,
     "metadata": {},
     "output_type": "execute_result"
    }
   ],
   "source": [
    "tempd1"
   ]
  },
  {
   "cell_type": "code",
   "execution_count": 20,
   "metadata": {},
   "outputs": [
    {
     "data": {
      "text/plain": [
       "{'_id': ObjectId('5cd544e57df432344f854e06'),\n",
       " 'topic': 'python',\n",
       " 'link': '/Thriftpy/thriftpy2',\n",
       " 'star': '144',\n",
       " 'crawl_url': 'https://github.com/search?l=&p=1&q=stars%3A140..144+language%3Apython&ref=advsearch&type=Repositories&utf8=%E2%9C%93',\n",
       " 'archive_url': 'https://api.github.com/repos/Thriftpy/thriftpy2/{archive_format}{/ref}',\n",
       " 'archived': False,\n",
       " 'assignees_url': 'https://api.github.com/repos/Thriftpy/thriftpy2/assignees{/user}',\n",
       " 'blobs_url': 'https://api.github.com/repos/Thriftpy/thriftpy2/git/blobs{/sha}',\n",
       " 'branches_url': 'https://api.github.com/repos/Thriftpy/thriftpy2/branches{/branch}',\n",
       " 'clone_url': 'https://github.com/Thriftpy/thriftpy2.git',\n",
       " 'collaborators_url': 'https://api.github.com/repos/Thriftpy/thriftpy2/collaborators{/collaborator}',\n",
       " 'comments_url': 'https://api.github.com/repos/Thriftpy/thriftpy2/comments{/number}',\n",
       " 'commits_url': 'https://api.github.com/repos/Thriftpy/thriftpy2/commits{/sha}',\n",
       " 'compare_url': 'https://api.github.com/repos/Thriftpy/thriftpy2/compare/{base}...{head}',\n",
       " 'contents_url': 'https://api.github.com/repos/Thriftpy/thriftpy2/contents/{+path}',\n",
       " 'contributors_url': 'https://api.github.com/repos/Thriftpy/thriftpy2/contributors',\n",
       " 'created_at': '2018-09-26T08:47:01Z',\n",
       " 'default_branch': 'master',\n",
       " 'deployments_url': 'https://api.github.com/repos/Thriftpy/thriftpy2/deployments',\n",
       " 'description': 'Pure python implementation of Apache Thrift. ',\n",
       " 'disabled': False,\n",
       " 'downloads_url': 'https://api.github.com/repos/Thriftpy/thriftpy2/downloads',\n",
       " 'events_url': 'https://api.github.com/repos/Thriftpy/thriftpy2/events',\n",
       " 'fork': False,\n",
       " 'forks': 16,\n",
       " 'forks_count': 16,\n",
       " 'forks_url': 'https://api.github.com/repos/Thriftpy/thriftpy2/forks',\n",
       " 'full_name': 'Thriftpy/thriftpy2',\n",
       " 'git_commits_url': 'https://api.github.com/repos/Thriftpy/thriftpy2/git/commits{/sha}',\n",
       " 'git_refs_url': 'https://api.github.com/repos/Thriftpy/thriftpy2/git/refs{/sha}',\n",
       " 'git_tags_url': 'https://api.github.com/repos/Thriftpy/thriftpy2/git/tags{/sha}',\n",
       " 'git_url': 'git://github.com/Thriftpy/thriftpy2.git',\n",
       " 'has_downloads': True,\n",
       " 'has_issues': True,\n",
       " 'has_pages': False,\n",
       " 'has_projects': True,\n",
       " 'has_wiki': True,\n",
       " 'homepage': None,\n",
       " 'hooks_url': 'https://api.github.com/repos/Thriftpy/thriftpy2/hooks',\n",
       " 'html_url': 'https://github.com/Thriftpy/thriftpy2',\n",
       " 'id': 150396294,\n",
       " 'issue_comment_url': 'https://api.github.com/repos/Thriftpy/thriftpy2/issues/comments{/number}',\n",
       " 'issue_events_url': 'https://api.github.com/repos/Thriftpy/thriftpy2/issues/events{/number}',\n",
       " 'issues_url': 'https://api.github.com/repos/Thriftpy/thriftpy2/issues{/number}',\n",
       " 'keys_url': 'https://api.github.com/repos/Thriftpy/thriftpy2/keys{/key_id}',\n",
       " 'labels_url': 'https://api.github.com/repos/Thriftpy/thriftpy2/labels{/name}',\n",
       " 'language': 'Python',\n",
       " 'languages_url': 'https://api.github.com/repos/Thriftpy/thriftpy2/languages',\n",
       " 'license': {'key': 'mit',\n",
       "  'name': 'MIT License',\n",
       "  'spdx_id': 'MIT',\n",
       "  'url': 'https://api.github.com/licenses/mit',\n",
       "  'node_id': 'MDc6TGljZW5zZTEz'},\n",
       " 'merges_url': 'https://api.github.com/repos/Thriftpy/thriftpy2/merges',\n",
       " 'milestones_url': 'https://api.github.com/repos/Thriftpy/thriftpy2/milestones{/number}',\n",
       " 'mirror_url': None,\n",
       " 'name': 'thriftpy2',\n",
       " 'network_count': 16,\n",
       " 'node_id': 'MDEwOlJlcG9zaXRvcnkxNTAzOTYyOTQ=',\n",
       " 'notifications_url': 'https://api.github.com/repos/Thriftpy/thriftpy2/notifications{?since,all,participating}',\n",
       " 'open_issues': 4,\n",
       " 'open_issues_count': 4,\n",
       " 'organization': {'login': 'Thriftpy',\n",
       "  'id': 43602397,\n",
       "  'node_id': 'MDEyOk9yZ2FuaXphdGlvbjQzNjAyMzk3',\n",
       "  'avatar_url': 'https://avatars1.githubusercontent.com/u/43602397?v=4',\n",
       "  'gravatar_id': '',\n",
       "  'url': 'https://api.github.com/users/Thriftpy',\n",
       "  'html_url': 'https://github.com/Thriftpy',\n",
       "  'followers_url': 'https://api.github.com/users/Thriftpy/followers',\n",
       "  'following_url': 'https://api.github.com/users/Thriftpy/following{/other_user}',\n",
       "  'gists_url': 'https://api.github.com/users/Thriftpy/gists{/gist_id}',\n",
       "  'starred_url': 'https://api.github.com/users/Thriftpy/starred{/owner}{/repo}',\n",
       "  'subscriptions_url': 'https://api.github.com/users/Thriftpy/subscriptions',\n",
       "  'organizations_url': 'https://api.github.com/users/Thriftpy/orgs',\n",
       "  'repos_url': 'https://api.github.com/users/Thriftpy/repos',\n",
       "  'events_url': 'https://api.github.com/users/Thriftpy/events{/privacy}',\n",
       "  'received_events_url': 'https://api.github.com/users/Thriftpy/received_events',\n",
       "  'type': 'Organization',\n",
       "  'site_admin': False},\n",
       " 'owner': {'login': 'Thriftpy',\n",
       "  'id': 43602397,\n",
       "  'node_id': 'MDEyOk9yZ2FuaXphdGlvbjQzNjAyMzk3',\n",
       "  'avatar_url': 'https://avatars1.githubusercontent.com/u/43602397?v=4',\n",
       "  'gravatar_id': '',\n",
       "  'url': 'https://api.github.com/users/Thriftpy',\n",
       "  'html_url': 'https://github.com/Thriftpy',\n",
       "  'followers_url': 'https://api.github.com/users/Thriftpy/followers',\n",
       "  'following_url': 'https://api.github.com/users/Thriftpy/following{/other_user}',\n",
       "  'gists_url': 'https://api.github.com/users/Thriftpy/gists{/gist_id}',\n",
       "  'starred_url': 'https://api.github.com/users/Thriftpy/starred{/owner}{/repo}',\n",
       "  'subscriptions_url': 'https://api.github.com/users/Thriftpy/subscriptions',\n",
       "  'organizations_url': 'https://api.github.com/users/Thriftpy/orgs',\n",
       "  'repos_url': 'https://api.github.com/users/Thriftpy/repos',\n",
       "  'events_url': 'https://api.github.com/users/Thriftpy/events{/privacy}',\n",
       "  'received_events_url': 'https://api.github.com/users/Thriftpy/received_events',\n",
       "  'type': 'Organization',\n",
       "  'site_admin': False},\n",
       " 'permissions': {'admin': False, 'push': False, 'pull': True},\n",
       " 'private': False,\n",
       " 'pulls_url': 'https://api.github.com/repos/Thriftpy/thriftpy2/pulls{/number}',\n",
       " 'pushed_at': '2019-02-25T04:29:39Z',\n",
       " 'releases_url': 'https://api.github.com/repos/Thriftpy/thriftpy2/releases{/id}',\n",
       " 'size': 850,\n",
       " 'ssh_url': 'git@github.com:Thriftpy/thriftpy2.git',\n",
       " 'stargazers_count': 144,\n",
       " 'stargazers_url': 'https://api.github.com/repos/Thriftpy/thriftpy2/stargazers',\n",
       " 'statuses_url': 'https://api.github.com/repos/Thriftpy/thriftpy2/statuses/{sha}',\n",
       " 'subscribers_count': 9,\n",
       " 'subscribers_url': 'https://api.github.com/repos/Thriftpy/thriftpy2/subscribers',\n",
       " 'subscription_url': 'https://api.github.com/repos/Thriftpy/thriftpy2/subscription',\n",
       " 'svn_url': 'https://github.com/Thriftpy/thriftpy2',\n",
       " 'tags_url': 'https://api.github.com/repos/Thriftpy/thriftpy2/tags',\n",
       " 'teams_url': 'https://api.github.com/repos/Thriftpy/thriftpy2/teams',\n",
       " 'trees_url': 'https://api.github.com/repos/Thriftpy/thriftpy2/git/trees{/sha}',\n",
       " 'updated_at': '2019-05-06T07:01:21Z',\n",
       " 'url': 'https://api.github.com/repos/Thriftpy/thriftpy2',\n",
       " 'watchers': 144,\n",
       " 'watchers_count': 144,\n",
       " 'topics': ['thrift', 'thriftpy', 'python', 'rpc'],\n",
       " 'lang': {'Python': 350080, 'Thrift': 25108, 'C': 705, 'Makefile': 446},\n",
       " 'readme_file': 1,\n",
       " 'setup_file': 1,\n",
       " 'package_file': 0,\n",
       " 'requirement_file': 0,\n",
       " 'requirement_parser': [],\n",
       " 'readme_parser': 'thriftpy2 imag http travi ci com thriftpi thriftpy2 svg branch develop target http travi ci com thriftpi thriftpy2 imag http img shield io codecov c github thriftpi thriftpy2 svg target http codecov io gh thriftpi thriftpy2 imag http img shield io pypi dm thriftpy2 svg target http pypi org project thriftpy2 imag http img shield io pypi v thriftpy2 svg target http pypi org project thriftpy2 imag http img shield io pypi pyvers thriftpy2 svg target http pypi org project thriftpy2 imag http img shield io pypi implement thriftpy2 svg target http pypi org project thriftpy2 thriftpi http github com elem thriftpi deprec thriftpy2 aim provid long term support migrat thriftpi need code pythonthat s thriftpy2 fulli compat thriftpi installationinstal pip code bashyou instal cython build cython extens local code bashcod demothriftpi super easi write server client code thrift let scheckout simpl pingpong servic demo need pingpong thrift file server code pythonand client code pythonand support asyncio python 3 5 later code python code pythonse s easi refer exampl test directori sourc code moreusag exampl featurescurr thriftpi featur advantag upstreampython lib support python 2 7 python 3 4 pypi pypy3 pure python implement longer need compil amp instal thrift packag need thriftpy2 thrift file compat apach thrift use thriftpi offici implement server client upstream server thriftpy2 client opposit current implement protocol transport binari protocol python cython compact protocol python cython json protocolbuff transport python amp cython frame transporttornado server client tornado 4 0 http server clientasyncio support python 3 5 later directli load thrift file modul sdk code gener fli exampl load pingpong thrift pingpong thrift modul import hook enabl directli use import pingpong thrift file modul use import specif object thrift modul easi rpc server client setup contributefork repo chang write test show bug fix featur work expect sure test succeed send pull request contributorshttp github com thriftpi thriftpy2 graph contributorschangeloghttp github com thriftpi thriftpy2 blob master chang rst'}"
      ]
     },
     "execution_count": 20,
     "metadata": {},
     "output_type": "execute_result"
    }
   ],
   "source": [
    "docs[20000]"
   ]
  },
  {
   "cell_type": "code",
   "execution_count": 17,
   "metadata": {},
   "outputs": [
    {
     "data": {
      "text/plain": [
       "100"
      ]
     },
     "execution_count": 17,
     "metadata": {},
     "output_type": "execute_result"
    }
   ],
   "source": [
    "len(top_100_tag_list)"
   ]
  },
  {
   "cell_type": "code",
   "execution_count": 19,
   "metadata": {},
   "outputs": [
    {
     "data": {
      "text/plain": [
       "['http',\n",
       " 'client',\n",
       " 'requests',\n",
       " 'kennethreitz',\n",
       " 'forhumans',\n",
       " 'numpy',\n",
       " 'time',\n",
       " 'jinja',\n",
       " 'datetime',\n",
       " 'django',\n",
       " 'wsgi',\n",
       " 'data-analysis',\n",
       " 'cli',\n",
       " 'parsing',\n",
       " 'machine-learning',\n",
       " 'templates',\n",
       " 'testing',\n",
       " 'library',\n",
       " 'flask',\n",
       " 'werkzeug',\n",
       " 'data-science',\n",
       " 'c',\n",
       " 'template-engine',\n",
       " 'pandas',\n",
       " 'terminal',\n",
       " 'flexible',\n",
       " 'alignment',\n",
       " 'console',\n",
       " 'parallel',\n",
       " 'timezones',\n",
       " 'unittest',\n",
       " 'timezone',\n",
       " 'tzinfo',\n",
       " 'olson',\n",
       " 'test',\n",
       " 'unit-testing',\n",
       " 'web-framework',\n",
       " 'cross-platform',\n",
       " 'image-processing',\n",
       " 'image',\n",
       " 'yaml',\n",
       " 'Imaging',\n",
       " 'pil',\n",
       " 'pillow',\n",
       " 'asyncio',\n",
       " 'framework',\n",
       " 'progress-bar',\n",
       " 'progress',\n",
       " 'click',\n",
       " 'bar',\n",
       " 'eta',\n",
       " 'gui',\n",
       " 'progressbar',\n",
       " 'rate',\n",
       " 'pep8',\n",
       " 'cryptography',\n",
       " 'web',\n",
       " 'utilities',\n",
       " 'tensorflow tensor machine learning',\n",
       " 'statistics',\n",
       " 'Interactive',\n",
       " 'Interpreter',\n",
       " 'Shell',\n",
       " 'jinja2',\n",
       " 'progressbar progressmeter progress bar meter rate eta console terminal time',\n",
       " 'meter',\n",
       " 'progressmeter',\n",
       " 'network',\n",
       " 'models',\n",
       " 'orm',\n",
       " 'views',\n",
       " 'security',\n",
       " 'apps',\n",
       " 'wheel',\n",
       " 'html',\n",
       " 'urllib httplib threadsafe filepost http https ssl pooling',\n",
       " 'xml',\n",
       " 'monitoring',\n",
       " 'http-server',\n",
       " 'dns',\n",
       " 'Redis',\n",
       " 'api',\n",
       " 'serialization',\n",
       " 'encoding',\n",
       " 'i18n',\n",
       " 'key-value store',\n",
       " 'performance',\n",
       " 'html-escape',\n",
       " 'markupsafe',\n",
       " 'deep-learning',\n",
       " 'plugins',\n",
       " 'database',\n",
       " 'linux',\n",
       " 'pycodestyle',\n",
       " 'CPAN PyPI distutils eggs package management',\n",
       " 'unicode',\n",
       " 'NLP',\n",
       " 'test unittest doctest automatic discovery',\n",
       " 'tty',\n",
       " 'process']"
      ]
     },
     "execution_count": 19,
     "metadata": {},
     "output_type": "execute_result"
    }
   ],
   "source": [
    "top_100_tag_list"
   ]
  },
  {
   "cell_type": "code",
   "execution_count": 9,
   "metadata": {},
   "outputs": [
    {
     "data": {
      "text/plain": [
       "{'_id': ObjectId('5cd54b577df432344f856529'),\n",
       " 'topic': 'php',\n",
       " 'link': '/modxcms/evolution',\n",
       " 'star': '180',\n",
       " 'crawl_url': 'https://github.com/search?l=&p=36&q=stars%3A180..199+language%3APHP&ref=advsearch&type=Repositories&utf8=%E2%9C%93',\n",
       " 'archive_url': 'https://api.github.com/repos/modxcms/evolution/{archive_format}{/ref}',\n",
       " 'archived': False,\n",
       " 'assignees_url': 'https://api.github.com/repos/modxcms/evolution/assignees{/user}',\n",
       " 'blobs_url': 'https://api.github.com/repos/modxcms/evolution/git/blobs{/sha}',\n",
       " 'branches_url': 'https://api.github.com/repos/modxcms/evolution/branches{/branch}',\n",
       " 'clone_url': 'https://github.com/modxcms/evolution.git',\n",
       " 'collaborators_url': 'https://api.github.com/repos/modxcms/evolution/collaborators{/collaborator}',\n",
       " 'comments_url': 'https://api.github.com/repos/modxcms/evolution/comments{/number}',\n",
       " 'commits_url': 'https://api.github.com/repos/modxcms/evolution/commits{/sha}',\n",
       " 'compare_url': 'https://api.github.com/repos/modxcms/evolution/compare/{base}...{head}',\n",
       " 'contents_url': 'https://api.github.com/repos/modxcms/evolution/contents/{+path}',\n",
       " 'contributors_url': 'https://api.github.com/repos/modxcms/evolution/contributors',\n",
       " 'created_at': '2010-08-04T20:44:39Z',\n",
       " 'default_branch': 'master',\n",
       " 'deployments_url': 'https://api.github.com/repos/modxcms/evolution/deployments',\n",
       " 'description': 'This repository was Frozen. Welcome to the new evolution of MODX Evolution!',\n",
       " 'disabled': False,\n",
       " 'downloads_url': 'https://api.github.com/repos/modxcms/evolution/downloads',\n",
       " 'events_url': 'https://api.github.com/repos/modxcms/evolution/events',\n",
       " 'fork': False,\n",
       " 'forks': 178,\n",
       " 'forks_count': 178,\n",
       " 'forks_url': 'https://api.github.com/repos/modxcms/evolution/forks',\n",
       " 'full_name': 'modxcms/evolution',\n",
       " 'git_commits_url': 'https://api.github.com/repos/modxcms/evolution/git/commits{/sha}',\n",
       " 'git_refs_url': 'https://api.github.com/repos/modxcms/evolution/git/refs{/sha}',\n",
       " 'git_tags_url': 'https://api.github.com/repos/modxcms/evolution/git/tags{/sha}',\n",
       " 'git_url': 'git://github.com/modxcms/evolution.git',\n",
       " 'has_downloads': True,\n",
       " 'has_issues': True,\n",
       " 'has_pages': False,\n",
       " 'has_projects': True,\n",
       " 'has_wiki': True,\n",
       " 'homepage': 'https://github.com/evolution-cms/',\n",
       " 'hooks_url': 'https://api.github.com/repos/modxcms/evolution/hooks',\n",
       " 'html_url': 'https://github.com/modxcms/evolution',\n",
       " 'id': 817850,\n",
       " 'issue_comment_url': 'https://api.github.com/repos/modxcms/evolution/issues/comments{/number}',\n",
       " 'issue_events_url': 'https://api.github.com/repos/modxcms/evolution/issues/events{/number}',\n",
       " 'issues_url': 'https://api.github.com/repos/modxcms/evolution/issues{/number}',\n",
       " 'keys_url': 'https://api.github.com/repos/modxcms/evolution/keys{/key_id}',\n",
       " 'labels_url': 'https://api.github.com/repos/modxcms/evolution/labels{/name}',\n",
       " 'language': 'PHP',\n",
       " 'languages_url': 'https://api.github.com/repos/modxcms/evolution/languages',\n",
       " 'license': None,\n",
       " 'merges_url': 'https://api.github.com/repos/modxcms/evolution/merges',\n",
       " 'milestones_url': 'https://api.github.com/repos/modxcms/evolution/milestones{/number}',\n",
       " 'mirror_url': None,\n",
       " 'name': 'evolution',\n",
       " 'network_count': 178,\n",
       " 'node_id': 'MDEwOlJlcG9zaXRvcnk4MTc4NTA=',\n",
       " 'notifications_url': 'https://api.github.com/repos/modxcms/evolution/notifications{?since,all,participating}',\n",
       " 'open_issues': 2,\n",
       " 'open_issues_count': 2,\n",
       " 'organization': {'login': 'modxcms',\n",
       "  'id': 232723,\n",
       "  'node_id': 'MDEyOk9yZ2FuaXphdGlvbjIzMjcyMw==',\n",
       "  'avatar_url': 'https://avatars3.githubusercontent.com/u/232723?v=4',\n",
       "  'gravatar_id': '',\n",
       "  'url': 'https://api.github.com/users/modxcms',\n",
       "  'html_url': 'https://github.com/modxcms',\n",
       "  'followers_url': 'https://api.github.com/users/modxcms/followers',\n",
       "  'following_url': 'https://api.github.com/users/modxcms/following{/other_user}',\n",
       "  'gists_url': 'https://api.github.com/users/modxcms/gists{/gist_id}',\n",
       "  'starred_url': 'https://api.github.com/users/modxcms/starred{/owner}{/repo}',\n",
       "  'subscriptions_url': 'https://api.github.com/users/modxcms/subscriptions',\n",
       "  'organizations_url': 'https://api.github.com/users/modxcms/orgs',\n",
       "  'repos_url': 'https://api.github.com/users/modxcms/repos',\n",
       "  'events_url': 'https://api.github.com/users/modxcms/events{/privacy}',\n",
       "  'received_events_url': 'https://api.github.com/users/modxcms/received_events',\n",
       "  'type': 'Organization',\n",
       "  'site_admin': False},\n",
       " 'owner': {'login': 'modxcms',\n",
       "  'id': 232723,\n",
       "  'node_id': 'MDEyOk9yZ2FuaXphdGlvbjIzMjcyMw==',\n",
       "  'avatar_url': 'https://avatars3.githubusercontent.com/u/232723?v=4',\n",
       "  'gravatar_id': '',\n",
       "  'url': 'https://api.github.com/users/modxcms',\n",
       "  'html_url': 'https://github.com/modxcms',\n",
       "  'followers_url': 'https://api.github.com/users/modxcms/followers',\n",
       "  'following_url': 'https://api.github.com/users/modxcms/following{/other_user}',\n",
       "  'gists_url': 'https://api.github.com/users/modxcms/gists{/gist_id}',\n",
       "  'starred_url': 'https://api.github.com/users/modxcms/starred{/owner}{/repo}',\n",
       "  'subscriptions_url': 'https://api.github.com/users/modxcms/subscriptions',\n",
       "  'organizations_url': 'https://api.github.com/users/modxcms/orgs',\n",
       "  'repos_url': 'https://api.github.com/users/modxcms/repos',\n",
       "  'events_url': 'https://api.github.com/users/modxcms/events{/privacy}',\n",
       "  'received_events_url': 'https://api.github.com/users/modxcms/received_events',\n",
       "  'type': 'Organization',\n",
       "  'site_admin': False},\n",
       " 'permissions': {'admin': False, 'push': False, 'pull': True},\n",
       " 'private': False,\n",
       " 'pulls_url': 'https://api.github.com/repos/modxcms/evolution/pulls{/number}',\n",
       " 'pushed_at': '2018-12-10T14:05:24Z',\n",
       " 'releases_url': 'https://api.github.com/repos/modxcms/evolution/releases{/id}',\n",
       " 'size': 40547,\n",
       " 'ssh_url': 'git@github.com:modxcms/evolution.git',\n",
       " 'stargazers_count': 180,\n",
       " 'stargazers_url': 'https://api.github.com/repos/modxcms/evolution/stargazers',\n",
       " 'statuses_url': 'https://api.github.com/repos/modxcms/evolution/statuses/{sha}',\n",
       " 'subscribers_count': 50,\n",
       " 'subscribers_url': 'https://api.github.com/repos/modxcms/evolution/subscribers',\n",
       " 'subscription_url': 'https://api.github.com/repos/modxcms/evolution/subscription',\n",
       " 'svn_url': 'https://github.com/modxcms/evolution',\n",
       " 'tags_url': 'https://api.github.com/repos/modxcms/evolution/tags',\n",
       " 'teams_url': 'https://api.github.com/repos/modxcms/evolution/teams',\n",
       " 'trees_url': 'https://api.github.com/repos/modxcms/evolution/git/trees{/sha}',\n",
       " 'updated_at': '2019-04-24T09:08:22Z',\n",
       " 'url': 'https://api.github.com/repos/modxcms/evolution',\n",
       " 'watchers': 180,\n",
       " 'watchers_count': 180,\n",
       " 'topics': ['content', 'CMS', 'routing', 'templating'],\n",
       " 'lang': {'PHP': 8477709,\n",
       "  'JavaScript': 2398052,\n",
       "  'CSS': 389199,\n",
       "  'Smarty': 132332,\n",
       "  'HTML': 111706,\n",
       "  'Makefile': 1987},\n",
       " 'readme_file': 1,\n",
       " 'composer_file': 0,\n",
       " 'package_file': 0,\n",
       " 'composer_paser': {'name': 'evolutioncms/evolution',\n",
       "  'description': 'Evolution CMS is a Content Management System, ex MODX Evolution',\n",
       "  'type': 'project',\n",
       "  'keywords': ['content', 'CMS', 'routing', 'templating'],\n",
       "  'homepage': 'http://evo.im/',\n",
       "  'license': 'GPL-2.0+',\n",
       "  'authors': [{'name': 'Dmytro Lukianenko',\n",
       "    'email': 'dmi3yy@gmail.com',\n",
       "    'homepage': 'http://dmi3yy.com',\n",
       "    'role': 'Developer'}],\n",
       "  'support': {'docs': 'http://docs.evo.im',\n",
       "   'email': 'dmi3yy@evo.im',\n",
       "   'telegram': 'https://t.me/evolutioncms',\n",
       "   'issues': 'https://github.com/evolution-cms/evolution/issues/',\n",
       "   'source': 'https://github.com/evolution-cms/evolution/'},\n",
       "  'config': {'vendor-dir': 'vendor'},\n",
       "  'require': {'php': '>=5.6'},\n",
       "  'minimum-stability': 'dev',\n",
       "  'prefer-stable': True,\n",
       "  'require_set': ['php']},\n",
       " 'readme_parser': 'evolut cm evolut cm requir php gt 5 6what evoevo open sourc content manag system applic framework historyiniti inspir etomit 0 6 modx evolut 0 7 1 0 8 ongo project write raymond irv core team contributor modx evolut cm maintain dmytro lukianenko core team contributor evo project licenseevo distribut gpl licens run profession team develop world visit forum inform featuresevo provid fast lightweight power framework deploy secur websit web applic exampl give true system regist web user group separ administr user grant web user access page access page content manag easili duplic document folder child chunk snippet signific evo s abil empow quickli easili creat maintain rich dynam websit like installjust use evo installerscreenshotsreferencesoffici websit http evo be download http github com evolut cm evolut releasesprevi releas http modx com download evolut previou releas htmlextra http extra evo imdocument http doc evo imhttp evolut doc com',\n",
       " 'composer_tag': {}}"
      ]
     },
     "execution_count": 9,
     "metadata": {},
     "output_type": "execute_result"
    }
   ],
   "source": [
    "d"
   ]
  },
  {
   "cell_type": "code",
   "execution_count": 8,
   "metadata": {},
   "outputs": [
    {
     "ename": "NameError",
     "evalue": "name 'composer_tag_set' is not defined",
     "output_type": "error",
     "traceback": [
      "\u001b[0;31m---------------------------------------------------------------------------\u001b[0m",
      "\u001b[0;31mNameError\u001b[0m                                 Traceback (most recent call last)",
      "\u001b[0;32m<ipython-input-8-937c60d23a17>\u001b[0m in \u001b[0;36m<module>\u001b[0;34m\u001b[0m\n\u001b[0;32m----> 1\u001b[0;31m \u001b[0mcomposer_tag_set\u001b[0m\u001b[0;34m\u001b[0m\u001b[0;34m\u001b[0m\u001b[0m\n\u001b[0m",
      "\u001b[0;31mNameError\u001b[0m: name 'composer_tag_set' is not defined"
     ]
    }
   ],
   "source": [
    "composer_tag_set"
   ]
  },
  {
   "cell_type": "code",
   "execution_count": 23,
   "metadata": {},
   "outputs": [],
   "source": [
    "db2.find_one({\"name\":r})"
   ]
  },
  {
   "cell_type": "code",
   "execution_count": 15,
   "metadata": {},
   "outputs": [
    {
     "data": {
      "text/plain": [
       "100"
      ]
     },
     "execution_count": 15,
     "metadata": {},
     "output_type": "execute_result"
    }
   ],
   "source": [
    "len(list(db2.find()))"
   ]
  }
 ],
 "metadata": {
  "kernelspec": {
   "display_name": "ml",
   "language": "python",
   "name": "ml"
  },
  "language_info": {
   "codemirror_mode": {
    "name": "ipython",
    "version": 3
   },
   "file_extension": ".py",
   "mimetype": "text/x-python",
   "name": "python",
   "nbconvert_exporter": "python",
   "pygments_lexer": "ipython3",
   "version": "3.7.2"
  }
 },
 "nbformat": 4,
 "nbformat_minor": 2
}
