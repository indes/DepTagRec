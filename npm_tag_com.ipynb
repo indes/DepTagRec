{
 "cells": [
  {
   "cell_type": "code",
   "execution_count": 21,
   "metadata": {},
   "outputs": [],
   "source": [
    "import pymongo\n",
    "from tqdm import tqdm\n",
    "import os"
   ]
  },
  {
   "cell_type": "code",
   "execution_count": 22,
   "metadata": {},
   "outputs": [],
   "source": [
    "client = pymongo.MongoClient(host=\"192.168.0.106\", port=29197)\n",
    "client[\"github\"].authenticate(\"github\", \"git332\", \"github\")\n",
    "db = client[\"github\"]"
   ]
  },
  {
   "cell_type": "code",
   "execution_count": 23,
   "metadata": {},
   "outputs": [],
   "source": [
    "db1 = db.all_step3\n",
    "db2 = db.npm_require_map_detail\n",
    "db3 = db.npm_tag_top100"
   ]
  },
  {
   "cell_type": "code",
   "execution_count": 24,
   "metadata": {},
   "outputs": [],
   "source": [
    "docs = list(db1.find())"
   ]
  },
  {
   "cell_type": "code",
   "execution_count": 25,
   "metadata": {},
   "outputs": [],
   "source": [
    "top_100_doc = list(db3.find())"
   ]
  },
  {
   "cell_type": "code",
   "execution_count": 26,
   "metadata": {},
   "outputs": [],
   "source": [
    "top_100_tag_list = [x[\"name\"] for x in top_100_doc]"
   ]
  },
  {
   "cell_type": "code",
   "execution_count": 27,
   "metadata": {},
   "outputs": [],
   "source": [
    "detail_list = list(db2.find())"
   ]
  },
  {
   "cell_type": "code",
   "execution_count": 28,
   "metadata": {},
   "outputs": [
    {
     "data": {
      "text/plain": [
       "{'_id': ObjectId('5cd2e6187df4324ceb3841d2'),\n",
       " 'name': 'gray-matter',\n",
       " 'platform': 'NPM',\n",
       " 'description': 'Parse front-matter from a string or file. Fast, reliable and easy to use. Parses YAML front matter by default, but also has support for YAML, JSON, TOML or Coffee Front-Matter, with options to set custom delimiters. Used by metalsmith, assemble, verb and ',\n",
       " 'homepage': 'https://github.com/jonschlinkert/gray-matter',\n",
       " 'repository_url': 'https://github.com/jonschlinkert/gray-matter',\n",
       " 'normalized_licenses': ['MIT'],\n",
       " 'rank': 24,\n",
       " 'latest_release_published_at': '2019-01-11T02:44:15.464Z',\n",
       " 'latest_release_number': '4.0.2',\n",
       " 'language': 'JavaScript',\n",
       " 'status': None,\n",
       " 'package_manager_url': 'https://www.npmjs.com/package/gray-matter',\n",
       " 'stars': 452,\n",
       " 'forks': 49,\n",
       " 'keywords': ['assemble',\n",
       "  'coffee',\n",
       "  'coffee-script',\n",
       "  'data',\n",
       "  'docs',\n",
       "  'documentation',\n",
       "  'extract',\n",
       "  'extracting',\n",
       "  'front',\n",
       "  'front-matter',\n",
       "  'frontmatter',\n",
       "  'generate',\n",
       "  'generator',\n",
       "  'gh-pages',\n",
       "  'gray',\n",
       "  'javascript',\n",
       "  'jekyll',\n",
       "  'js',\n",
       "  'JSON',\n",
       "  'markdown',\n",
       "  'matter',\n",
       "  'parse',\n",
       "  'parser',\n",
       "  'parsing',\n",
       "  'site',\n",
       "  'static',\n",
       "  'template',\n",
       "  'toml',\n",
       "  'yaml',\n",
       "  'yfm',\n",
       "  'config',\n",
       "  'front-matter-parsers',\n",
       "  'gatsby',\n",
       "  'jonschlinkert',\n",
       "  'mapbox',\n",
       "  'metalsmith',\n",
       "  'netlify',\n",
       "  'node',\n",
       "  'nodejs',\n",
       "  'phenomic'],\n",
       " 'latest_stable_release': {'id': 18851162,\n",
       "  'project_id': 153188,\n",
       "  'number': '4.0.2',\n",
       "  'published_at': '2019-01-11T02:44:15.464Z',\n",
       "  'created_at': '2019-04-21T04:42:21.132Z',\n",
       "  'updated_at': '2019-04-21T04:42:21.132Z',\n",
       "  'runtime_dependencies_count': 4},\n",
       " 'latest_download_url': 'https://registry.npmjs.org/gray-matter/-/gray-matter-4.0.2.tgz',\n",
       " 'dependents_count': 467,\n",
       " 'dependent_repos_count': 8012,\n",
       " 'latest_stable_release_number': '4.0.2',\n",
       " 'latest_stable_release_published_at': '2019-01-11T02:44:15.464Z',\n",
       " 'versions': [{'number': '0.1.0', 'published_at': '2014-01-28T01:45:29.503Z'},\n",
       "  {'number': '0.2.0', 'published_at': '2014-01-30T13:42:18.743Z'},\n",
       "  {'number': '0.2.1', 'published_at': '2014-01-30T14:54:26.064Z'},\n",
       "  {'number': '0.2.3', 'published_at': '2014-01-30T16:30:40.949Z'},\n",
       "  {'number': '0.2.4', 'published_at': '2014-02-03T07:35:34.823Z'},\n",
       "  {'number': '0.2.5', 'published_at': '2014-02-03T08:16:54.368Z'},\n",
       "  {'number': '0.2.6', 'published_at': '2014-02-03T09:05:42.032Z'},\n",
       "  {'number': '0.2.8', 'published_at': '2014-02-06T15:09:49.481Z'},\n",
       "  {'number': '0.3.0', 'published_at': '2014-03-16T16:07:34.570Z'},\n",
       "  {'number': '0.3.1', 'published_at': '2014-03-17T10:00:38.956Z'},\n",
       "  {'number': '0.3.3', 'published_at': '2014-03-25T07:27:24.929Z'},\n",
       "  {'number': '0.3.4', 'published_at': '2014-03-25T11:46:11.284Z'},\n",
       "  {'number': '0.3.5', 'published_at': '2014-04-20T10:12:24.223Z'},\n",
       "  {'number': '0.4.0', 'published_at': '2014-05-19T08:54:25.185Z'},\n",
       "  {'number': '0.4.1', 'published_at': '2014-05-27T01:22:37.640Z'},\n",
       "  {'number': '0.4.2', 'published_at': '2014-05-27T17:16:01.738Z'},\n",
       "  {'number': '0.5.0', 'published_at': '2014-08-29T06:02:43.691Z'},\n",
       "  {'number': '0.5.1', 'published_at': '2014-09-24T08:51:34.889Z'},\n",
       "  {'number': '0.5.2', 'published_at': '2014-10-24T07:11:36.624Z'},\n",
       "  {'number': '0.5.3', 'published_at': '2014-10-24T18:17:51.412Z'},\n",
       "  {'number': '0.6.0', 'published_at': '2014-11-22T00:07:42.810Z'},\n",
       "  {'number': '0.6.1', 'published_at': '2014-11-27T05:38:34.915Z'},\n",
       "  {'number': '0.6.2', 'published_at': '2014-12-05T04:52:24.532Z'},\n",
       "  {'number': '1.0.0', 'published_at': '2014-12-05T06:03:22.374Z'},\n",
       "  {'number': '1.0.1', 'published_at': '2014-12-05T06:11:54.781Z'},\n",
       "  {'number': '1.0.2', 'published_at': '2014-12-10T06:10:26.378Z'},\n",
       "  {'number': '1.1.0', 'published_at': '2015-01-16T04:45:15.270Z'},\n",
       "  {'number': '1.1.1', 'published_at': '2015-01-16T13:57:31.311Z'},\n",
       "  {'number': '1.1.2', 'published_at': '2015-01-16T14:13:19.695Z'},\n",
       "  {'number': '1.2.0', 'published_at': '2015-02-07T02:58:10.979Z'},\n",
       "  {'number': '1.2.1', 'published_at': '2015-02-07T03:05:53.890Z'},\n",
       "  {'number': '1.2.2', 'published_at': '2015-02-07T04:01:51.569Z'},\n",
       "  {'number': '1.2.3', 'published_at': '2015-02-13T02:53:51.689Z'},\n",
       "  {'number': '1.2.4', 'published_at': '2015-02-17T23:55:20.329Z'},\n",
       "  {'number': '1.2.5', 'published_at': '2015-02-21T03:49:30.518Z'},\n",
       "  {'number': '1.2.6', 'published_at': '2015-03-02T20:00:25.611Z'},\n",
       "  {'number': '1.3.0', 'published_at': '2015-03-10T09:03:54.359Z'},\n",
       "  {'number': '2.0.0', 'published_at': '2015-03-26T04:47:43.944Z'},\n",
       "  {'number': '2.0.1', 'published_at': '2015-07-17T00:15:07.331Z'},\n",
       "  {'number': '2.0.2', 'published_at': '2015-11-14T21:54:18.618Z'},\n",
       "  {'number': '2.1.0', 'published_at': '2016-10-25T10:28:29.222Z'},\n",
       "  {'number': '2.1.1', 'published_at': '2017-02-25T23:01:22.243Z'},\n",
       "  {'number': '3.0.0', 'published_at': '2017-06-30T09:10:16.573Z'},\n",
       "  {'number': '3.0.1', 'published_at': '2017-06-30T18:07:39.021Z'},\n",
       "  {'number': '3.0.2', 'published_at': '2017-07-01T05:41:11.119Z'},\n",
       "  {'number': '3.0.3', 'published_at': '2017-08-19T17:55:34.872Z'},\n",
       "  {'number': '3.0.4', 'published_at': '2017-09-14T23:28:44.824Z'},\n",
       "  {'number': '3.0.5', 'published_at': '2017-09-14T23:33:36.205Z'},\n",
       "  {'number': '3.0.6', 'published_at': '2017-09-15T03:21:21.151Z'},\n",
       "  {'number': '3.0.7', 'published_at': '2017-09-22T01:39:37.168Z'},\n",
       "  {'number': '3.0.8', 'published_at': '2017-10-05T23:52:31.712Z'},\n",
       "  {'number': '3.1.0', 'published_at': '2017-10-19T15:36:56.967Z'},\n",
       "  {'number': '3.1.1', 'published_at': '2017-10-21T02:01:24.604Z'},\n",
       "  {'number': '4.0.0', 'published_at': '2018-04-02T03:34:46.178Z'},\n",
       "  {'number': '4.0.1', 'published_at': '2018-04-02T03:40:34.392Z'},\n",
       "  {'number': '4.0.2', 'published_at': '2019-01-11T02:44:15.464Z'}]}"
      ]
     },
     "execution_count": 28,
     "metadata": {},
     "output_type": "execute_result"
    }
   ],
   "source": [
    "detail_list[0]"
   ]
  },
  {
   "cell_type": "code",
   "execution_count": 29,
   "metadata": {},
   "outputs": [
    {
     "data": {
      "text/plain": [
       "33513"
      ]
     },
     "execution_count": 29,
     "metadata": {},
     "output_type": "execute_result"
    }
   ],
   "source": [
    "len(detail_list)"
   ]
  },
  {
   "cell_type": "code",
   "execution_count": 30,
   "metadata": {},
   "outputs": [],
   "source": [
    "detail_map = {d[\"name\"]:d for d in detail_list if \"name\" in d}"
   ]
  },
  {
   "cell_type": "code",
   "execution_count": 31,
   "metadata": {},
   "outputs": [
    {
     "data": {
      "text/plain": [
       "31385"
      ]
     },
     "execution_count": 31,
     "metadata": {},
     "output_type": "execute_result"
    }
   ],
   "source": [
    "len(detail_map)"
   ]
  },
  {
   "cell_type": "code",
   "execution_count": 33,
   "metadata": {},
   "outputs": [
    {
     "data": {
      "text/plain": [
       "False"
      ]
     },
     "execution_count": 33,
     "metadata": {},
     "output_type": "execute_result"
    }
   ],
   "source": [
    "\"node\" in top_100_tag_list"
   ]
  },
  {
   "cell_type": "code",
   "execution_count": 37,
   "metadata": {},
   "outputs": [
    {
     "name": "stderr",
     "output_type": "stream",
     "text": [
      "100%|██████████| 29368/29368 [00:59<00:00, 491.76it/s] \n"
     ]
    }
   ],
   "source": [
    "for d in tqdm(docs):\n",
    "    if \"package_paser\" in d:\n",
    "        composer_tag_map = {}\n",
    "        try:\n",
    "            for r in d[\"package_paser\"][\"package_set\"]:\n",
    "                if r in detail_map:\n",
    "                    r_detail = detail_map[r]\n",
    "                    for t in r_detail[\"keywords\"]:\n",
    "                        if t in top_100_tag_list:\n",
    "                            if t in composer_tag_map:\n",
    "                                composer_tag_map[t] += 1\n",
    "                            else:\n",
    "                                composer_tag_map[t] = 1\n",
    "        except:\n",
    "            pass\n",
    "        \n",
    "        d[\"npm_tag\"] = composer_tag_map\n",
    "        db1.update_one({'_id': d['_id']}, {\"$set\": d})\n",
    "                    \n",
    "#                         composer_tag_set.add(t)\n",
    "#         break"
   ]
  },
  {
   "cell_type": "code",
   "execution_count": 35,
   "metadata": {},
   "outputs": [
    {
     "data": {
      "text/plain": [
       "100"
      ]
     },
     "execution_count": 35,
     "metadata": {},
     "output_type": "execute_result"
    }
   ],
   "source": [
    "len(top_100_tag_list)"
   ]
  },
  {
   "cell_type": "code",
   "execution_count": 36,
   "metadata": {},
   "outputs": [
    {
     "data": {
      "text/plain": [
       "{'_id': ObjectId('5cd5356d7df4322c77a1f707'),\n",
       " 'topic': 'js',\n",
       " 'link': '/freeCodeCamp/freeCodeCamp',\n",
       " 'star': '302k',\n",
       " 'crawl_url': 'https://github.com/search?q=stars%3A%3E5000+language%3Ajavascript&type=Repositories',\n",
       " 'archive_url': 'https://api.github.com/repos/freeCodeCamp/freeCodeCamp/{archive_format}{/ref}',\n",
       " 'archived': False,\n",
       " 'assignees_url': 'https://api.github.com/repos/freeCodeCamp/freeCodeCamp/assignees{/user}',\n",
       " 'blobs_url': 'https://api.github.com/repos/freeCodeCamp/freeCodeCamp/git/blobs{/sha}',\n",
       " 'branches_url': 'https://api.github.com/repos/freeCodeCamp/freeCodeCamp/branches{/branch}',\n",
       " 'clone_url': 'https://github.com/freeCodeCamp/freeCodeCamp.git',\n",
       " 'collaborators_url': 'https://api.github.com/repos/freeCodeCamp/freeCodeCamp/collaborators{/collaborator}',\n",
       " 'comments_url': 'https://api.github.com/repos/freeCodeCamp/freeCodeCamp/comments{/number}',\n",
       " 'commits_url': 'https://api.github.com/repos/freeCodeCamp/freeCodeCamp/commits{/sha}',\n",
       " 'compare_url': 'https://api.github.com/repos/freeCodeCamp/freeCodeCamp/compare/{base}...{head}',\n",
       " 'contents_url': 'https://api.github.com/repos/freeCodeCamp/freeCodeCamp/contents/{+path}',\n",
       " 'contributors_url': 'https://api.github.com/repos/freeCodeCamp/freeCodeCamp/contributors',\n",
       " 'created_at': '2014-12-24T17:49:19Z',\n",
       " 'default_branch': 'master',\n",
       " 'deployments_url': 'https://api.github.com/repos/freeCodeCamp/freeCodeCamp/deployments',\n",
       " 'description': 'The https://www.freeCodeCamp.org open source codebase and curriculum. Learn to code for free together with millions of people.',\n",
       " 'disabled': False,\n",
       " 'downloads_url': 'https://api.github.com/repos/freeCodeCamp/freeCodeCamp/downloads',\n",
       " 'events_url': 'https://api.github.com/repos/freeCodeCamp/freeCodeCamp/events',\n",
       " 'fork': False,\n",
       " 'forks': 21762,\n",
       " 'forks_count': 21762,\n",
       " 'forks_url': 'https://api.github.com/repos/freeCodeCamp/freeCodeCamp/forks',\n",
       " 'full_name': 'freeCodeCamp/freeCodeCamp',\n",
       " 'git_commits_url': 'https://api.github.com/repos/freeCodeCamp/freeCodeCamp/git/commits{/sha}',\n",
       " 'git_refs_url': 'https://api.github.com/repos/freeCodeCamp/freeCodeCamp/git/refs{/sha}',\n",
       " 'git_tags_url': 'https://api.github.com/repos/freeCodeCamp/freeCodeCamp/git/tags{/sha}',\n",
       " 'git_url': 'git://github.com/freeCodeCamp/freeCodeCamp.git',\n",
       " 'has_downloads': True,\n",
       " 'has_issues': True,\n",
       " 'has_pages': False,\n",
       " 'has_projects': False,\n",
       " 'has_wiki': False,\n",
       " 'homepage': '',\n",
       " 'hooks_url': 'https://api.github.com/repos/freeCodeCamp/freeCodeCamp/hooks',\n",
       " 'html_url': 'https://github.com/freeCodeCamp/freeCodeCamp',\n",
       " 'id': 28457823,\n",
       " 'issue_comment_url': 'https://api.github.com/repos/freeCodeCamp/freeCodeCamp/issues/comments{/number}',\n",
       " 'issue_events_url': 'https://api.github.com/repos/freeCodeCamp/freeCodeCamp/issues/events{/number}',\n",
       " 'issues_url': 'https://api.github.com/repos/freeCodeCamp/freeCodeCamp/issues{/number}',\n",
       " 'keys_url': 'https://api.github.com/repos/freeCodeCamp/freeCodeCamp/keys{/key_id}',\n",
       " 'labels_url': 'https://api.github.com/repos/freeCodeCamp/freeCodeCamp/labels{/name}',\n",
       " 'language': 'JavaScript',\n",
       " 'languages_url': 'https://api.github.com/repos/freeCodeCamp/freeCodeCamp/languages',\n",
       " 'license': {'key': 'bsd-3-clause',\n",
       "  'name': 'BSD 3-Clause \"New\" or \"Revised\" License',\n",
       "  'spdx_id': 'BSD-3-Clause',\n",
       "  'url': 'https://api.github.com/licenses/bsd-3-clause',\n",
       "  'node_id': 'MDc6TGljZW5zZTU='},\n",
       " 'merges_url': 'https://api.github.com/repos/freeCodeCamp/freeCodeCamp/merges',\n",
       " 'milestones_url': 'https://api.github.com/repos/freeCodeCamp/freeCodeCamp/milestones{/number}',\n",
       " 'mirror_url': None,\n",
       " 'name': 'freeCodeCamp',\n",
       " 'network_count': 21762,\n",
       " 'node_id': 'MDEwOlJlcG9zaXRvcnkyODQ1NzgyMw==',\n",
       " 'notifications_url': 'https://api.github.com/repos/freeCodeCamp/freeCodeCamp/notifications{?since,all,participating}',\n",
       " 'open_issues': 2372,\n",
       " 'open_issues_count': 2372,\n",
       " 'organization': {'login': 'freeCodeCamp',\n",
       "  'id': 9892522,\n",
       "  'node_id': 'MDEyOk9yZ2FuaXphdGlvbjk4OTI1MjI=',\n",
       "  'avatar_url': 'https://avatars0.githubusercontent.com/u/9892522?v=4',\n",
       "  'gravatar_id': '',\n",
       "  'url': 'https://api.github.com/users/freeCodeCamp',\n",
       "  'html_url': 'https://github.com/freeCodeCamp',\n",
       "  'followers_url': 'https://api.github.com/users/freeCodeCamp/followers',\n",
       "  'following_url': 'https://api.github.com/users/freeCodeCamp/following{/other_user}',\n",
       "  'gists_url': 'https://api.github.com/users/freeCodeCamp/gists{/gist_id}',\n",
       "  'starred_url': 'https://api.github.com/users/freeCodeCamp/starred{/owner}{/repo}',\n",
       "  'subscriptions_url': 'https://api.github.com/users/freeCodeCamp/subscriptions',\n",
       "  'organizations_url': 'https://api.github.com/users/freeCodeCamp/orgs',\n",
       "  'repos_url': 'https://api.github.com/users/freeCodeCamp/repos',\n",
       "  'events_url': 'https://api.github.com/users/freeCodeCamp/events{/privacy}',\n",
       "  'received_events_url': 'https://api.github.com/users/freeCodeCamp/received_events',\n",
       "  'type': 'Organization',\n",
       "  'site_admin': False},\n",
       " 'owner': {'login': 'freeCodeCamp',\n",
       "  'id': 9892522,\n",
       "  'node_id': 'MDEyOk9yZ2FuaXphdGlvbjk4OTI1MjI=',\n",
       "  'avatar_url': 'https://avatars0.githubusercontent.com/u/9892522?v=4',\n",
       "  'gravatar_id': '',\n",
       "  'url': 'https://api.github.com/users/freeCodeCamp',\n",
       "  'html_url': 'https://github.com/freeCodeCamp',\n",
       "  'followers_url': 'https://api.github.com/users/freeCodeCamp/followers',\n",
       "  'following_url': 'https://api.github.com/users/freeCodeCamp/following{/other_user}',\n",
       "  'gists_url': 'https://api.github.com/users/freeCodeCamp/gists{/gist_id}',\n",
       "  'starred_url': 'https://api.github.com/users/freeCodeCamp/starred{/owner}{/repo}',\n",
       "  'subscriptions_url': 'https://api.github.com/users/freeCodeCamp/subscriptions',\n",
       "  'organizations_url': 'https://api.github.com/users/freeCodeCamp/orgs',\n",
       "  'repos_url': 'https://api.github.com/users/freeCodeCamp/repos',\n",
       "  'events_url': 'https://api.github.com/users/freeCodeCamp/events{/privacy}',\n",
       "  'received_events_url': 'https://api.github.com/users/freeCodeCamp/received_events',\n",
       "  'type': 'Organization',\n",
       "  'site_admin': False},\n",
       " 'permissions': {'admin': False, 'push': False, 'pull': True},\n",
       " 'private': False,\n",
       " 'pulls_url': 'https://api.github.com/repos/freeCodeCamp/freeCodeCamp/pulls{/number}',\n",
       " 'pushed_at': '2019-05-06T12:27:39Z',\n",
       " 'releases_url': 'https://api.github.com/repos/freeCodeCamp/freeCodeCamp/releases{/id}',\n",
       " 'size': 113751,\n",
       " 'ssh_url': 'git@github.com:freeCodeCamp/freeCodeCamp.git',\n",
       " 'stargazers_count': 302382,\n",
       " 'stargazers_url': 'https://api.github.com/repos/freeCodeCamp/freeCodeCamp/stargazers',\n",
       " 'statuses_url': 'https://api.github.com/repos/freeCodeCamp/freeCodeCamp/statuses/{sha}',\n",
       " 'subscribers_count': 8426,\n",
       " 'subscribers_url': 'https://api.github.com/repos/freeCodeCamp/freeCodeCamp/subscribers',\n",
       " 'subscription_url': 'https://api.github.com/repos/freeCodeCamp/freeCodeCamp/subscription',\n",
       " 'svn_url': 'https://github.com/freeCodeCamp/freeCodeCamp',\n",
       " 'tags_url': 'https://api.github.com/repos/freeCodeCamp/freeCodeCamp/tags',\n",
       " 'teams_url': 'https://api.github.com/repos/freeCodeCamp/freeCodeCamp/teams',\n",
       " 'trees_url': 'https://api.github.com/repos/freeCodeCamp/freeCodeCamp/git/trees{/sha}',\n",
       " 'updated_at': '2019-05-06T13:53:27Z',\n",
       " 'url': 'https://api.github.com/repos/freeCodeCamp/freeCodeCamp',\n",
       " 'watchers': 302382,\n",
       " 'watchers_count': 302382,\n",
       " 'topics': ['learn-to-code',\n",
       "  'nonprofits',\n",
       "  'programming',\n",
       "  'nodejs',\n",
       "  'react',\n",
       "  'd3',\n",
       "  'careers',\n",
       "  'education',\n",
       "  'teachers',\n",
       "  'javascript',\n",
       "  'certification',\n",
       "  'curriculum',\n",
       "  'math',\n",
       "  'community'],\n",
       " 'lang': {'JavaScript': 911455, 'CSS': 38680, 'HTML': 16591, 'Shell': 984},\n",
       " 'readme_file': 1,\n",
       " 'package_file': 1,\n",
       " 'package_paser': {'author': 'Carlos Rodriguez <carlos@s8f.org> (http://s8f.org/)',\n",
       "  'name': 'buffet',\n",
       "  'description': 'Static file server with in-memory cache',\n",
       "  'version': '1.0.10',\n",
       "  'main': 'index.js',\n",
       "  'scripts': {'test': 'make test'},\n",
       "  'bin': './bin/buffet.js',\n",
       "  'repository': {'type': 'git', 'url': 'git://github.com/carlos8f/buffet.git'},\n",
       "  'license': 'MIT',\n",
       "  'dependencies': {'accesslog': '0.0.2',\n",
       "   'commander': '^2.9.0',\n",
       "   'dish': '^1.0.7',\n",
       "   'mayonnaise': '^0.3.2',\n",
       "   'middler': '^0.8.2'},\n",
       "  'keywords': ['static', 'middleware', 'server', 'file', 'buffer'],\n",
       "  'devDependencies': {'benchmarx': '^0.2.5',\n",
       "   'idgen': '^2.0.2',\n",
       "   'mocha': '^2.4.5',\n",
       "   'ncp': '^2.0.0',\n",
       "   'request': '^2.72.0',\n",
       "   'rimraf': '^2.5.2'},\n",
       "  'package_set': ['gray-matter',\n",
       "   'dotenv',\n",
       "   '@freecodecamp/eslint-config',\n",
       "   'eslint',\n",
       "   'ora',\n",
       "   'jest',\n",
       "   'eslint-plugin-prefer-object-spread',\n",
       "   'eslint-plugin-prettier',\n",
       "   'eslint-plugin-import',\n",
       "   'slugg',\n",
       "   'eslint-plugin-babel',\n",
       "   'shx',\n",
       "   'husky',\n",
       "   'babel-eslint',\n",
       "   'lodash',\n",
       "   'debug',\n",
       "   'npm-run-all',\n",
       "   'eslint-plugin-react',\n",
       "   'eslint-config-prettier',\n",
       "   'readdirp-walk',\n",
       "   'sinon-express-mock',\n",
       "   'prettier',\n",
       "   'faker',\n",
       "   'cross-env',\n",
       "   'lint-staged',\n",
       "   'shortid',\n",
       "   'lerna',\n",
       "   'sinon']},\n",
       " 'readme_parser': 'welcom freecodecamp org s open sourc codebas curriculum freecodecamp org friendli commun learn code free run donor support 501 c 3 nonprofit goal help million busi adult transit tech commun help 10 000 peopl develop job stack web develop curriculum complet free self pace thousand interact code challeng help expand skill tabl contentscertificationsth learn platformfound bugfound secur issuecontributinglicensecertificationsfreecodecamp org offer free develop certif certif involv build 5 requir web app project hundr option code challeng help prepar project estim certif begin programm 300 hour earn 30 project freecodecamp org curriculum agil user stori autom test help build project increment ensur ve fulfil user stori submit pull test suit freecodecamp s cdn mean build project websit like codepen glitch local comput s develop environ ve earn certif abl link linkedin résumé prospect employ freelanc client click link will verifi certif specif except event discov violat academ honesti polici catch peopl unambigu plagiar submit peopl s code project citat rigor institut learn revok certif ban peopl core certif 1 respons web design certificationbas html html5basic cssappli visual designappli accessibilityrespons web design principlescss flexboxcss grid project tribut page survey form product land page technic document page person portfolio webpage2 javascript algorithm datum structur certificationbas javascriptes6regular expressionsdebuggingbas datum structuresalgorithm scriptingobject orient programmingfunct programmingintermedi algorithm script project palindrom checker roman numer convert caesar s cipher telephon number valid cash register3 end librari certificationbootstrapjquerysassreactreduxreact redux project random quot machin markdown preview drum machin javascript calcul pomodoro clock4 data visual certificationdata visual d3json api ajax project bar chart scatterplot graph heat map choropleth map treemap diagram5 api microservic certificationmanag packag npmbasic node expressmongodb mongoos project timestamp microservic request header parser url shorten exercis tracker file metadata microservice6 inform secur qualiti assur certificationinform secur helmetjsqu assur test chaiadvanc node express project metric imperi convert issu tracker person librari stock price checker anonym messag boardful stack develop certificationonc earn 6 certif will abl claim freecodecamp org stack develop certif final distinct signifi ve complet 1 800 hour cod wide rang web develop tool legaci certificationsw 3 legaci certif 2015 curriculum avail requir project legaci certif remain avail freecodecamp org legaci end develop certificationlegaci datum visual certificationlegaci end develop certificationth learn platformthi code run live freecodecamp org commun forum usual program help project feedback hour youtub channel free cours python sql android wide varieti technolog podcast technolog insight inspir stori develop local studi group world code persona comprehens guid thousand program topicsmedium s larg technic publicationa facebook group 100 000 member worldwidejoin commun find bug think ve find bug read help ve find bug articl follow instruct confid s new bug confirm face issu ahead creat new github issu sure includ inform possibl reproduc bug find secur issu don t creat github issu secur issu instead send email will look immedi contributingpleas follow step contribut licensecopyright © 2019 freecodecamp orgth content repositori bind follow licens comput softwar licens bsd 3 claus licens learn resourc directori includ subdirectori thereon licens cc sa 4 0 licens',\n",
       " 'npm_tag': {'markdown': 2,\n",
       "  'parse': 1,\n",
       "  'parser': 1,\n",
       "  'ast': 2,\n",
       "  'ecmascript': 2,\n",
       "  'static-code-analysis': 1,\n",
       "  'cli': 3,\n",
       "  'ava': 1,\n",
       "  'babel': 3,\n",
       "  'coverage': 1,\n",
       "  'facebook': 1,\n",
       "  'jasmine': 1,\n",
       "  'mocha': 2,\n",
       "  'qunit': 1,\n",
       "  'runner': 1,\n",
       "  'snapshot': 1,\n",
       "  'tap': 1,\n",
       "  'watch': 1,\n",
       "  'prettier': 4,\n",
       "  'import': 1,\n",
       "  'url': 1,\n",
       "  'string': 1,\n",
       "  'git': 2,\n",
       "  'util': 2,\n",
       "  'lodash': 1,\n",
       "  'log': 1,\n",
       "  'browser': 1,\n",
       "  'command': 1,\n",
       "  'tool': 1,\n",
       "  'npm': 2,\n",
       "  'parallel': 1,\n",
       "  'react': 2,\n",
       "  'development': 1,\n",
       "  'router': 1,\n",
       "  'utility': 1,\n",
       "  'angular': 1,\n",
       "  'css': 1,\n",
       "  'html': 1,\n",
       "  'scss': 1,\n",
       "  'vue': 1,\n",
       "  'code': 1,\n",
       "  'check': 1,\n",
       "  'validate': 1,\n",
       "  'tdd': 1}}"
      ]
     },
     "execution_count": 36,
     "metadata": {},
     "output_type": "execute_result"
    }
   ],
   "source": [
    "docs[0]"
   ]
  },
  {
   "cell_type": "code",
   "execution_count": 23,
   "metadata": {},
   "outputs": [],
   "source": [
    "db2.find_one({\"name\":r})"
   ]
  },
  {
   "cell_type": "code",
   "execution_count": 15,
   "metadata": {},
   "outputs": [
    {
     "data": {
      "text/plain": [
       "100"
      ]
     },
     "execution_count": 15,
     "metadata": {},
     "output_type": "execute_result"
    }
   ],
   "source": [
    "len(list(db2.find()))"
   ]
  }
 ],
 "metadata": {
  "kernelspec": {
   "display_name": "ml",
   "language": "python",
   "name": "ml"
  },
  "language_info": {
   "codemirror_mode": {
    "name": "ipython",
    "version": 3
   },
   "file_extension": ".py",
   "mimetype": "text/x-python",
   "name": "python",
   "nbconvert_exporter": "python",
   "pygments_lexer": "ipython3",
   "version": "3.7.2"
  }
 },
 "nbformat": 4,
 "nbformat_minor": 2
}
