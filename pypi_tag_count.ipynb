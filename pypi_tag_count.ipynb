{
 "cells": [
  {
   "cell_type": "code",
   "execution_count": 3,
   "metadata": {},
   "outputs": [
    {
     "name": "stderr",
     "output_type": "stream",
     "text": [
      "/home/li/anaconda3/envs/ml/lib/python3.7/site-packages/sklearn/feature_extraction/text.py:17: DeprecationWarning: Using or importing the ABCs from 'collections' instead of from 'collections.abc' is deprecated, and in 3.8 it will stop working\n",
      "  from collections import Mapping, defaultdict\n"
     ]
    }
   ],
   "source": [
    "import pymongo\n",
    "from tqdm import tqdm\n",
    "import os\n",
    "import markdown\n",
    "import re\n",
    "from nltk.stem import PorterStemmer\n",
    "st=PorterStemmer()"
   ]
  },
  {
   "cell_type": "code",
   "execution_count": 4,
   "metadata": {},
   "outputs": [],
   "source": [
    "client = pymongo.MongoClient(host=\"192.168.0.106\", port=29197)\n",
    "client[\"github\"].authenticate(\"github\", \"git332\", \"github\")\n",
    "db = client[\"github\"]"
   ]
  },
  {
   "cell_type": "code",
   "execution_count": 12,
   "metadata": {},
   "outputs": [],
   "source": [
    "db1 = db.pypi_require_map\n",
    "db2 = db.pypi_require_map_detail\n",
    "db3 = db.pypi_tag_stem_top100"
   ]
  },
  {
   "cell_type": "code",
   "execution_count": 35,
   "metadata": {},
   "outputs": [
    {
     "data": {
      "text/plain": [
       "0"
      ]
     },
     "execution_count": 35,
     "metadata": {},
     "output_type": "execute_result"
    }
   ],
   "source": [
    "\"php\".find(\"php\")"
   ]
  },
  {
   "cell_type": "code",
   "execution_count": 6,
   "metadata": {},
   "outputs": [
    {
     "name": "stderr",
     "output_type": "stream",
     "text": [
      "5371it [00:35, 149.73it/s]\n"
     ]
    }
   ],
   "source": [
    "tag_map = {}\n",
    "i = 0\n",
    "for d in tqdm(db1.find()):\n",
    "    i += 1\n",
    "    if db2.find_one({\"name\":d[\"require\"]}):\n",
    "        d2 = db2.find_one({\"name\":d[\"require\"]})\n",
    "        if \"keywords\" in d2:\n",
    "            for k in d2[\"keywords\"]:\n",
    "                if k.find(\"python\") == -1:\n",
    "                    k = st.stem(k)\n",
    "                    if k in tag_map:\n",
    "                        tag_map[k] += d[\"count\"]\n",
    "                    else:\n",
    "                        tag_map[k] = d[\"count\"]\n",
    "# for d in db2.find():\n",
    "#     i += 1\n",
    "#     if \"keywords\" in d:\n",
    "#         for k in d[\"keywords\"]:\n",
    "#             if k in tag_map:\n",
    "#                 tag_map[k] += 1\n",
    "#             else:\n",
    "#                 tag_map[k] = 1\n",
    "                \n",
    "# for d in db3.find():\n",
    "#     i += 1\n",
    "#     if \"keywords\" in d:\n",
    "#         for k in d[\"keywords\"]:\n",
    "#             if k in tag_map:\n",
    "#                 tag_map[k] += 1\n",
    "#             else:\n",
    "#                 tag_map[k] = 1"
   ]
  },
  {
   "cell_type": "code",
   "execution_count": 10,
   "metadata": {},
   "outputs": [
    {
     "data": {
      "text/plain": [
       "[('http', 2040),\n",
       " ('client', 1472),\n",
       " ('request', 1433),\n",
       " ('kennethreitz', 1415),\n",
       " ('forhuman', 1412),\n",
       " ('numpi', 1226),\n",
       " ('time', 1093),\n",
       " ('test', 962),\n",
       " ('jinja', 818),\n",
       " ('datetim', 778),\n",
       " ('timezon', 767),\n",
       " ('django', 751),\n",
       " ('wsgi', 712),\n",
       " ('data-analysi', 695),\n",
       " ('pars', 691),\n",
       " ('cli', 682),\n",
       " ('imag', 659),\n",
       " ('machine-learn', 633),\n",
       " ('templat', 609),\n",
       " ('librari', 580),\n",
       " ('flask', 577),\n",
       " ('werkzeug', 551),\n",
       " ('data-sci', 538),\n",
       " ('c', 492),\n",
       " ('template-engin', 476),\n",
       " ('network', 458),\n",
       " ('panda', 455),\n",
       " ('web', 454),\n",
       " ('termin', 438),\n",
       " ('flexibl', 422),\n",
       " ('align', 420),\n",
       " ('parallel', 408),\n",
       " ('consol', 407),\n",
       " ('unittest', 392),\n",
       " ('redi', 386),\n",
       " ('tzinfo', 369),\n",
       " ('olson', 369),\n",
       " ('unit-test', 358),\n",
       " ('web-framework', 352),\n",
       " ('cross-platform', 351),\n",
       " ('image-process', 343),\n",
       " ('shell', 325),\n",
       " ('yaml', 324),\n",
       " ('gui', 323),\n",
       " ('pil', 322),\n",
       " ('pillow', 322),\n",
       " ('framework', 320),\n",
       " ('asyncio', 320),\n",
       " ('progress-bar', 315),\n",
       " ('progress', 314),\n",
       " ('util', 312),\n",
       " ('click', 311),\n",
       " ('bar', 311),\n",
       " ('eta', 311),\n",
       " ('progressbar', 311),\n",
       " ('rate', 311),\n",
       " ('pep8', 306),\n",
       " ('cryptographi', 303),\n",
       " ('jinja2', 294),\n",
       " ('statist', 291),\n",
       " ('tensorflow tensor machine learn', 290),\n",
       " ('model', 288),\n",
       " ('interact', 287),\n",
       " ('interpret', 287),\n",
       " ('progressbar progressmeter progress bar meter rate eta console terminal tim',\n",
       "  284),\n",
       " ('meter', 284),\n",
       " ('progressmet', 284),\n",
       " ('orm', 276),\n",
       " ('view', 276),\n",
       " ('secur', 270),\n",
       " ('app', 270),\n",
       " ('html', 259),\n",
       " ('nlp', 257),\n",
       " ('wheel', 254),\n",
       " ('urllib httplib threadsafe filepost http https ssl pool', 252),\n",
       " ('xml', 247),\n",
       " ('http-server', 240),\n",
       " ('serial', 238),\n",
       " ('dn', 238),\n",
       " ('monitor', 238),\n",
       " ('api', 237),\n",
       " ('encod', 227),\n",
       " ('i18n', 214),\n",
       " ('plugin', 206),\n",
       " ('key-value stor', 206),\n",
       " ('perform', 197),\n",
       " ('html-escap', 197),\n",
       " ('markupsaf', 197),\n",
       " ('deep-learn', 195),\n",
       " ('databas', 192),\n",
       " ('linux', 192),\n",
       " ('pycodestyl', 191),\n",
       " ('unicod', 191),\n",
       " ('cpan pypi distutils eggs package manag', 190),\n",
       " ('rest', 185),\n",
       " ('test unittest doctest automatic discoveri', 183),\n",
       " ('tti', 183),\n",
       " ('process', 182),\n",
       " ('code coverage test', 180),\n",
       " ('metric', 178)]"
      ]
     },
     "execution_count": 10,
     "metadata": {},
     "output_type": "execute_result"
    }
   ],
   "source": [
    "sorted(tag_map.items(), key=lambda d: d[1], reverse=True)[:100]"
   ]
  },
  {
   "cell_type": "code",
   "execution_count": 6,
   "metadata": {},
   "outputs": [
    {
     "data": {
      "text/plain": [
       "[('python', 12465),\n",
       " ('http', 2025),\n",
       " ('client', 1470),\n",
       " ('python-requests', 1454),\n",
       " ('requests', 1427),\n",
       " ('kennethreitz', 1415),\n",
       " ('forhumans', 1412),\n",
       " ('numpy', 1226),\n",
       " ('time', 1088),\n",
       " ('python-3', 836),\n",
       " ('jinja', 818),\n",
       " ('datetime', 775),\n",
       " ('django', 746),\n",
       " ('wsgi', 712),\n",
       " ('data-analysis', 695),\n",
       " ('cli', 679),\n",
       " ('parsing', 677),\n",
       " ('machine-learning', 633),\n",
       " ('templates', 594),\n",
       " ('python3', 588),\n",
       " ('testing', 579),\n",
       " ('library', 577),\n",
       " ('flask', 574),\n",
       " ('werkzeug', 551),\n",
       " ('data-science', 538),\n",
       " ('python2', 505),\n",
       " ('c', 492),\n",
       " ('template-engine', 476),\n",
       " ('pandas', 455),\n",
       " ('terminal', 438),\n",
       " ('flexible', 422),\n",
       " ('alignment', 420),\n",
       " ('console', 407),\n",
       " ('parallel', 402),\n",
       " ('timezones', 396),\n",
       " ('unittest', 387),\n",
       " ('timezone', 371),\n",
       " ('tzinfo', 369),\n",
       " ('olson', 369),\n",
       " ('test', 359),\n",
       " ('python-2', 358),\n",
       " ('unit-testing', 353),\n",
       " ('web-framework', 352),\n",
       " ('cross-platform', 351),\n",
       " ('image-processing', 343),\n",
       " ('image', 330),\n",
       " ('yaml', 323),\n",
       " ('Imaging', 322),\n",
       " ('pil', 322),\n",
       " ('pillow', 322),\n",
       " ('asyncio', 320),\n",
       " ('framework', 317),\n",
       " ('progress-bar', 315),\n",
       " ('progress', 314),\n",
       " ('click', 311),\n",
       " ('bar', 311),\n",
       " ('eta', 311),\n",
       " ('gui', 311),\n",
       " ('progressbar', 311),\n",
       " ('rate', 311),\n",
       " ('pep8', 306),\n",
       " ('cryptography', 303),\n",
       " ('web', 302),\n",
       " ('utilities', 300),\n",
       " ('tensorflow tensor machine learning', 290),\n",
       " ('statistics', 290),\n",
       " ('Interactive', 287),\n",
       " ('Interpreter', 287),\n",
       " ('Shell', 287),\n",
       " ('python-library', 286),\n",
       " ('jinja2', 285),\n",
       " ('progressbar progressmeter progress bar meter rate eta console terminal time',\n",
       "  284),\n",
       " ('meter', 284),\n",
       " ('progressmeter', 284),\n",
       " ('network', 282),\n",
       " ('models', 277),\n",
       " ('orm', 276),\n",
       " ('views', 276),\n",
       " ('security', 269),\n",
       " ('apps', 268),\n",
       " ('wheel', 254),\n",
       " ('html', 253),\n",
       " ('urllib httplib threadsafe filepost http https ssl pooling', 252),\n",
       " ('future past python3 migration futurize backport six 2to3 modernize pasteurize 3to2',\n",
       "  244),\n",
       " ('xml', 242),\n",
       " ('monitoring', 238),\n",
       " ('http-server', 238),\n",
       " ('dns', 236),\n",
       " ('Redis', 230),\n",
       " ('api', 229),\n",
       " ('serialization', 227),\n",
       " ('encoding', 221),\n",
       " ('i18n', 214),\n",
       " ('key-value store', 206),\n",
       " ('performance', 197),\n",
       " ('html-escape', 197),\n",
       " ('markupsafe', 197),\n",
       " ('deep-learning', 195),\n",
       " ('plugins', 193),\n",
       " ('database', 192)]"
      ]
     },
     "execution_count": 6,
     "metadata": {},
     "output_type": "execute_result"
    }
   ],
   "source": [
    "sorted(tag_map.items(), key=lambda d: d[1], reverse=True)[:100]"
   ]
  },
  {
   "cell_type": "code",
   "execution_count": 11,
   "metadata": {},
   "outputs": [],
   "source": [
    "composer_tag_top100 = sorted(tag_map.items(), key=lambda d: d[1], reverse=True)[:100]"
   ]
  },
  {
   "cell_type": "code",
   "execution_count": 13,
   "metadata": {},
   "outputs": [],
   "source": [
    "for t in composer_tag_top100:\n",
    "    db3.insert_one({\"name\":t[0],\"count\":t[1]})"
   ]
  }
 ],
 "metadata": {
  "kernelspec": {
   "display_name": "ml",
   "language": "python",
   "name": "ml"
  },
  "language_info": {
   "codemirror_mode": {
    "name": "ipython",
    "version": 3
   },
   "file_extension": ".py",
   "mimetype": "text/x-python",
   "name": "python",
   "nbconvert_exporter": "python",
   "pygments_lexer": "ipython3",
   "version": "3.7.2"
  }
 },
 "nbformat": 4,
 "nbformat_minor": 2
}
